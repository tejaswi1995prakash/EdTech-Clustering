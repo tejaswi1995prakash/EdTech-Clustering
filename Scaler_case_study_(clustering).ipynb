{
  "nbformat": 4,
  "nbformat_minor": 0,
  "metadata": {
    "colab": {
      "provenance": [],
      "collapsed_sections": []
    },
    "kernelspec": {
      "name": "python3",
      "display_name": "Python 3"
    },
    "language_info": {
      "name": "python"
    }
  },
  "cells": [
    {
      "cell_type": "markdown",
      "source": [
        "# **Scaler Case Study**\n",
        "![image.png](data:image/png;base64,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)"
      ],
      "metadata": {
        "id": "Q_lD2iJJd3Bo"
      }
    },
    {
      "cell_type": "markdown",
      "source": [
        "**About Scaler**: No Introduction needed ❗\n",
        "\n",
        "**Problem Statement**:\n",
        "To help profile the best companies and job positions to work for from the Scaler database on the basis of their job profile, company, and other features \n",
        "\n"
      ],
      "metadata": {
        "id": "gydDaot4eL87"
      }
    },
    {
      "cell_type": "code",
      "execution_count": null,
      "metadata": {
        "id": "jyHEW6Aoc6rH"
      },
      "outputs": [],
      "source": [
        "#Importing the libraries\n",
        "import pandas as pd\n",
        "import numpy as np\n",
        "import matplotlib.pyplot as plt\n",
        "import seaborn as sns\n",
        "import regex as re\n",
        "import datetime"
      ]
    },
    {
      "cell_type": "code",
      "source": [
        "#Importing the data set\n",
        "df = pd.read_csv('/content/scaler_clustering.csv')"
      ],
      "metadata": {
        "id": "FpVbqqaZdx3H"
      },
      "execution_count": null,
      "outputs": []
    },
    {
      "cell_type": "code",
      "source": [
        "#first look at the dataset\n",
        "df.head()"
      ],
      "metadata": {
        "colab": {
          "base_uri": "https://localhost:8080/",
          "height": 206
        },
        "id": "P9MFhzWxeFYH",
        "outputId": "d4fe94b3-93c2-4d14-ea0d-422f4ee6b8d7"
      },
      "execution_count": null,
      "outputs": [
        {
          "output_type": "execute_result",
          "data": {
            "text/plain": [
              "   Unnamed: 0               company_hash  \\\n",
              "0           0             atrgxnnt xzaxv   \n",
              "1           1  qtrxvzwt xzegwgbb rxbxnta   \n",
              "2           2              ojzwnvwnxw vx   \n",
              "3           3                  ngpgutaxv   \n",
              "4           4                 qxen sqghu   \n",
              "\n",
              "                                          email_hash  orgyear      ctc  \\\n",
              "0  6de0a4417d18ab14334c3f43397fc13b30c35149d70c05...   2016.0  1100000   \n",
              "1  b0aaf1ac138b53cb6e039ba2c3d6604a250d02d5145c10...   2018.0   449999   \n",
              "2  4860c670bcd48fb96c02a4b0ae3608ae6fdd98176112e9...   2015.0  2000000   \n",
              "3  effdede7a2e7c2af664c8a31d9346385016128d66bbc58...   2017.0   700000   \n",
              "4  6ff54e709262f55cb999a1c1db8436cb2055d8f79ab520...   2017.0  1400000   \n",
              "\n",
              "         job_position  ctc_updated_year  \n",
              "0               Other            2020.0  \n",
              "1  FullStack Engineer            2019.0  \n",
              "2    Backend Engineer            2020.0  \n",
              "3    Backend Engineer            2019.0  \n",
              "4  FullStack Engineer            2019.0  "
            ],
            "text/html": [
              "\n",
              "  <div id=\"df-5cd91862-8104-4872-a4a4-0f1d90417a2c\">\n",
              "    <div class=\"colab-df-container\">\n",
              "      <div>\n",
              "<style scoped>\n",
              "    .dataframe tbody tr th:only-of-type {\n",
              "        vertical-align: middle;\n",
              "    }\n",
              "\n",
              "    .dataframe tbody tr th {\n",
              "        vertical-align: top;\n",
              "    }\n",
              "\n",
              "    .dataframe thead th {\n",
              "        text-align: right;\n",
              "    }\n",
              "</style>\n",
              "<table border=\"1\" class=\"dataframe\">\n",
              "  <thead>\n",
              "    <tr style=\"text-align: right;\">\n",
              "      <th></th>\n",
              "      <th>Unnamed: 0</th>\n",
              "      <th>company_hash</th>\n",
              "      <th>email_hash</th>\n",
              "      <th>orgyear</th>\n",
              "      <th>ctc</th>\n",
              "      <th>job_position</th>\n",
              "      <th>ctc_updated_year</th>\n",
              "    </tr>\n",
              "  </thead>\n",
              "  <tbody>\n",
              "    <tr>\n",
              "      <th>0</th>\n",
              "      <td>0</td>\n",
              "      <td>atrgxnnt xzaxv</td>\n",
              "      <td>6de0a4417d18ab14334c3f43397fc13b30c35149d70c05...</td>\n",
              "      <td>2016.0</td>\n",
              "      <td>1100000</td>\n",
              "      <td>Other</td>\n",
              "      <td>2020.0</td>\n",
              "    </tr>\n",
              "    <tr>\n",
              "      <th>1</th>\n",
              "      <td>1</td>\n",
              "      <td>qtrxvzwt xzegwgbb rxbxnta</td>\n",
              "      <td>b0aaf1ac138b53cb6e039ba2c3d6604a250d02d5145c10...</td>\n",
              "      <td>2018.0</td>\n",
              "      <td>449999</td>\n",
              "      <td>FullStack Engineer</td>\n",
              "      <td>2019.0</td>\n",
              "    </tr>\n",
              "    <tr>\n",
              "      <th>2</th>\n",
              "      <td>2</td>\n",
              "      <td>ojzwnvwnxw vx</td>\n",
              "      <td>4860c670bcd48fb96c02a4b0ae3608ae6fdd98176112e9...</td>\n",
              "      <td>2015.0</td>\n",
              "      <td>2000000</td>\n",
              "      <td>Backend Engineer</td>\n",
              "      <td>2020.0</td>\n",
              "    </tr>\n",
              "    <tr>\n",
              "      <th>3</th>\n",
              "      <td>3</td>\n",
              "      <td>ngpgutaxv</td>\n",
              "      <td>effdede7a2e7c2af664c8a31d9346385016128d66bbc58...</td>\n",
              "      <td>2017.0</td>\n",
              "      <td>700000</td>\n",
              "      <td>Backend Engineer</td>\n",
              "      <td>2019.0</td>\n",
              "    </tr>\n",
              "    <tr>\n",
              "      <th>4</th>\n",
              "      <td>4</td>\n",
              "      <td>qxen sqghu</td>\n",
              "      <td>6ff54e709262f55cb999a1c1db8436cb2055d8f79ab520...</td>\n",
              "      <td>2017.0</td>\n",
              "      <td>1400000</td>\n",
              "      <td>FullStack Engineer</td>\n",
              "      <td>2019.0</td>\n",
              "    </tr>\n",
              "  </tbody>\n",
              "</table>\n",
              "</div>\n",
              "      <button class=\"colab-df-convert\" onclick=\"convertToInteractive('df-5cd91862-8104-4872-a4a4-0f1d90417a2c')\"\n",
              "              title=\"Convert this dataframe to an interactive table.\"\n",
              "              style=\"display:none;\">\n",
              "        \n",
              "  <svg xmlns=\"http://www.w3.org/2000/svg\" height=\"24px\"viewBox=\"0 0 24 24\"\n",
              "       width=\"24px\">\n",
              "    <path d=\"M0 0h24v24H0V0z\" fill=\"none\"/>\n",
              "    <path d=\"M18.56 5.44l.94 2.06.94-2.06 2.06-.94-2.06-.94-.94-2.06-.94 2.06-2.06.94zm-11 1L8.5 8.5l.94-2.06 2.06-.94-2.06-.94L8.5 2.5l-.94 2.06-2.06.94zm10 10l.94 2.06.94-2.06 2.06-.94-2.06-.94-.94-2.06-.94 2.06-2.06.94z\"/><path d=\"M17.41 7.96l-1.37-1.37c-.4-.4-.92-.59-1.43-.59-.52 0-1.04.2-1.43.59L10.3 9.45l-7.72 7.72c-.78.78-.78 2.05 0 2.83L4 21.41c.39.39.9.59 1.41.59.51 0 1.02-.2 1.41-.59l7.78-7.78 2.81-2.81c.8-.78.8-2.07 0-2.86zM5.41 20L4 18.59l7.72-7.72 1.47 1.35L5.41 20z\"/>\n",
              "  </svg>\n",
              "      </button>\n",
              "      \n",
              "  <style>\n",
              "    .colab-df-container {\n",
              "      display:flex;\n",
              "      flex-wrap:wrap;\n",
              "      gap: 12px;\n",
              "    }\n",
              "\n",
              "    .colab-df-convert {\n",
              "      background-color: #E8F0FE;\n",
              "      border: none;\n",
              "      border-radius: 50%;\n",
              "      cursor: pointer;\n",
              "      display: none;\n",
              "      fill: #1967D2;\n",
              "      height: 32px;\n",
              "      padding: 0 0 0 0;\n",
              "      width: 32px;\n",
              "    }\n",
              "\n",
              "    .colab-df-convert:hover {\n",
              "      background-color: #E2EBFA;\n",
              "      box-shadow: 0px 1px 2px rgba(60, 64, 67, 0.3), 0px 1px 3px 1px rgba(60, 64, 67, 0.15);\n",
              "      fill: #174EA6;\n",
              "    }\n",
              "\n",
              "    [theme=dark] .colab-df-convert {\n",
              "      background-color: #3B4455;\n",
              "      fill: #D2E3FC;\n",
              "    }\n",
              "\n",
              "    [theme=dark] .colab-df-convert:hover {\n",
              "      background-color: #434B5C;\n",
              "      box-shadow: 0px 1px 3px 1px rgba(0, 0, 0, 0.15);\n",
              "      filter: drop-shadow(0px 1px 2px rgba(0, 0, 0, 0.3));\n",
              "      fill: #FFFFFF;\n",
              "    }\n",
              "  </style>\n",
              "\n",
              "      <script>\n",
              "        const buttonEl =\n",
              "          document.querySelector('#df-5cd91862-8104-4872-a4a4-0f1d90417a2c button.colab-df-convert');\n",
              "        buttonEl.style.display =\n",
              "          google.colab.kernel.accessAllowed ? 'block' : 'none';\n",
              "\n",
              "        async function convertToInteractive(key) {\n",
              "          const element = document.querySelector('#df-5cd91862-8104-4872-a4a4-0f1d90417a2c');\n",
              "          const dataTable =\n",
              "            await google.colab.kernel.invokeFunction('convertToInteractive',\n",
              "                                                     [key], {});\n",
              "          if (!dataTable) return;\n",
              "\n",
              "          const docLinkHtml = 'Like what you see? Visit the ' +\n",
              "            '<a target=\"_blank\" href=https://colab.research.google.com/notebooks/data_table.ipynb>data table notebook</a>'\n",
              "            + ' to learn more about interactive tables.';\n",
              "          element.innerHTML = '';\n",
              "          dataTable['output_type'] = 'display_data';\n",
              "          await google.colab.output.renderOutput(dataTable, element);\n",
              "          const docLink = document.createElement('div');\n",
              "          docLink.innerHTML = docLinkHtml;\n",
              "          element.appendChild(docLink);\n",
              "        }\n",
              "      </script>\n",
              "    </div>\n",
              "  </div>\n",
              "  "
            ]
          },
          "metadata": {},
          "execution_count": 317
        }
      ]
    },
    {
      "cell_type": "code",
      "source": [
        "df.shape"
      ],
      "metadata": {
        "colab": {
          "base_uri": "https://localhost:8080/"
        },
        "id": "UDkHmqYkg3Fo",
        "outputId": "22c9bb00-012d-4f2b-933d-b208edeb7ef7"
      },
      "execution_count": null,
      "outputs": [
        {
          "output_type": "execute_result",
          "data": {
            "text/plain": [
              "(205843, 7)"
            ]
          },
          "metadata": {},
          "execution_count": 318
        }
      ]
    },
    {
      "cell_type": "markdown",
      "source": [
        "We have \n",
        "* 205843 rows\n",
        "* 7 columns "
      ],
      "metadata": {
        "id": "8t7eN-ma3DF6"
      }
    },
    {
      "cell_type": "code",
      "source": [
        "df.describe(include='all').T"
      ],
      "metadata": {
        "colab": {
          "base_uri": "https://localhost:8080/",
          "height": 333
        },
        "id": "I0DJzO_etDA1",
        "outputId": "cc2ca1f1-dc8b-45f4-d10f-9eb07c7fe426"
      },
      "execution_count": null,
      "outputs": [
        {
          "output_type": "execute_result",
          "data": {
            "text/plain": [
              "                     count  unique  \\\n",
              "Unnamed: 0        205843.0     NaN   \n",
              "company_hash        205799   37299   \n",
              "email_hash          205843  153443   \n",
              "orgyear           205757.0     NaN   \n",
              "ctc               205843.0     NaN   \n",
              "job_position        153281    1017   \n",
              "ctc_updated_year  205843.0     NaN   \n",
              "\n",
              "                                                                top   freq  \\\n",
              "Unnamed: 0                                                      NaN    NaN   \n",
              "company_hash                              nvnv wgzohrnvzwj otqcxwto   8337   \n",
              "email_hash        bbace3cc586400bbc65765bc6a16b77d8913836cfc98b7...     10   \n",
              "orgyear                                                         NaN    NaN   \n",
              "ctc                                                             NaN    NaN   \n",
              "job_position                                       Backend Engineer  43554   \n",
              "ctc_updated_year                                                NaN    NaN   \n",
              "\n",
              "                            mean              std     min       25%       50%  \\\n",
              "Unnamed: 0         103273.941786     59741.306484     0.0   51518.5  103151.0   \n",
              "company_hash                 NaN              NaN     NaN       NaN       NaN   \n",
              "email_hash                   NaN              NaN     NaN       NaN       NaN   \n",
              "orgyear               2014.88275        63.571115     0.0    2013.0    2016.0   \n",
              "ctc               2271685.041993  11800914.440025     2.0  530000.0  950000.0   \n",
              "job_position                 NaN              NaN     NaN       NaN       NaN   \n",
              "ctc_updated_year     2019.628231         1.325104  2015.0    2019.0    2020.0   \n",
              "\n",
              "                        75%           max  \n",
              "Unnamed: 0         154992.5      206922.0  \n",
              "company_hash            NaN           NaN  \n",
              "email_hash              NaN           NaN  \n",
              "orgyear              2018.0       20165.0  \n",
              "ctc               1700000.0  1000150000.0  \n",
              "job_position            NaN           NaN  \n",
              "ctc_updated_year     2021.0        2021.0  "
            ],
            "text/html": [
              "\n",
              "  <div id=\"df-8ca380a7-25bf-47f3-a2f4-48fe46997bea\">\n",
              "    <div class=\"colab-df-container\">\n",
              "      <div>\n",
              "<style scoped>\n",
              "    .dataframe tbody tr th:only-of-type {\n",
              "        vertical-align: middle;\n",
              "    }\n",
              "\n",
              "    .dataframe tbody tr th {\n",
              "        vertical-align: top;\n",
              "    }\n",
              "\n",
              "    .dataframe thead th {\n",
              "        text-align: right;\n",
              "    }\n",
              "</style>\n",
              "<table border=\"1\" class=\"dataframe\">\n",
              "  <thead>\n",
              "    <tr style=\"text-align: right;\">\n",
              "      <th></th>\n",
              "      <th>count</th>\n",
              "      <th>unique</th>\n",
              "      <th>top</th>\n",
              "      <th>freq</th>\n",
              "      <th>mean</th>\n",
              "      <th>std</th>\n",
              "      <th>min</th>\n",
              "      <th>25%</th>\n",
              "      <th>50%</th>\n",
              "      <th>75%</th>\n",
              "      <th>max</th>\n",
              "    </tr>\n",
              "  </thead>\n",
              "  <tbody>\n",
              "    <tr>\n",
              "      <th>Unnamed: 0</th>\n",
              "      <td>205843.0</td>\n",
              "      <td>NaN</td>\n",
              "      <td>NaN</td>\n",
              "      <td>NaN</td>\n",
              "      <td>103273.941786</td>\n",
              "      <td>59741.306484</td>\n",
              "      <td>0.0</td>\n",
              "      <td>51518.5</td>\n",
              "      <td>103151.0</td>\n",
              "      <td>154992.5</td>\n",
              "      <td>206922.0</td>\n",
              "    </tr>\n",
              "    <tr>\n",
              "      <th>company_hash</th>\n",
              "      <td>205799</td>\n",
              "      <td>37299</td>\n",
              "      <td>nvnv wgzohrnvzwj otqcxwto</td>\n",
              "      <td>8337</td>\n",
              "      <td>NaN</td>\n",
              "      <td>NaN</td>\n",
              "      <td>NaN</td>\n",
              "      <td>NaN</td>\n",
              "      <td>NaN</td>\n",
              "      <td>NaN</td>\n",
              "      <td>NaN</td>\n",
              "    </tr>\n",
              "    <tr>\n",
              "      <th>email_hash</th>\n",
              "      <td>205843</td>\n",
              "      <td>153443</td>\n",
              "      <td>bbace3cc586400bbc65765bc6a16b77d8913836cfc98b7...</td>\n",
              "      <td>10</td>\n",
              "      <td>NaN</td>\n",
              "      <td>NaN</td>\n",
              "      <td>NaN</td>\n",
              "      <td>NaN</td>\n",
              "      <td>NaN</td>\n",
              "      <td>NaN</td>\n",
              "      <td>NaN</td>\n",
              "    </tr>\n",
              "    <tr>\n",
              "      <th>orgyear</th>\n",
              "      <td>205757.0</td>\n",
              "      <td>NaN</td>\n",
              "      <td>NaN</td>\n",
              "      <td>NaN</td>\n",
              "      <td>2014.88275</td>\n",
              "      <td>63.571115</td>\n",
              "      <td>0.0</td>\n",
              "      <td>2013.0</td>\n",
              "      <td>2016.0</td>\n",
              "      <td>2018.0</td>\n",
              "      <td>20165.0</td>\n",
              "    </tr>\n",
              "    <tr>\n",
              "      <th>ctc</th>\n",
              "      <td>205843.0</td>\n",
              "      <td>NaN</td>\n",
              "      <td>NaN</td>\n",
              "      <td>NaN</td>\n",
              "      <td>2271685.041993</td>\n",
              "      <td>11800914.440025</td>\n",
              "      <td>2.0</td>\n",
              "      <td>530000.0</td>\n",
              "      <td>950000.0</td>\n",
              "      <td>1700000.0</td>\n",
              "      <td>1000150000.0</td>\n",
              "    </tr>\n",
              "    <tr>\n",
              "      <th>job_position</th>\n",
              "      <td>153281</td>\n",
              "      <td>1017</td>\n",
              "      <td>Backend Engineer</td>\n",
              "      <td>43554</td>\n",
              "      <td>NaN</td>\n",
              "      <td>NaN</td>\n",
              "      <td>NaN</td>\n",
              "      <td>NaN</td>\n",
              "      <td>NaN</td>\n",
              "      <td>NaN</td>\n",
              "      <td>NaN</td>\n",
              "    </tr>\n",
              "    <tr>\n",
              "      <th>ctc_updated_year</th>\n",
              "      <td>205843.0</td>\n",
              "      <td>NaN</td>\n",
              "      <td>NaN</td>\n",
              "      <td>NaN</td>\n",
              "      <td>2019.628231</td>\n",
              "      <td>1.325104</td>\n",
              "      <td>2015.0</td>\n",
              "      <td>2019.0</td>\n",
              "      <td>2020.0</td>\n",
              "      <td>2021.0</td>\n",
              "      <td>2021.0</td>\n",
              "    </tr>\n",
              "  </tbody>\n",
              "</table>\n",
              "</div>\n",
              "      <button class=\"colab-df-convert\" onclick=\"convertToInteractive('df-8ca380a7-25bf-47f3-a2f4-48fe46997bea')\"\n",
              "              title=\"Convert this dataframe to an interactive table.\"\n",
              "              style=\"display:none;\">\n",
              "        \n",
              "  <svg xmlns=\"http://www.w3.org/2000/svg\" height=\"24px\"viewBox=\"0 0 24 24\"\n",
              "       width=\"24px\">\n",
              "    <path d=\"M0 0h24v24H0V0z\" fill=\"none\"/>\n",
              "    <path d=\"M18.56 5.44l.94 2.06.94-2.06 2.06-.94-2.06-.94-.94-2.06-.94 2.06-2.06.94zm-11 1L8.5 8.5l.94-2.06 2.06-.94-2.06-.94L8.5 2.5l-.94 2.06-2.06.94zm10 10l.94 2.06.94-2.06 2.06-.94-2.06-.94-.94-2.06-.94 2.06-2.06.94z\"/><path d=\"M17.41 7.96l-1.37-1.37c-.4-.4-.92-.59-1.43-.59-.52 0-1.04.2-1.43.59L10.3 9.45l-7.72 7.72c-.78.78-.78 2.05 0 2.83L4 21.41c.39.39.9.59 1.41.59.51 0 1.02-.2 1.41-.59l7.78-7.78 2.81-2.81c.8-.78.8-2.07 0-2.86zM5.41 20L4 18.59l7.72-7.72 1.47 1.35L5.41 20z\"/>\n",
              "  </svg>\n",
              "      </button>\n",
              "      \n",
              "  <style>\n",
              "    .colab-df-container {\n",
              "      display:flex;\n",
              "      flex-wrap:wrap;\n",
              "      gap: 12px;\n",
              "    }\n",
              "\n",
              "    .colab-df-convert {\n",
              "      background-color: #E8F0FE;\n",
              "      border: none;\n",
              "      border-radius: 50%;\n",
              "      cursor: pointer;\n",
              "      display: none;\n",
              "      fill: #1967D2;\n",
              "      height: 32px;\n",
              "      padding: 0 0 0 0;\n",
              "      width: 32px;\n",
              "    }\n",
              "\n",
              "    .colab-df-convert:hover {\n",
              "      background-color: #E2EBFA;\n",
              "      box-shadow: 0px 1px 2px rgba(60, 64, 67, 0.3), 0px 1px 3px 1px rgba(60, 64, 67, 0.15);\n",
              "      fill: #174EA6;\n",
              "    }\n",
              "\n",
              "    [theme=dark] .colab-df-convert {\n",
              "      background-color: #3B4455;\n",
              "      fill: #D2E3FC;\n",
              "    }\n",
              "\n",
              "    [theme=dark] .colab-df-convert:hover {\n",
              "      background-color: #434B5C;\n",
              "      box-shadow: 0px 1px 3px 1px rgba(0, 0, 0, 0.15);\n",
              "      filter: drop-shadow(0px 1px 2px rgba(0, 0, 0, 0.3));\n",
              "      fill: #FFFFFF;\n",
              "    }\n",
              "  </style>\n",
              "\n",
              "      <script>\n",
              "        const buttonEl =\n",
              "          document.querySelector('#df-8ca380a7-25bf-47f3-a2f4-48fe46997bea button.colab-df-convert');\n",
              "        buttonEl.style.display =\n",
              "          google.colab.kernel.accessAllowed ? 'block' : 'none';\n",
              "\n",
              "        async function convertToInteractive(key) {\n",
              "          const element = document.querySelector('#df-8ca380a7-25bf-47f3-a2f4-48fe46997bea');\n",
              "          const dataTable =\n",
              "            await google.colab.kernel.invokeFunction('convertToInteractive',\n",
              "                                                     [key], {});\n",
              "          if (!dataTable) return;\n",
              "\n",
              "          const docLinkHtml = 'Like what you see? Visit the ' +\n",
              "            '<a target=\"_blank\" href=https://colab.research.google.com/notebooks/data_table.ipynb>data table notebook</a>'\n",
              "            + ' to learn more about interactive tables.';\n",
              "          element.innerHTML = '';\n",
              "          dataTable['output_type'] = 'display_data';\n",
              "          await google.colab.output.renderOutput(dataTable, element);\n",
              "          const docLink = document.createElement('div');\n",
              "          docLink.innerHTML = docLinkHtml;\n",
              "          element.appendChild(docLink);\n",
              "        }\n",
              "      </script>\n",
              "    </div>\n",
              "  </div>\n",
              "  "
            ]
          },
          "metadata": {},
          "execution_count": 319
        }
      ]
    },
    {
      "cell_type": "markdown",
      "source": [
        "**Observations**\n",
        "* The mean CTC is 22 lakhs while the median CTC is 9.5 lakhs. This shows that the CTC column is right skewed.\n",
        "* The max CTC is around 100 crore rupees which is essentially an outlier.\n",
        "* The top job position of scaler learners is Backend Engineer."
      ],
      "metadata": {
        "id": "lN4mC9SM3Ldw"
      }
    },
    {
      "cell_type": "code",
      "source": [
        "#Getting the unique values\n",
        "df.nunique()"
      ],
      "metadata": {
        "colab": {
          "base_uri": "https://localhost:8080/"
        },
        "id": "islC3lBA4hao",
        "outputId": "a1ac2cb4-9f77-4d40-8d78-4325ef6667ef"
      },
      "execution_count": null,
      "outputs": [
        {
          "output_type": "execute_result",
          "data": {
            "text/plain": [
              "Unnamed: 0          205843\n",
              "company_hash         37299\n",
              "email_hash          153443\n",
              "orgyear                 77\n",
              "ctc                   3360\n",
              "job_position          1017\n",
              "ctc_updated_year         7\n",
              "dtype: int64"
            ]
          },
          "metadata": {},
          "execution_count": 320
        }
      ]
    },
    {
      "cell_type": "markdown",
      "source": [
        "**Unique values**\n",
        "* There are 37299 unique companies\n",
        "* There are 153443 unique emails.\n",
        "* There are 1017 unique job positions\n",
        "\n",
        "**Observations**\n",
        "* Since there are more number of rows than the PII. It goes to say that there might be some learners who have either entered all their work experinece and not just the immediate work. We need to groupby the emails and see if this is true."
      ],
      "metadata": {
        "id": "LOcjTF3u4sT7"
      }
    },
    {
      "cell_type": "code",
      "source": [
        "df.groupby('email_hash').count().sort_values(by=['company_hash'],ascending=False)"
      ],
      "metadata": {
        "colab": {
          "base_uri": "https://localhost:8080/",
          "height": 455
        },
        "id": "EHqFtRTC5LCz",
        "outputId": "a8ea344b-7547-4896-ba22-912a6e8773e3"
      },
      "execution_count": null,
      "outputs": [
        {
          "output_type": "execute_result",
          "data": {
            "text/plain": [
              "                                                    Unnamed: 0  company_hash  \\\n",
              "email_hash                                                                     \n",
              "bbace3cc586400bbc65765bc6a16b77d8913836cfc98b77...          10            10   \n",
              "298528ce3160cc761e4dc37a07337ee2e0589df251d7364...           9             9   \n",
              "6842660273f70e9aa239026ba33bfe82275d6ab0d201240...           9             9   \n",
              "3e5e49daa5527a6d5a33599b238bf9bf31e85b9efa9a94f...           9             9   \n",
              "d598d6f1fb21b45593c2afc1c2f76ae9f4cb7167156cdf9...           8             8   \n",
              "...                                                        ...           ...   \n",
              "f47fbe35140825c07caf830b18058e737a3c6f18c50f503...           2             0   \n",
              "50f183667fd8a115dda5aa345988b314e1d98a3d937ea04...           2             0   \n",
              "cd281f18ef3d9042fab48860b4a7f80ec1d559c3fc2f857...           1             0   \n",
              "8420dc8fe52b5acaf629914b3917fbc37111924b9654042...           1             0   \n",
              "c9af26980cf32f393089c1b33d3e138450e506b2d044a35...           2             0   \n",
              "\n",
              "                                                    orgyear  ctc  \\\n",
              "email_hash                                                         \n",
              "bbace3cc586400bbc65765bc6a16b77d8913836cfc98b77...       10   10   \n",
              "298528ce3160cc761e4dc37a07337ee2e0589df251d7364...        9    9   \n",
              "6842660273f70e9aa239026ba33bfe82275d6ab0d201240...        9    9   \n",
              "3e5e49daa5527a6d5a33599b238bf9bf31e85b9efa9a94f...        9    9   \n",
              "d598d6f1fb21b45593c2afc1c2f76ae9f4cb7167156cdf9...        8    8   \n",
              "...                                                     ...  ...   \n",
              "f47fbe35140825c07caf830b18058e737a3c6f18c50f503...        2    2   \n",
              "50f183667fd8a115dda5aa345988b314e1d98a3d937ea04...        2    2   \n",
              "cd281f18ef3d9042fab48860b4a7f80ec1d559c3fc2f857...        1    1   \n",
              "8420dc8fe52b5acaf629914b3917fbc37111924b9654042...        1    1   \n",
              "c9af26980cf32f393089c1b33d3e138450e506b2d044a35...        2    2   \n",
              "\n",
              "                                                    job_position  \\\n",
              "email_hash                                                         \n",
              "bbace3cc586400bbc65765bc6a16b77d8913836cfc98b77...             8   \n",
              "298528ce3160cc761e4dc37a07337ee2e0589df251d7364...             8   \n",
              "6842660273f70e9aa239026ba33bfe82275d6ab0d201240...             9   \n",
              "3e5e49daa5527a6d5a33599b238bf9bf31e85b9efa9a94f...             9   \n",
              "d598d6f1fb21b45593c2afc1c2f76ae9f4cb7167156cdf9...             6   \n",
              "...                                                          ...   \n",
              "f47fbe35140825c07caf830b18058e737a3c6f18c50f503...             1   \n",
              "50f183667fd8a115dda5aa345988b314e1d98a3d937ea04...             1   \n",
              "cd281f18ef3d9042fab48860b4a7f80ec1d559c3fc2f857...             0   \n",
              "8420dc8fe52b5acaf629914b3917fbc37111924b9654042...             0   \n",
              "c9af26980cf32f393089c1b33d3e138450e506b2d044a35...             1   \n",
              "\n",
              "                                                    ctc_updated_year  \n",
              "email_hash                                                            \n",
              "bbace3cc586400bbc65765bc6a16b77d8913836cfc98b77...                10  \n",
              "298528ce3160cc761e4dc37a07337ee2e0589df251d7364...                 9  \n",
              "6842660273f70e9aa239026ba33bfe82275d6ab0d201240...                 9  \n",
              "3e5e49daa5527a6d5a33599b238bf9bf31e85b9efa9a94f...                 9  \n",
              "d598d6f1fb21b45593c2afc1c2f76ae9f4cb7167156cdf9...                 8  \n",
              "...                                                              ...  \n",
              "f47fbe35140825c07caf830b18058e737a3c6f18c50f503...                 2  \n",
              "50f183667fd8a115dda5aa345988b314e1d98a3d937ea04...                 2  \n",
              "cd281f18ef3d9042fab48860b4a7f80ec1d559c3fc2f857...                 1  \n",
              "8420dc8fe52b5acaf629914b3917fbc37111924b9654042...                 1  \n",
              "c9af26980cf32f393089c1b33d3e138450e506b2d044a35...                 2  \n",
              "\n",
              "[153443 rows x 6 columns]"
            ],
            "text/html": [
              "\n",
              "  <div id=\"df-12a9a7bc-d8f0-49c7-aa27-6269f138f9a4\">\n",
              "    <div class=\"colab-df-container\">\n",
              "      <div>\n",
              "<style scoped>\n",
              "    .dataframe tbody tr th:only-of-type {\n",
              "        vertical-align: middle;\n",
              "    }\n",
              "\n",
              "    .dataframe tbody tr th {\n",
              "        vertical-align: top;\n",
              "    }\n",
              "\n",
              "    .dataframe thead th {\n",
              "        text-align: right;\n",
              "    }\n",
              "</style>\n",
              "<table border=\"1\" class=\"dataframe\">\n",
              "  <thead>\n",
              "    <tr style=\"text-align: right;\">\n",
              "      <th></th>\n",
              "      <th>Unnamed: 0</th>\n",
              "      <th>company_hash</th>\n",
              "      <th>orgyear</th>\n",
              "      <th>ctc</th>\n",
              "      <th>job_position</th>\n",
              "      <th>ctc_updated_year</th>\n",
              "    </tr>\n",
              "    <tr>\n",
              "      <th>email_hash</th>\n",
              "      <th></th>\n",
              "      <th></th>\n",
              "      <th></th>\n",
              "      <th></th>\n",
              "      <th></th>\n",
              "      <th></th>\n",
              "    </tr>\n",
              "  </thead>\n",
              "  <tbody>\n",
              "    <tr>\n",
              "      <th>bbace3cc586400bbc65765bc6a16b77d8913836cfc98b77c05488f02f5714a4b</th>\n",
              "      <td>10</td>\n",
              "      <td>10</td>\n",
              "      <td>10</td>\n",
              "      <td>10</td>\n",
              "      <td>8</td>\n",
              "      <td>10</td>\n",
              "    </tr>\n",
              "    <tr>\n",
              "      <th>298528ce3160cc761e4dc37a07337ee2e0589df251d73645aae209b010210eee</th>\n",
              "      <td>9</td>\n",
              "      <td>9</td>\n",
              "      <td>9</td>\n",
              "      <td>9</td>\n",
              "      <td>8</td>\n",
              "      <td>9</td>\n",
              "    </tr>\n",
              "    <tr>\n",
              "      <th>6842660273f70e9aa239026ba33bfe82275d6ab0d20124021b952b5bc3d07e6c</th>\n",
              "      <td>9</td>\n",
              "      <td>9</td>\n",
              "      <td>9</td>\n",
              "      <td>9</td>\n",
              "      <td>9</td>\n",
              "      <td>9</td>\n",
              "    </tr>\n",
              "    <tr>\n",
              "      <th>3e5e49daa5527a6d5a33599b238bf9bf31e85b9efa9a94f1c88c5e15a6f31378</th>\n",
              "      <td>9</td>\n",
              "      <td>9</td>\n",
              "      <td>9</td>\n",
              "      <td>9</td>\n",
              "      <td>9</td>\n",
              "      <td>9</td>\n",
              "    </tr>\n",
              "    <tr>\n",
              "      <th>d598d6f1fb21b45593c2afc1c2f76ae9f4cb7167156cdf93246d4192a89d8065</th>\n",
              "      <td>8</td>\n",
              "      <td>8</td>\n",
              "      <td>8</td>\n",
              "      <td>8</td>\n",
              "      <td>6</td>\n",
              "      <td>8</td>\n",
              "    </tr>\n",
              "    <tr>\n",
              "      <th>...</th>\n",
              "      <td>...</td>\n",
              "      <td>...</td>\n",
              "      <td>...</td>\n",
              "      <td>...</td>\n",
              "      <td>...</td>\n",
              "      <td>...</td>\n",
              "    </tr>\n",
              "    <tr>\n",
              "      <th>f47fbe35140825c07caf830b18058e737a3c6f18c50f503c535e5efdfbe5ac50</th>\n",
              "      <td>2</td>\n",
              "      <td>0</td>\n",
              "      <td>2</td>\n",
              "      <td>2</td>\n",
              "      <td>1</td>\n",
              "      <td>2</td>\n",
              "    </tr>\n",
              "    <tr>\n",
              "      <th>50f183667fd8a115dda5aa345988b314e1d98a3d937ea047ad82db9148caddbc</th>\n",
              "      <td>2</td>\n",
              "      <td>0</td>\n",
              "      <td>2</td>\n",
              "      <td>2</td>\n",
              "      <td>1</td>\n",
              "      <td>2</td>\n",
              "    </tr>\n",
              "    <tr>\n",
              "      <th>cd281f18ef3d9042fab48860b4a7f80ec1d559c3fc2f857c266fc367b05a4e4d</th>\n",
              "      <td>1</td>\n",
              "      <td>0</td>\n",
              "      <td>1</td>\n",
              "      <td>1</td>\n",
              "      <td>0</td>\n",
              "      <td>1</td>\n",
              "    </tr>\n",
              "    <tr>\n",
              "      <th>8420dc8fe52b5acaf629914b3917fbc37111924b9654042f659f342abb9ea48f</th>\n",
              "      <td>1</td>\n",
              "      <td>0</td>\n",
              "      <td>1</td>\n",
              "      <td>1</td>\n",
              "      <td>0</td>\n",
              "      <td>1</td>\n",
              "    </tr>\n",
              "    <tr>\n",
              "      <th>c9af26980cf32f393089c1b33d3e138450e506b2d044a359a23d117e36362ff5</th>\n",
              "      <td>2</td>\n",
              "      <td>0</td>\n",
              "      <td>2</td>\n",
              "      <td>2</td>\n",
              "      <td>1</td>\n",
              "      <td>2</td>\n",
              "    </tr>\n",
              "  </tbody>\n",
              "</table>\n",
              "<p>153443 rows × 6 columns</p>\n",
              "</div>\n",
              "      <button class=\"colab-df-convert\" onclick=\"convertToInteractive('df-12a9a7bc-d8f0-49c7-aa27-6269f138f9a4')\"\n",
              "              title=\"Convert this dataframe to an interactive table.\"\n",
              "              style=\"display:none;\">\n",
              "        \n",
              "  <svg xmlns=\"http://www.w3.org/2000/svg\" height=\"24px\"viewBox=\"0 0 24 24\"\n",
              "       width=\"24px\">\n",
              "    <path d=\"M0 0h24v24H0V0z\" fill=\"none\"/>\n",
              "    <path d=\"M18.56 5.44l.94 2.06.94-2.06 2.06-.94-2.06-.94-.94-2.06-.94 2.06-2.06.94zm-11 1L8.5 8.5l.94-2.06 2.06-.94-2.06-.94L8.5 2.5l-.94 2.06-2.06.94zm10 10l.94 2.06.94-2.06 2.06-.94-2.06-.94-.94-2.06-.94 2.06-2.06.94z\"/><path d=\"M17.41 7.96l-1.37-1.37c-.4-.4-.92-.59-1.43-.59-.52 0-1.04.2-1.43.59L10.3 9.45l-7.72 7.72c-.78.78-.78 2.05 0 2.83L4 21.41c.39.39.9.59 1.41.59.51 0 1.02-.2 1.41-.59l7.78-7.78 2.81-2.81c.8-.78.8-2.07 0-2.86zM5.41 20L4 18.59l7.72-7.72 1.47 1.35L5.41 20z\"/>\n",
              "  </svg>\n",
              "      </button>\n",
              "      \n",
              "  <style>\n",
              "    .colab-df-container {\n",
              "      display:flex;\n",
              "      flex-wrap:wrap;\n",
              "      gap: 12px;\n",
              "    }\n",
              "\n",
              "    .colab-df-convert {\n",
              "      background-color: #E8F0FE;\n",
              "      border: none;\n",
              "      border-radius: 50%;\n",
              "      cursor: pointer;\n",
              "      display: none;\n",
              "      fill: #1967D2;\n",
              "      height: 32px;\n",
              "      padding: 0 0 0 0;\n",
              "      width: 32px;\n",
              "    }\n",
              "\n",
              "    .colab-df-convert:hover {\n",
              "      background-color: #E2EBFA;\n",
              "      box-shadow: 0px 1px 2px rgba(60, 64, 67, 0.3), 0px 1px 3px 1px rgba(60, 64, 67, 0.15);\n",
              "      fill: #174EA6;\n",
              "    }\n",
              "\n",
              "    [theme=dark] .colab-df-convert {\n",
              "      background-color: #3B4455;\n",
              "      fill: #D2E3FC;\n",
              "    }\n",
              "\n",
              "    [theme=dark] .colab-df-convert:hover {\n",
              "      background-color: #434B5C;\n",
              "      box-shadow: 0px 1px 3px 1px rgba(0, 0, 0, 0.15);\n",
              "      filter: drop-shadow(0px 1px 2px rgba(0, 0, 0, 0.3));\n",
              "      fill: #FFFFFF;\n",
              "    }\n",
              "  </style>\n",
              "\n",
              "      <script>\n",
              "        const buttonEl =\n",
              "          document.querySelector('#df-12a9a7bc-d8f0-49c7-aa27-6269f138f9a4 button.colab-df-convert');\n",
              "        buttonEl.style.display =\n",
              "          google.colab.kernel.accessAllowed ? 'block' : 'none';\n",
              "\n",
              "        async function convertToInteractive(key) {\n",
              "          const element = document.querySelector('#df-12a9a7bc-d8f0-49c7-aa27-6269f138f9a4');\n",
              "          const dataTable =\n",
              "            await google.colab.kernel.invokeFunction('convertToInteractive',\n",
              "                                                     [key], {});\n",
              "          if (!dataTable) return;\n",
              "\n",
              "          const docLinkHtml = 'Like what you see? Visit the ' +\n",
              "            '<a target=\"_blank\" href=https://colab.research.google.com/notebooks/data_table.ipynb>data table notebook</a>'\n",
              "            + ' to learn more about interactive tables.';\n",
              "          element.innerHTML = '';\n",
              "          dataTable['output_type'] = 'display_data';\n",
              "          await google.colab.output.renderOutput(dataTable, element);\n",
              "          const docLink = document.createElement('div');\n",
              "          docLink.innerHTML = docLinkHtml;\n",
              "          element.appendChild(docLink);\n",
              "        }\n",
              "      </script>\n",
              "    </div>\n",
              "  </div>\n",
              "  "
            ]
          },
          "metadata": {},
          "execution_count": 321
        }
      ]
    },
    {
      "cell_type": "code",
      "source": [
        "df[df['email_hash'] == 'bbace3cc586400bbc65765bc6a16b77d8913836cfc98b77c05488f02f5714a4b']"
      ],
      "metadata": {
        "colab": {
          "base_uri": "https://localhost:8080/",
          "height": 363
        },
        "id": "sTGvGlJb62rI",
        "outputId": "7728461c-5501-470e-c44e-b7684739633e"
      },
      "execution_count": null,
      "outputs": [
        {
          "output_type": "execute_result",
          "data": {
            "text/plain": [
              "        Unnamed: 0               company_hash  \\\n",
              "24109        24129  oxej ntwyzgrgsxto rxbxnta   \n",
              "45984        46038  oxej ntwyzgrgsxto rxbxnta   \n",
              "72315        72415  oxej ntwyzgrgsxto rxbxnta   \n",
              "102915      103145  oxej ntwyzgrgsxto rxbxnta   \n",
              "117764      118076  oxej ntwyzgrgsxto rxbxnta   \n",
              "121483      121825  oxej ntwyzgrgsxto rxbxnta   \n",
              "124476      124840  oxej ntwyzgrgsxto rxbxnta   \n",
              "144479      145021  oxej ntwyzgrgsxto rxbxnta   \n",
              "152801      153402  oxej ntwyzgrgsxto rxbxnta   \n",
              "159835      160472  oxej ntwyzgrgsxto rxbxnta   \n",
              "\n",
              "                                               email_hash  orgyear     ctc  \\\n",
              "24109   bbace3cc586400bbc65765bc6a16b77d8913836cfc98b7...   2018.0  720000   \n",
              "45984   bbace3cc586400bbc65765bc6a16b77d8913836cfc98b7...   2018.0  720000   \n",
              "72315   bbace3cc586400bbc65765bc6a16b77d8913836cfc98b7...   2018.0  720000   \n",
              "102915  bbace3cc586400bbc65765bc6a16b77d8913836cfc98b7...   2018.0  720000   \n",
              "117764  bbace3cc586400bbc65765bc6a16b77d8913836cfc98b7...   2018.0  720000   \n",
              "121483  bbace3cc586400bbc65765bc6a16b77d8913836cfc98b7...   2018.0  660000   \n",
              "124476  bbace3cc586400bbc65765bc6a16b77d8913836cfc98b7...   2018.0  660000   \n",
              "144479  bbace3cc586400bbc65765bc6a16b77d8913836cfc98b7...   2018.0  660000   \n",
              "152801  bbace3cc586400bbc65765bc6a16b77d8913836cfc98b7...   2018.0  660000   \n",
              "159835  bbace3cc586400bbc65765bc6a16b77d8913836cfc98b7...   2018.0  660000   \n",
              "\n",
              "              job_position  ctc_updated_year  \n",
              "24109                  NaN            2020.0  \n",
              "45984     Support Engineer            2020.0  \n",
              "72315                Other            2020.0  \n",
              "102915  FullStack Engineer            2020.0  \n",
              "117764        Data Analyst            2020.0  \n",
              "121483               Other            2019.0  \n",
              "124476    Support Engineer            2019.0  \n",
              "144479  FullStack Engineer            2019.0  \n",
              "152801     Devops Engineer            2019.0  \n",
              "159835                 NaN            2019.0  "
            ],
            "text/html": [
              "\n",
              "  <div id=\"df-b9027e89-7137-41f8-a781-6eed6976cd3e\">\n",
              "    <div class=\"colab-df-container\">\n",
              "      <div>\n",
              "<style scoped>\n",
              "    .dataframe tbody tr th:only-of-type {\n",
              "        vertical-align: middle;\n",
              "    }\n",
              "\n",
              "    .dataframe tbody tr th {\n",
              "        vertical-align: top;\n",
              "    }\n",
              "\n",
              "    .dataframe thead th {\n",
              "        text-align: right;\n",
              "    }\n",
              "</style>\n",
              "<table border=\"1\" class=\"dataframe\">\n",
              "  <thead>\n",
              "    <tr style=\"text-align: right;\">\n",
              "      <th></th>\n",
              "      <th>Unnamed: 0</th>\n",
              "      <th>company_hash</th>\n",
              "      <th>email_hash</th>\n",
              "      <th>orgyear</th>\n",
              "      <th>ctc</th>\n",
              "      <th>job_position</th>\n",
              "      <th>ctc_updated_year</th>\n",
              "    </tr>\n",
              "  </thead>\n",
              "  <tbody>\n",
              "    <tr>\n",
              "      <th>24109</th>\n",
              "      <td>24129</td>\n",
              "      <td>oxej ntwyzgrgsxto rxbxnta</td>\n",
              "      <td>bbace3cc586400bbc65765bc6a16b77d8913836cfc98b7...</td>\n",
              "      <td>2018.0</td>\n",
              "      <td>720000</td>\n",
              "      <td>NaN</td>\n",
              "      <td>2020.0</td>\n",
              "    </tr>\n",
              "    <tr>\n",
              "      <th>45984</th>\n",
              "      <td>46038</td>\n",
              "      <td>oxej ntwyzgrgsxto rxbxnta</td>\n",
              "      <td>bbace3cc586400bbc65765bc6a16b77d8913836cfc98b7...</td>\n",
              "      <td>2018.0</td>\n",
              "      <td>720000</td>\n",
              "      <td>Support Engineer</td>\n",
              "      <td>2020.0</td>\n",
              "    </tr>\n",
              "    <tr>\n",
              "      <th>72315</th>\n",
              "      <td>72415</td>\n",
              "      <td>oxej ntwyzgrgsxto rxbxnta</td>\n",
              "      <td>bbace3cc586400bbc65765bc6a16b77d8913836cfc98b7...</td>\n",
              "      <td>2018.0</td>\n",
              "      <td>720000</td>\n",
              "      <td>Other</td>\n",
              "      <td>2020.0</td>\n",
              "    </tr>\n",
              "    <tr>\n",
              "      <th>102915</th>\n",
              "      <td>103145</td>\n",
              "      <td>oxej ntwyzgrgsxto rxbxnta</td>\n",
              "      <td>bbace3cc586400bbc65765bc6a16b77d8913836cfc98b7...</td>\n",
              "      <td>2018.0</td>\n",
              "      <td>720000</td>\n",
              "      <td>FullStack Engineer</td>\n",
              "      <td>2020.0</td>\n",
              "    </tr>\n",
              "    <tr>\n",
              "      <th>117764</th>\n",
              "      <td>118076</td>\n",
              "      <td>oxej ntwyzgrgsxto rxbxnta</td>\n",
              "      <td>bbace3cc586400bbc65765bc6a16b77d8913836cfc98b7...</td>\n",
              "      <td>2018.0</td>\n",
              "      <td>720000</td>\n",
              "      <td>Data Analyst</td>\n",
              "      <td>2020.0</td>\n",
              "    </tr>\n",
              "    <tr>\n",
              "      <th>121483</th>\n",
              "      <td>121825</td>\n",
              "      <td>oxej ntwyzgrgsxto rxbxnta</td>\n",
              "      <td>bbace3cc586400bbc65765bc6a16b77d8913836cfc98b7...</td>\n",
              "      <td>2018.0</td>\n",
              "      <td>660000</td>\n",
              "      <td>Other</td>\n",
              "      <td>2019.0</td>\n",
              "    </tr>\n",
              "    <tr>\n",
              "      <th>124476</th>\n",
              "      <td>124840</td>\n",
              "      <td>oxej ntwyzgrgsxto rxbxnta</td>\n",
              "      <td>bbace3cc586400bbc65765bc6a16b77d8913836cfc98b7...</td>\n",
              "      <td>2018.0</td>\n",
              "      <td>660000</td>\n",
              "      <td>Support Engineer</td>\n",
              "      <td>2019.0</td>\n",
              "    </tr>\n",
              "    <tr>\n",
              "      <th>144479</th>\n",
              "      <td>145021</td>\n",
              "      <td>oxej ntwyzgrgsxto rxbxnta</td>\n",
              "      <td>bbace3cc586400bbc65765bc6a16b77d8913836cfc98b7...</td>\n",
              "      <td>2018.0</td>\n",
              "      <td>660000</td>\n",
              "      <td>FullStack Engineer</td>\n",
              "      <td>2019.0</td>\n",
              "    </tr>\n",
              "    <tr>\n",
              "      <th>152801</th>\n",
              "      <td>153402</td>\n",
              "      <td>oxej ntwyzgrgsxto rxbxnta</td>\n",
              "      <td>bbace3cc586400bbc65765bc6a16b77d8913836cfc98b7...</td>\n",
              "      <td>2018.0</td>\n",
              "      <td>660000</td>\n",
              "      <td>Devops Engineer</td>\n",
              "      <td>2019.0</td>\n",
              "    </tr>\n",
              "    <tr>\n",
              "      <th>159835</th>\n",
              "      <td>160472</td>\n",
              "      <td>oxej ntwyzgrgsxto rxbxnta</td>\n",
              "      <td>bbace3cc586400bbc65765bc6a16b77d8913836cfc98b7...</td>\n",
              "      <td>2018.0</td>\n",
              "      <td>660000</td>\n",
              "      <td>NaN</td>\n",
              "      <td>2019.0</td>\n",
              "    </tr>\n",
              "  </tbody>\n",
              "</table>\n",
              "</div>\n",
              "      <button class=\"colab-df-convert\" onclick=\"convertToInteractive('df-b9027e89-7137-41f8-a781-6eed6976cd3e')\"\n",
              "              title=\"Convert this dataframe to an interactive table.\"\n",
              "              style=\"display:none;\">\n",
              "        \n",
              "  <svg xmlns=\"http://www.w3.org/2000/svg\" height=\"24px\"viewBox=\"0 0 24 24\"\n",
              "       width=\"24px\">\n",
              "    <path d=\"M0 0h24v24H0V0z\" fill=\"none\"/>\n",
              "    <path d=\"M18.56 5.44l.94 2.06.94-2.06 2.06-.94-2.06-.94-.94-2.06-.94 2.06-2.06.94zm-11 1L8.5 8.5l.94-2.06 2.06-.94-2.06-.94L8.5 2.5l-.94 2.06-2.06.94zm10 10l.94 2.06.94-2.06 2.06-.94-2.06-.94-.94-2.06-.94 2.06-2.06.94z\"/><path d=\"M17.41 7.96l-1.37-1.37c-.4-.4-.92-.59-1.43-.59-.52 0-1.04.2-1.43.59L10.3 9.45l-7.72 7.72c-.78.78-.78 2.05 0 2.83L4 21.41c.39.39.9.59 1.41.59.51 0 1.02-.2 1.41-.59l7.78-7.78 2.81-2.81c.8-.78.8-2.07 0-2.86zM5.41 20L4 18.59l7.72-7.72 1.47 1.35L5.41 20z\"/>\n",
              "  </svg>\n",
              "      </button>\n",
              "      \n",
              "  <style>\n",
              "    .colab-df-container {\n",
              "      display:flex;\n",
              "      flex-wrap:wrap;\n",
              "      gap: 12px;\n",
              "    }\n",
              "\n",
              "    .colab-df-convert {\n",
              "      background-color: #E8F0FE;\n",
              "      border: none;\n",
              "      border-radius: 50%;\n",
              "      cursor: pointer;\n",
              "      display: none;\n",
              "      fill: #1967D2;\n",
              "      height: 32px;\n",
              "      padding: 0 0 0 0;\n",
              "      width: 32px;\n",
              "    }\n",
              "\n",
              "    .colab-df-convert:hover {\n",
              "      background-color: #E2EBFA;\n",
              "      box-shadow: 0px 1px 2px rgba(60, 64, 67, 0.3), 0px 1px 3px 1px rgba(60, 64, 67, 0.15);\n",
              "      fill: #174EA6;\n",
              "    }\n",
              "\n",
              "    [theme=dark] .colab-df-convert {\n",
              "      background-color: #3B4455;\n",
              "      fill: #D2E3FC;\n",
              "    }\n",
              "\n",
              "    [theme=dark] .colab-df-convert:hover {\n",
              "      background-color: #434B5C;\n",
              "      box-shadow: 0px 1px 3px 1px rgba(0, 0, 0, 0.15);\n",
              "      filter: drop-shadow(0px 1px 2px rgba(0, 0, 0, 0.3));\n",
              "      fill: #FFFFFF;\n",
              "    }\n",
              "  </style>\n",
              "\n",
              "      <script>\n",
              "        const buttonEl =\n",
              "          document.querySelector('#df-b9027e89-7137-41f8-a781-6eed6976cd3e button.colab-df-convert');\n",
              "        buttonEl.style.display =\n",
              "          google.colab.kernel.accessAllowed ? 'block' : 'none';\n",
              "\n",
              "        async function convertToInteractive(key) {\n",
              "          const element = document.querySelector('#df-b9027e89-7137-41f8-a781-6eed6976cd3e');\n",
              "          const dataTable =\n",
              "            await google.colab.kernel.invokeFunction('convertToInteractive',\n",
              "                                                     [key], {});\n",
              "          if (!dataTable) return;\n",
              "\n",
              "          const docLinkHtml = 'Like what you see? Visit the ' +\n",
              "            '<a target=\"_blank\" href=https://colab.research.google.com/notebooks/data_table.ipynb>data table notebook</a>'\n",
              "            + ' to learn more about interactive tables.';\n",
              "          element.innerHTML = '';\n",
              "          dataTable['output_type'] = 'display_data';\n",
              "          await google.colab.output.renderOutput(dataTable, element);\n",
              "          const docLink = document.createElement('div');\n",
              "          docLink.innerHTML = docLinkHtml;\n",
              "          element.appendChild(docLink);\n",
              "        }\n",
              "      </script>\n",
              "    </div>\n",
              "  </div>\n",
              "  "
            ]
          },
          "metadata": {},
          "execution_count": 322
        }
      ]
    },
    {
      "cell_type": "markdown",
      "source": [
        "**Unique values Inference**\n",
        "* As we did our groupby and selected the top recurring email, we found that the learner's have updated all their work ex and not just recent ones"
      ],
      "metadata": {
        "id": "jjflS-Q_8ZWh"
      }
    },
    {
      "cell_type": "markdown",
      "source": [
        "**Missing Value Check**"
      ],
      "metadata": {
        "id": "ZGP68F-V-vTV"
      }
    },
    {
      "cell_type": "code",
      "source": [
        "df.isna().sum()"
      ],
      "metadata": {
        "colab": {
          "base_uri": "https://localhost:8080/"
        },
        "id": "gXO8m0tt-hw0",
        "outputId": "4e43889b-a19a-4918-bf61-c7522ceed037"
      },
      "execution_count": null,
      "outputs": [
        {
          "output_type": "execute_result",
          "data": {
            "text/plain": [
              "Unnamed: 0              0\n",
              "company_hash           44\n",
              "email_hash              0\n",
              "orgyear                86\n",
              "ctc                     0\n",
              "job_position        52562\n",
              "ctc_updated_year        0\n",
              "dtype: int64"
            ]
          },
          "metadata": {},
          "execution_count": 323
        }
      ]
    },
    {
      "cell_type": "markdown",
      "source": [
        "**Observations**\n",
        "* company_hash has 44 missing values\n",
        "* orgyear has 86 missing values\n",
        "* job_position has 52562 missing values"
      ],
      "metadata": {
        "id": "MBVGB1kg-zLX"
      }
    },
    {
      "cell_type": "markdown",
      "source": [
        "We need to convert orgyear to string before imputation"
      ],
      "metadata": {
        "id": "la92EA9_CRCu"
      }
    },
    {
      "cell_type": "code",
      "source": [
        "df['orgyear'] = df['orgyear'].apply(lambda x : str(x))\n",
        "df['ctc_updated_year'] = df['ctc_updated_year'].apply(lambda x : str(x))"
      ],
      "metadata": {
        "id": "dA-_Nb9hCqXS"
      },
      "execution_count": null,
      "outputs": []
    },
    {
      "cell_type": "code",
      "source": [
        "df['job_position'].fillna('Other',inplace=True)\n",
        "df['orgyear'].fillna('2018.0',inplace=True)\n",
        "df['company_hash'].fillna('nvnv wgzohrnvzwj otqcxwto',inplace=True)"
      ],
      "metadata": {
        "id": "cygPuaexEHpa"
      },
      "execution_count": null,
      "outputs": []
    },
    {
      "cell_type": "markdown",
      "source": [
        "* We impute the missing job position with 'Other' and not the mode of the column since the amount of missing values in this column is more than the mode.\n",
        "* We impute orgyear and company_hash with mode of their respective columns since the percentage of missing values is not very high.\n"
      ],
      "metadata": {
        "id": "5nCizgWFDr41"
      }
    },
    {
      "cell_type": "markdown",
      "source": [
        "**Removing special characters of the data using regex**"
      ],
      "metadata": {
        "id": "pr6rPNtYFlr1"
      }
    },
    {
      "cell_type": "code",
      "source": [
        "df['company_hash'] = df['company_hash'].apply(lambda x : re.sub('[^A-Za-z0-9 ]+', '', x))\n",
        "df['email_hash'] = df['email_hash'].apply(lambda x : re.sub('[^A-Za-z0-9 ]+', '', x))"
      ],
      "metadata": {
        "id": "OtBeIypeFnM_"
      },
      "execution_count": null,
      "outputs": []
    },
    {
      "cell_type": "markdown",
      "source": [
        "**Duplicates check**"
      ],
      "metadata": {
        "id": "t5vqgiKDHngA"
      }
    },
    {
      "cell_type": "markdown",
      "source": [
        "Before the duplicate check we should delete the **Unnamed: 0** column"
      ],
      "metadata": {
        "id": "cP0B44RKJZ6v"
      }
    },
    {
      "cell_type": "code",
      "source": [
        "df.drop(columns=['Unnamed: 0'],inplace=True)"
      ],
      "metadata": {
        "id": "VXaZDhcjJhTJ"
      },
      "execution_count": null,
      "outputs": []
    },
    {
      "cell_type": "code",
      "source": [
        "if df.shape[0] == df.drop_duplicates().shape[0] :\n",
        "    print('No duplicates Found')\n",
        "else:\n",
        "    duplicates = df.shape[0] - df.drop_duplicates().shape[0]\n",
        "    print('{} duplicates found'.format(duplicates))"
      ],
      "metadata": {
        "colab": {
          "base_uri": "https://localhost:8080/"
        },
        "id": "iTraZfQjHdqQ",
        "outputId": "3f5bb88b-59b4-4710-d057-5ebeb6abafb4"
      },
      "execution_count": null,
      "outputs": [
        {
          "output_type": "stream",
          "name": "stdout",
          "text": [
            "4383 duplicates found\n"
          ]
        }
      ]
    },
    {
      "cell_type": "code",
      "source": [
        "df.drop_duplicates(inplace=True)"
      ],
      "metadata": {
        "id": "kitJPj3KLZsy"
      },
      "execution_count": null,
      "outputs": []
    },
    {
      "cell_type": "markdown",
      "source": [
        "We found 4383 duplicate records in our dataset. We remove the same "
      ],
      "metadata": {
        "id": "-w_xyX2yLsii"
      }
    },
    {
      "cell_type": "code",
      "source": [
        "df.dropna(inplace=True)"
      ],
      "metadata": {
        "id": "z32rs1s8O9ec"
      },
      "execution_count": null,
      "outputs": []
    },
    {
      "cell_type": "markdown",
      "source": [
        "**Outlier Treatment**"
      ],
      "metadata": {
        "id": "R8AOKjeZBtEu"
      }
    },
    {
      "cell_type": "code",
      "source": [
        "df['orgyear'] = df['orgyear'].apply(lambda x : float(x))"
      ],
      "metadata": {
        "id": "K-PqU1UD33PG"
      },
      "execution_count": null,
      "outputs": []
    },
    {
      "cell_type": "code",
      "source": [
        "df['orgyear'].max()"
      ],
      "metadata": {
        "colab": {
          "base_uri": "https://localhost:8080/"
        },
        "id": "7j7CqEhQ4Dtg",
        "outputId": "69c68eed-c482-47f2-dc89-324954ff799b"
      },
      "execution_count": null,
      "outputs": [
        {
          "output_type": "execute_result",
          "data": {
            "text/plain": [
              "20165.0"
            ]
          },
          "metadata": {},
          "execution_count": 333
        }
      ]
    },
    {
      "cell_type": "code",
      "source": [
        "df['orgyear'].min()"
      ],
      "metadata": {
        "colab": {
          "base_uri": "https://localhost:8080/"
        },
        "id": "HjOsY4NJ5VCZ",
        "outputId": "3549f667-4a05-45ef-e1e4-7e102d403332"
      },
      "execution_count": null,
      "outputs": [
        {
          "output_type": "execute_result",
          "data": {
            "text/plain": [
              "0.0"
            ]
          },
          "metadata": {},
          "execution_count": 334
        }
      ]
    },
    {
      "cell_type": "markdown",
      "source": [
        "**Observations of \"orgyear\"**\n",
        "* The min year is 0\n",
        "* The max year is 20165\n",
        "\n",
        "These observations do not make sense. hence we impute the orgyear with median for orgyear greater than 99.9 percentile(2022) and less than 0.001 percentile"
      ],
      "metadata": {
        "id": "z18-szWx5e2D"
      }
    },
    {
      "cell_type": "code",
      "source": [
        "df['orgyear'] = np.where(df['orgyear'] > 2022,2018,df['orgyear'])\n",
        "df['orgyear'] = np.where(df['orgyear'] < df['orgyear'].quantile(0.001),2018,df['orgyear'])"
      ],
      "metadata": {
        "id": "czyBmyea8UKI"
      },
      "execution_count": null,
      "outputs": []
    },
    {
      "cell_type": "code",
      "source": [
        "df['ctc'].min()"
      ],
      "metadata": {
        "colab": {
          "base_uri": "https://localhost:8080/"
        },
        "id": "nY9gqLySCDE_",
        "outputId": "2a2437a8-e2ea-4039-f220-3efcea4d2d78"
      },
      "execution_count": null,
      "outputs": [
        {
          "output_type": "execute_result",
          "data": {
            "text/plain": [
              "2"
            ]
          },
          "metadata": {},
          "execution_count": 336
        }
      ]
    },
    {
      "cell_type": "code",
      "source": [
        "df['ctc'].max()"
      ],
      "metadata": {
        "colab": {
          "base_uri": "https://localhost:8080/"
        },
        "id": "SeGaD7drCHNT",
        "outputId": "a5f047bd-780c-4eba-c6be-7fa820ca8aa9"
      },
      "execution_count": null,
      "outputs": [
        {
          "output_type": "execute_result",
          "data": {
            "text/plain": [
              "1000150000"
            ]
          },
          "metadata": {},
          "execution_count": 337
        }
      ]
    },
    {
      "cell_type": "markdown",
      "source": [
        "**Observations of \"ctc\"**\n",
        "* The min salary is 2\n",
        "* The max salary is upwards of 100 crores\n",
        "\n",
        "The min salary for sure does not make sense. To have a fair analysis, we will impute the ctc with 95th percentile value for salary greater than 95th percentile and similarly impute with 5th percentile value for salary lesser than 5th percentile"
      ],
      "metadata": {
        "id": "VKLmMIeQCloA"
      }
    },
    {
      "cell_type": "code",
      "source": [
        "df['ctc'] = np.where(df['ctc'] > df['ctc'].quantile(0.95), df['ctc'].quantile(0.95),df['ctc'])\n",
        "df['ctc'] = np.where(df['ctc'] < df['ctc'].quantile(0.05), df['ctc'].quantile(0.05),df['ctc'])"
      ],
      "metadata": {
        "id": "cEdBF5V6Di86"
      },
      "execution_count": null,
      "outputs": []
    },
    {
      "cell_type": "markdown",
      "source": [
        "**Feature Engineering**"
      ],
      "metadata": {
        "id": "h-A9Lbh8B2jv"
      }
    },
    {
      "cell_type": "code",
      "source": [
        "#creating no of years of work ex\n",
        "df['experience_years'] = 2022 - df['orgyear']"
      ],
      "metadata": {
        "id": "PlUb6ING8s2_"
      },
      "execution_count": null,
      "outputs": []
    },
    {
      "cell_type": "code",
      "source": [
        "#Checking for missing values\n",
        "df.isna().sum()"
      ],
      "metadata": {
        "colab": {
          "base_uri": "https://localhost:8080/"
        },
        "id": "FsMemyO23gR0",
        "outputId": "ab3a82e8-8e4b-4e25-a7c3-4baafda8efca"
      },
      "execution_count": null,
      "outputs": [
        {
          "output_type": "execute_result",
          "data": {
            "text/plain": [
              "company_hash         0\n",
              "email_hash           0\n",
              "orgyear             85\n",
              "ctc                  0\n",
              "job_position         0\n",
              "ctc_updated_year     0\n",
              "experience_years    85\n",
              "dtype: int64"
            ]
          },
          "metadata": {},
          "execution_count": 341
        }
      ]
    },
    {
      "cell_type": "markdown",
      "source": [
        "Imputing the experience_years column with 0 if there are missing values"
      ],
      "metadata": {
        "id": "qLcnQuaB3ok9"
      }
    },
    {
      "cell_type": "code",
      "source": [
        "#Filling the missing data\n",
        "df = df.fillna(0)"
      ],
      "metadata": {
        "id": "HXnlBYKg31Sj"
      },
      "execution_count": null,
      "outputs": []
    },
    {
      "cell_type": "markdown",
      "source": [
        "Created a new column called 'experience_years' which is the current year - orgyear"
      ],
      "metadata": {
        "id": "WKj7m7iY9iM3"
      }
    },
    {
      "cell_type": "code",
      "source": [
        "df_company = df.groupby(['company_hash','job_position','orgyear']).agg(['mean','median','max','min']).reset_index()\n",
        "df_company"
      ],
      "metadata": {
        "colab": {
          "base_uri": "https://localhost:8080/",
          "height": 455
        },
        "id": "cWzn50G5xYy9",
        "outputId": "43000363-8d8e-42a0-8e41-fa2c775774f3"
      },
      "execution_count": null,
      "outputs": [
        {
          "output_type": "execute_result",
          "data": {
            "text/plain": [
              "                          company_hash        job_position orgyear        ctc  \\\n",
              "                                                                         mean   \n",
              "0                                    0               Other  2020.0   200000.0   \n",
              "1                                 0000               Other  2017.0   300000.0   \n",
              "2                           01 ojztqsj    Android Engineer  2016.0   270000.0   \n",
              "3                           01 ojztqsj   Frontend Engineer  2011.0   830000.0   \n",
              "4       05mz exzytvrny uqxcvnt rxbxnta    Backend Engineer  2019.0  1100000.0   \n",
              "...                                ...                 ...     ...        ...   \n",
              "109101                              zz               Other  2013.0  1370000.0   \n",
              "109102    zzb ztdnstz vacxogqj ucn rna  FullStack Engineer  2017.0   600000.0   \n",
              "109103    zzb ztdnstz vacxogqj ucn rna               Other  2017.0   600000.0   \n",
              "109104                          zzgato               Other  2014.0   200000.0   \n",
              "109105                          zzzbzb               Other  2018.0   720000.0   \n",
              "\n",
              "                                        experience_years                     \n",
              "           median        max        min             mean median   max   min  \n",
              "0        200000.0   200000.0   200000.0              2.0    2.0   2.0   2.0  \n",
              "1        300000.0   300000.0   300000.0              5.0    5.0   5.0   5.0  \n",
              "2        270000.0   270000.0   270000.0              6.0    6.0   6.0   6.0  \n",
              "3        830000.0   830000.0   830000.0             11.0   11.0  11.0  11.0  \n",
              "4       1100000.0  1100000.0  1100000.0              3.0    3.0   3.0   3.0  \n",
              "...           ...        ...        ...              ...    ...   ...   ...  \n",
              "109101  1370000.0  1370000.0  1370000.0              9.0    9.0   9.0   9.0  \n",
              "109102   600000.0   600000.0   600000.0              5.0    5.0   5.0   5.0  \n",
              "109103   600000.0   600000.0   600000.0              5.0    5.0   5.0   5.0  \n",
              "109104   200000.0   200000.0   200000.0              8.0    8.0   8.0   8.0  \n",
              "109105   720000.0   720000.0   720000.0              4.0    4.0   4.0   4.0  \n",
              "\n",
              "[109106 rows x 11 columns]"
            ],
            "text/html": [
              "\n",
              "  <div id=\"df-a82353e0-3d72-49a9-b67b-f6afa32ea9eb\">\n",
              "    <div class=\"colab-df-container\">\n",
              "      <div>\n",
              "<style scoped>\n",
              "    .dataframe tbody tr th:only-of-type {\n",
              "        vertical-align: middle;\n",
              "    }\n",
              "\n",
              "    .dataframe tbody tr th {\n",
              "        vertical-align: top;\n",
              "    }\n",
              "\n",
              "    .dataframe thead tr th {\n",
              "        text-align: left;\n",
              "    }\n",
              "</style>\n",
              "<table border=\"1\" class=\"dataframe\">\n",
              "  <thead>\n",
              "    <tr>\n",
              "      <th></th>\n",
              "      <th>company_hash</th>\n",
              "      <th>job_position</th>\n",
              "      <th>orgyear</th>\n",
              "      <th colspan=\"4\" halign=\"left\">ctc</th>\n",
              "      <th colspan=\"4\" halign=\"left\">experience_years</th>\n",
              "    </tr>\n",
              "    <tr>\n",
              "      <th></th>\n",
              "      <th></th>\n",
              "      <th></th>\n",
              "      <th></th>\n",
              "      <th>mean</th>\n",
              "      <th>median</th>\n",
              "      <th>max</th>\n",
              "      <th>min</th>\n",
              "      <th>mean</th>\n",
              "      <th>median</th>\n",
              "      <th>max</th>\n",
              "      <th>min</th>\n",
              "    </tr>\n",
              "  </thead>\n",
              "  <tbody>\n",
              "    <tr>\n",
              "      <th>0</th>\n",
              "      <td>0</td>\n",
              "      <td>Other</td>\n",
              "      <td>2020.0</td>\n",
              "      <td>200000.0</td>\n",
              "      <td>200000.0</td>\n",
              "      <td>200000.0</td>\n",
              "      <td>200000.0</td>\n",
              "      <td>2.0</td>\n",
              "      <td>2.0</td>\n",
              "      <td>2.0</td>\n",
              "      <td>2.0</td>\n",
              "    </tr>\n",
              "    <tr>\n",
              "      <th>1</th>\n",
              "      <td>0000</td>\n",
              "      <td>Other</td>\n",
              "      <td>2017.0</td>\n",
              "      <td>300000.0</td>\n",
              "      <td>300000.0</td>\n",
              "      <td>300000.0</td>\n",
              "      <td>300000.0</td>\n",
              "      <td>5.0</td>\n",
              "      <td>5.0</td>\n",
              "      <td>5.0</td>\n",
              "      <td>5.0</td>\n",
              "    </tr>\n",
              "    <tr>\n",
              "      <th>2</th>\n",
              "      <td>01 ojztqsj</td>\n",
              "      <td>Android Engineer</td>\n",
              "      <td>2016.0</td>\n",
              "      <td>270000.0</td>\n",
              "      <td>270000.0</td>\n",
              "      <td>270000.0</td>\n",
              "      <td>270000.0</td>\n",
              "      <td>6.0</td>\n",
              "      <td>6.0</td>\n",
              "      <td>6.0</td>\n",
              "      <td>6.0</td>\n",
              "    </tr>\n",
              "    <tr>\n",
              "      <th>3</th>\n",
              "      <td>01 ojztqsj</td>\n",
              "      <td>Frontend Engineer</td>\n",
              "      <td>2011.0</td>\n",
              "      <td>830000.0</td>\n",
              "      <td>830000.0</td>\n",
              "      <td>830000.0</td>\n",
              "      <td>830000.0</td>\n",
              "      <td>11.0</td>\n",
              "      <td>11.0</td>\n",
              "      <td>11.0</td>\n",
              "      <td>11.0</td>\n",
              "    </tr>\n",
              "    <tr>\n",
              "      <th>4</th>\n",
              "      <td>05mz exzytvrny uqxcvnt rxbxnta</td>\n",
              "      <td>Backend Engineer</td>\n",
              "      <td>2019.0</td>\n",
              "      <td>1100000.0</td>\n",
              "      <td>1100000.0</td>\n",
              "      <td>1100000.0</td>\n",
              "      <td>1100000.0</td>\n",
              "      <td>3.0</td>\n",
              "      <td>3.0</td>\n",
              "      <td>3.0</td>\n",
              "      <td>3.0</td>\n",
              "    </tr>\n",
              "    <tr>\n",
              "      <th>...</th>\n",
              "      <td>...</td>\n",
              "      <td>...</td>\n",
              "      <td>...</td>\n",
              "      <td>...</td>\n",
              "      <td>...</td>\n",
              "      <td>...</td>\n",
              "      <td>...</td>\n",
              "      <td>...</td>\n",
              "      <td>...</td>\n",
              "      <td>...</td>\n",
              "      <td>...</td>\n",
              "    </tr>\n",
              "    <tr>\n",
              "      <th>109101</th>\n",
              "      <td>zz</td>\n",
              "      <td>Other</td>\n",
              "      <td>2013.0</td>\n",
              "      <td>1370000.0</td>\n",
              "      <td>1370000.0</td>\n",
              "      <td>1370000.0</td>\n",
              "      <td>1370000.0</td>\n",
              "      <td>9.0</td>\n",
              "      <td>9.0</td>\n",
              "      <td>9.0</td>\n",
              "      <td>9.0</td>\n",
              "    </tr>\n",
              "    <tr>\n",
              "      <th>109102</th>\n",
              "      <td>zzb ztdnstz vacxogqj ucn rna</td>\n",
              "      <td>FullStack Engineer</td>\n",
              "      <td>2017.0</td>\n",
              "      <td>600000.0</td>\n",
              "      <td>600000.0</td>\n",
              "      <td>600000.0</td>\n",
              "      <td>600000.0</td>\n",
              "      <td>5.0</td>\n",
              "      <td>5.0</td>\n",
              "      <td>5.0</td>\n",
              "      <td>5.0</td>\n",
              "    </tr>\n",
              "    <tr>\n",
              "      <th>109103</th>\n",
              "      <td>zzb ztdnstz vacxogqj ucn rna</td>\n",
              "      <td>Other</td>\n",
              "      <td>2017.0</td>\n",
              "      <td>600000.0</td>\n",
              "      <td>600000.0</td>\n",
              "      <td>600000.0</td>\n",
              "      <td>600000.0</td>\n",
              "      <td>5.0</td>\n",
              "      <td>5.0</td>\n",
              "      <td>5.0</td>\n",
              "      <td>5.0</td>\n",
              "    </tr>\n",
              "    <tr>\n",
              "      <th>109104</th>\n",
              "      <td>zzgato</td>\n",
              "      <td>Other</td>\n",
              "      <td>2014.0</td>\n",
              "      <td>200000.0</td>\n",
              "      <td>200000.0</td>\n",
              "      <td>200000.0</td>\n",
              "      <td>200000.0</td>\n",
              "      <td>8.0</td>\n",
              "      <td>8.0</td>\n",
              "      <td>8.0</td>\n",
              "      <td>8.0</td>\n",
              "    </tr>\n",
              "    <tr>\n",
              "      <th>109105</th>\n",
              "      <td>zzzbzb</td>\n",
              "      <td>Other</td>\n",
              "      <td>2018.0</td>\n",
              "      <td>720000.0</td>\n",
              "      <td>720000.0</td>\n",
              "      <td>720000.0</td>\n",
              "      <td>720000.0</td>\n",
              "      <td>4.0</td>\n",
              "      <td>4.0</td>\n",
              "      <td>4.0</td>\n",
              "      <td>4.0</td>\n",
              "    </tr>\n",
              "  </tbody>\n",
              "</table>\n",
              "<p>109106 rows × 11 columns</p>\n",
              "</div>\n",
              "      <button class=\"colab-df-convert\" onclick=\"convertToInteractive('df-a82353e0-3d72-49a9-b67b-f6afa32ea9eb')\"\n",
              "              title=\"Convert this dataframe to an interactive table.\"\n",
              "              style=\"display:none;\">\n",
              "        \n",
              "  <svg xmlns=\"http://www.w3.org/2000/svg\" height=\"24px\"viewBox=\"0 0 24 24\"\n",
              "       width=\"24px\">\n",
              "    <path d=\"M0 0h24v24H0V0z\" fill=\"none\"/>\n",
              "    <path d=\"M18.56 5.44l.94 2.06.94-2.06 2.06-.94-2.06-.94-.94-2.06-.94 2.06-2.06.94zm-11 1L8.5 8.5l.94-2.06 2.06-.94-2.06-.94L8.5 2.5l-.94 2.06-2.06.94zm10 10l.94 2.06.94-2.06 2.06-.94-2.06-.94-.94-2.06-.94 2.06-2.06.94z\"/><path d=\"M17.41 7.96l-1.37-1.37c-.4-.4-.92-.59-1.43-.59-.52 0-1.04.2-1.43.59L10.3 9.45l-7.72 7.72c-.78.78-.78 2.05 0 2.83L4 21.41c.39.39.9.59 1.41.59.51 0 1.02-.2 1.41-.59l7.78-7.78 2.81-2.81c.8-.78.8-2.07 0-2.86zM5.41 20L4 18.59l7.72-7.72 1.47 1.35L5.41 20z\"/>\n",
              "  </svg>\n",
              "      </button>\n",
              "      \n",
              "  <style>\n",
              "    .colab-df-container {\n",
              "      display:flex;\n",
              "      flex-wrap:wrap;\n",
              "      gap: 12px;\n",
              "    }\n",
              "\n",
              "    .colab-df-convert {\n",
              "      background-color: #E8F0FE;\n",
              "      border: none;\n",
              "      border-radius: 50%;\n",
              "      cursor: pointer;\n",
              "      display: none;\n",
              "      fill: #1967D2;\n",
              "      height: 32px;\n",
              "      padding: 0 0 0 0;\n",
              "      width: 32px;\n",
              "    }\n",
              "\n",
              "    .colab-df-convert:hover {\n",
              "      background-color: #E2EBFA;\n",
              "      box-shadow: 0px 1px 2px rgba(60, 64, 67, 0.3), 0px 1px 3px 1px rgba(60, 64, 67, 0.15);\n",
              "      fill: #174EA6;\n",
              "    }\n",
              "\n",
              "    [theme=dark] .colab-df-convert {\n",
              "      background-color: #3B4455;\n",
              "      fill: #D2E3FC;\n",
              "    }\n",
              "\n",
              "    [theme=dark] .colab-df-convert:hover {\n",
              "      background-color: #434B5C;\n",
              "      box-shadow: 0px 1px 3px 1px rgba(0, 0, 0, 0.15);\n",
              "      filter: drop-shadow(0px 1px 2px rgba(0, 0, 0, 0.3));\n",
              "      fill: #FFFFFF;\n",
              "    }\n",
              "  </style>\n",
              "\n",
              "      <script>\n",
              "        const buttonEl =\n",
              "          document.querySelector('#df-a82353e0-3d72-49a9-b67b-f6afa32ea9eb button.colab-df-convert');\n",
              "        buttonEl.style.display =\n",
              "          google.colab.kernel.accessAllowed ? 'block' : 'none';\n",
              "\n",
              "        async function convertToInteractive(key) {\n",
              "          const element = document.querySelector('#df-a82353e0-3d72-49a9-b67b-f6afa32ea9eb');\n",
              "          const dataTable =\n",
              "            await google.colab.kernel.invokeFunction('convertToInteractive',\n",
              "                                                     [key], {});\n",
              "          if (!dataTable) return;\n",
              "\n",
              "          const docLinkHtml = 'Like what you see? Visit the ' +\n",
              "            '<a target=\"_blank\" href=https://colab.research.google.com/notebooks/data_table.ipynb>data table notebook</a>'\n",
              "            + ' to learn more about interactive tables.';\n",
              "          element.innerHTML = '';\n",
              "          dataTable['output_type'] = 'display_data';\n",
              "          await google.colab.output.renderOutput(dataTable, element);\n",
              "          const docLink = document.createElement('div');\n",
              "          docLink.innerHTML = docLinkHtml;\n",
              "          element.appendChild(docLink);\n",
              "        }\n",
              "      </script>\n",
              "    </div>\n",
              "  </div>\n",
              "  "
            ]
          },
          "metadata": {},
          "execution_count": 343
        }
      ]
    },
    {
      "cell_type": "code",
      "source": [
        "df_fs = df.groupby(['job_position','experience_years']).median().loc['FullStack Engineer','ctc'].to_frame()"
      ],
      "metadata": {
        "id": "Vs6w75-1APJs"
      },
      "execution_count": null,
      "outputs": []
    },
    {
      "cell_type": "code",
      "source": [
        "df_be = df.groupby(['job_position','experience_years']).median().loc['Backend Engineer','ctc'].to_frame()"
      ],
      "metadata": {
        "id": "AAp-gP4tAT4u"
      },
      "execution_count": null,
      "outputs": []
    },
    {
      "cell_type": "code",
      "source": [
        "df_fe = df.groupby(['job_position','experience_years']).median().loc['Frontend Engineer','ctc'].to_frame()"
      ],
      "metadata": {
        "id": "u5cRoAKeAnak"
      },
      "execution_count": null,
      "outputs": []
    },
    {
      "cell_type": "code",
      "source": [
        "tdf = pd.merge(df_be,df_fe,left_on='experience_years',right_on='experience_years')"
      ],
      "metadata": {
        "id": "kLO1DEvb-kg4"
      },
      "execution_count": null,
      "outputs": []
    },
    {
      "cell_type": "code",
      "source": [
        "tdf.rename(columns={'ctc_x':'backend','ctc_y':'frontend'},inplace=True)"
      ],
      "metadata": {
        "id": "OtlqqFbnA08c"
      },
      "execution_count": null,
      "outputs": []
    },
    {
      "cell_type": "code",
      "source": [
        "#Comparision of Salary Trends of developers\n",
        "pd.merge(tdf,df_fs,left_on='experience_years',right_on='experience_years').rename(columns={'ctc':'fullstack'}).plot(kind='line',figsize=(10,5))\n",
        "plt.grid()\n",
        "plt.title(\"Median salary trends of developers across experience years\")\n",
        "plt.show()"
      ],
      "metadata": {
        "colab": {
          "base_uri": "https://localhost:8080/",
          "height": 351
        },
        "id": "8vKJ4leJBT9B",
        "outputId": "58ecd29e-2b94-45ae-8586-a3d8997e2516"
      },
      "execution_count": null,
      "outputs": [
        {
          "output_type": "display_data",
          "data": {
            "text/plain": [
              "<Figure size 720x360 with 1 Axes>"
            ],
            "image/png": "[encoded data removed]"
          },
          "metadata": {
            "needs_background": "light"
          }
        }
      ]
    },
    {
      "cell_type": "markdown",
      "source": [
        "**Observations**\n",
        "* backend enginner salary > fullstack engineer salary > frontend engineer salary\n",
        "* The salary increases over time until around 20 years of experince after which it starts to decline\n",
        "* Initially, all the 3 engineers with no experience are near the same bracket of salary.\n"
      ],
      "metadata": {
        "id": "Jiq2TFRECTh_"
      }
    },
    {
      "cell_type": "code",
      "source": [
        "df_ds = df.groupby(['job_position','experience_years']).median().loc['Data Scientist','ctc'].to_frame()"
      ],
      "metadata": {
        "id": "Phpy3C5MDTOr"
      },
      "execution_count": null,
      "outputs": []
    },
    {
      "cell_type": "code",
      "source": [
        "#Comparision of Salary trends of developers and data scientists\n",
        "pd.merge(df_ds,df_be,left_on='experience_years',right_on='experience_years').rename(columns={'ctc_x':'Data Scientist','ctc_y':\"Bcakend Engineer\"})[:29].plot(kind='line',figsize=(10,5))\n",
        "plt.grid()\n",
        "plt.title(\"Median salary trends of developers & data scientists\")\n",
        "plt.show()"
      ],
      "metadata": {
        "colab": {
          "base_uri": "https://localhost:8080/",
          "height": 351
        },
        "id": "InISPBckD22f",
        "outputId": "07dcb633-50a2-482f-b2bb-e22005d9e2ae"
      },
      "execution_count": null,
      "outputs": [
        {
          "output_type": "display_data",
          "data": {
            "text/plain": [
              "<Figure size 720x360 with 1 Axes>"
            ],
            "image/png": "[encoded data removed]"
          },
          "metadata": {
            "needs_background": "light"
          }
        }
      ]
    },
    {
      "cell_type": "markdown",
      "source": [
        "**Observations**\n",
        "* The salary trends of a data scientist and a backend engineer go hand in hand till about 15 years of experience."
      ],
      "metadata": {
        "id": "2wHJckfcJ70F"
      }
    },
    {
      "cell_type": "code",
      "source": [
        "tdf_job = df.groupby(\"job_position\").agg(['count','median'])['ctc'].reset_index()"
      ],
      "metadata": {
        "id": "aqAvg1qxM0hv"
      },
      "execution_count": null,
      "outputs": []
    },
    {
      "cell_type": "code",
      "source": [
        "tdf_job[tdf_job['count'] > 25].sort_values(by=['median'],ascending=False)[:5].drop(columns=['count']).set_index('job_position').plot(kind='bar',figsize=(7,5))\n",
        "plt.title(\"Top 5 jobs with highest median salaries(Min of 25 count)\")\n",
        "plt.show()"
      ],
      "metadata": {
        "colab": {
          "base_uri": "https://localhost:8080/",
          "height": 459
        },
        "id": "JXWq25KQNo4V",
        "outputId": "458ee912-f096-4939-afc0-180d40a82c0e"
      },
      "execution_count": null,
      "outputs": [
        {
          "output_type": "display_data",
          "data": {
            "text/plain": [
              "<Figure size 504x360 with 1 Axes>"
            ],
            "image/png": "[encoded data removed]"
          },
          "metadata": {
            "needs_background": "light"
          }
        }
      ]
    },
    {
      "cell_type": "markdown",
      "source": [
        "**Observations**\n",
        "* A min of 25 entries are considered for the report\n",
        "* Backend Architect median salary is 27 lakhs\n"
      ],
      "metadata": {
        "id": "9HejbzvSPanm"
      }
    },
    {
      "cell_type": "code",
      "source": [
        "tdf_job[tdf_job['count'] > 25].sort_values(by=['median'])[:5].drop(columns=['count']).set_index('job_position').plot(kind='bar',figsize=(7,5),color='orange')\n",
        "plt.title(\"Top 5 jobs with highest median salaries(Min of 25 count)\")\n",
        "plt.show()"
      ],
      "metadata": {
        "colab": {
          "base_uri": "https://localhost:8080/",
          "height": 427
        },
        "id": "Ce8dVnQRP5WN",
        "outputId": "760f8c94-bfcc-452f-aab4-84086004d7f5"
      },
      "execution_count": null,
      "outputs": [
        {
          "output_type": "display_data",
          "data": {
            "text/plain": [
              "<Figure size 504x360 with 1 Axes>"
            ],
            "image/png": "[encoded data removed]"
          },
          "metadata": {
            "needs_background": "light"
          }
        }
      ]
    },
    {
      "cell_type": "markdown",
      "source": [
        "**Observations**\n",
        "* System Engineer has the lowsest pay\n",
        "* It is also surprising to see that data analyst is one of the lowest paying jobs"
      ],
      "metadata": {
        "id": "7uJGTTbKQkQM"
      }
    },
    {
      "cell_type": "code",
      "source": [
        "#grouping to create a tier flag\n",
        "tier_group = df.groupby('company_hash').mean()['ctc'].reset_index()\n",
        "min_salary_com = tier_group['ctc'].min()\n",
        "max_salary_com = tier_group['ctc'].max()\n",
        "salary_bin = (max_salary_com - min_salary_com)//3"
      ],
      "metadata": {
        "id": "hWC0IHWPI_4F"
      },
      "execution_count": null,
      "outputs": []
    },
    {
      "cell_type": "code",
      "source": [
        "#function for tier classifier\n",
        "def company_tier_classifier(x):\n",
        "  l1 = min_salary_com + salary_bin\n",
        "  l2 = l1 + salary_bin\n",
        "  if x <= l1:\n",
        "    return(3)\n",
        "  elif x <= l2:\n",
        "    return(2)\n",
        "  else:\n",
        "    return(1)"
      ],
      "metadata": {
        "id": "yG7Vns9NJtff"
      },
      "execution_count": null,
      "outputs": []
    },
    {
      "cell_type": "code",
      "source": [
        "tier_group['tier'] = tier_group['ctc'].apply(lambda x: company_tier_classifier(x))"
      ],
      "metadata": {
        "id": "fUkpZpADLjjG"
      },
      "execution_count": null,
      "outputs": []
    },
    {
      "cell_type": "code",
      "source": [
        "df = pd.merge(df,tier_group,left_on ='company_hash',right_on ='company_hash',how='left').rename(columns={'ctc_x':\"ctc\", 'ctc_y':'company_average'})"
      ],
      "metadata": {
        "id": "76sbqHycMLpQ"
      },
      "execution_count": null,
      "outputs": []
    },
    {
      "cell_type": "code",
      "source": [
        "df['tier'].value_counts().plot(kind='pie',figsize=(5,5),autopct='%1.1f',explode=[0.1,0.1,0.1])\n",
        "plt.grid()\n",
        "plt.title(\"% of different tier companies\")\n",
        "plt.show()"
      ],
      "metadata": {
        "colab": {
          "base_uri": "https://localhost:8080/",
          "height": 319
        },
        "id": "qYMMuRh0JQhx",
        "outputId": "30bb7872-6529-4834-b128-e9b1d12f1260"
      },
      "execution_count": null,
      "outputs": [
        {
          "output_type": "display_data",
          "data": {
            "text/plain": [
              "<Figure size 360x360 with 1 Axes>"
            ],
            "image/png": "[encoded data removed]"
          },
          "metadata": {}
        }
      ]
    },
    {
      "cell_type": "markdown",
      "source": [
        "**Observations**\n",
        "* There are just 2.6% of the companies which are tier1"
      ],
      "metadata": {
        "id": "JDD7Hjw5SjzP"
      }
    },
    {
      "cell_type": "code",
      "source": [
        "#grouping to create class flags\n",
        "class_group = df.groupby(['company_hash','job_position']).mean()['ctc'].reset_index()"
      ],
      "metadata": {
        "id": "MWADarkSXlYj"
      },
      "execution_count": null,
      "outputs": []
    },
    {
      "cell_type": "code",
      "source": [
        "min_salary_class = class_group['ctc'].min()\n",
        "max_salary_class = class_group['ctc'].max()\n",
        "salary_bin_class = (max_salary_class - min_salary_class)//3"
      ],
      "metadata": {
        "id": "BCjsAcheuVBv"
      },
      "execution_count": null,
      "outputs": []
    },
    {
      "cell_type": "code",
      "source": [
        "#function for class classifier\n",
        "def company_class_classifier(x):\n",
        "  l1 = min_salary_class + salary_bin_class\n",
        "  l2 = l1 + salary_bin_class\n",
        "  if x <= l1:\n",
        "    return(3)\n",
        "  elif x <= l2:\n",
        "    return(2)\n",
        "  else:\n",
        "    return(1)"
      ],
      "metadata": {
        "id": "XK2zJp0pum3s"
      },
      "execution_count": null,
      "outputs": []
    },
    {
      "cell_type": "code",
      "source": [
        "class_group['class'] = class_group['ctc'].apply(lambda x: company_class_classifier(x))"
      ],
      "metadata": {
        "id": "zKXq1Qj1ugbW"
      },
      "execution_count": null,
      "outputs": []
    },
    {
      "cell_type": "code",
      "source": [
        "class_group['class'].value_counts().plot(kind='pie',autopct='%1.1f',figsize=(5,5),explode=[0.1,0.1,0.1])\n",
        "plt.title(\"% of diffferent classes\")\n",
        "plt.show()"
      ],
      "metadata": {
        "colab": {
          "base_uri": "https://localhost:8080/",
          "height": 319
        },
        "id": "xsltDyH6zaNv",
        "outputId": "3d43b461-ef78-4ef4-ee0b-68dec6b106af"
      },
      "execution_count": null,
      "outputs": [
        {
          "output_type": "display_data",
          "data": {
            "text/plain": [
              "<Figure size 360x360 with 1 Axes>"
            ],
            "image/png": "[encoded data removed]"
          },
          "metadata": {}
        }
      ]
    },
    {
      "cell_type": "code",
      "source": [
        "class_group['id'] = class_group['company_hash']+class_group['job_position']"
      ],
      "metadata": {
        "id": "XGVMF1w25iLv"
      },
      "execution_count": null,
      "outputs": []
    },
    {
      "cell_type": "code",
      "source": [
        "df['class_id'] = df['company_hash'] + df['job_position']"
      ],
      "metadata": {
        "id": "1Lt9IhE856O-"
      },
      "execution_count": null,
      "outputs": []
    },
    {
      "cell_type": "code",
      "source": [
        "class_group = class_group[['id','class']]"
      ],
      "metadata": {
        "id": "eJaPzT8z6LhI"
      },
      "execution_count": null,
      "outputs": []
    },
    {
      "cell_type": "code",
      "source": [
        "df = pd.merge(df,class_group,left_on = 'class_id',right_on='id',how='left').drop(columns=['class_id','id'])"
      ],
      "metadata": {
        "id": "ha1JT3pJ6gse"
      },
      "execution_count": null,
      "outputs": []
    },
    {
      "cell_type": "code",
      "source": [
        "#grouping for designation flag\n",
        "designation_group = df.groupby(['company_hash','job_position','experience_years']).mean()['ctc'].reset_index()"
      ],
      "metadata": {
        "id": "3U8cAGbk8hI4"
      },
      "execution_count": null,
      "outputs": []
    },
    {
      "cell_type": "code",
      "source": [
        "min_salary_desig = designation_group['ctc'].min()\n",
        "max_salary_desig = designation_group['ctc'].max()\n",
        "salary_bin_desig = (max_salary_desig - min_salary_desig)//3"
      ],
      "metadata": {
        "id": "f6873jDg8xFb"
      },
      "execution_count": null,
      "outputs": []
    },
    {
      "cell_type": "code",
      "source": [
        "#function for designation classifier\n",
        "def company_designation_classifier(x):\n",
        "  l1 = min_salary_desig + salary_bin_desig\n",
        "  l2 = l1 + salary_bin_desig\n",
        "  if x <= l1:\n",
        "    return(3)\n",
        "  elif x <= l2:\n",
        "    return(2)\n",
        "  else:\n",
        "    return(1)"
      ],
      "metadata": {
        "id": "ZrA1Ztb68-Wr"
      },
      "execution_count": null,
      "outputs": []
    },
    {
      "cell_type": "code",
      "source": [
        "designation_group['designation'] = designation_group['ctc'].apply(lambda x: company_designation_classifier(x))"
      ],
      "metadata": {
        "id": "dmuS9fc89s__"
      },
      "execution_count": null,
      "outputs": []
    },
    {
      "cell_type": "code",
      "source": [
        "designation_group['designation'].value_counts().plot(kind='pie',autopct='%1.1f',figsize=(5,5),explode=[0.1,0.1,0.1])\n",
        "plt.title(\"% of different designation\")\n",
        "plt.show()"
      ],
      "metadata": {
        "colab": {
          "base_uri": "https://localhost:8080/",
          "height": 319
        },
        "id": "40-Nvn4t9-nw",
        "outputId": "076fa26f-c145-47ae-abf3-2acb920fb035"
      },
      "execution_count": null,
      "outputs": [
        {
          "output_type": "display_data",
          "data": {
            "text/plain": [
              "<Figure size 360x360 with 1 Axes>"
            ],
            "image/png": "[encoded data removed]"
          },
          "metadata": {}
        }
      ]
    },
    {
      "cell_type": "code",
      "source": [
        "designation_group['experience_years'] = designation_group['experience_years'].apply(lambda x : str(x))"
      ],
      "metadata": {
        "id": "H6gNR9iV_Hol"
      },
      "execution_count": null,
      "outputs": []
    },
    {
      "cell_type": "code",
      "source": [
        "designation_group['id'] = designation_group['company_hash']+designation_group['job_position']+designation_group['experience_years']"
      ],
      "metadata": {
        "id": "m9sHujQZ-20t"
      },
      "execution_count": null,
      "outputs": []
    },
    {
      "cell_type": "code",
      "source": [
        "df['experience_years'] = df['experience_years'].apply(lambda x: str(x))"
      ],
      "metadata": {
        "id": "PquOsdib_Vm3"
      },
      "execution_count": null,
      "outputs": []
    },
    {
      "cell_type": "code",
      "source": [
        "df['designation_id'] = df['company_hash'] + df['job_position'] + df['experience_years']"
      ],
      "metadata": {
        "id": "r9_qRnzF_bRe"
      },
      "execution_count": null,
      "outputs": []
    },
    {
      "cell_type": "code",
      "source": [
        "designation_group = designation_group[['id','designation']]"
      ],
      "metadata": {
        "id": "grfckDuYAAzs"
      },
      "execution_count": null,
      "outputs": []
    },
    {
      "cell_type": "code",
      "source": [
        "df = pd.merge(df,designation_group,left_on='designation_id',right_on='id',how='left').drop(columns=['designation_id','id'])"
      ],
      "metadata": {
        "id": "xLlXB9zR_tKf"
      },
      "execution_count": null,
      "outputs": []
    },
    {
      "cell_type": "code",
      "source": [
        "#Dataframe after creating tier, class and designation flags\n",
        "df.head()"
      ],
      "metadata": {
        "colab": {
          "base_uri": "https://localhost:8080/",
          "height": 357
        },
        "id": "Gvm9p5R0AutK",
        "outputId": "3777805b-8265-4284-ca07-b30773bfd80b"
      },
      "execution_count": null,
      "outputs": [
        {
          "output_type": "execute_result",
          "data": {
            "text/plain": [
              "                company_hash  \\\n",
              "0             atrgxnnt xzaxv   \n",
              "1  qtrxvzwt xzegwgbb rxbxnta   \n",
              "2              ojzwnvwnxw vx   \n",
              "3                  ngpgutaxv   \n",
              "4                 qxen sqghu   \n",
              "\n",
              "                                          email_hash  orgyear        ctc  \\\n",
              "0  6de0a4417d18ab14334c3f43397fc13b30c35149d70c05...   2016.0  1100000.0   \n",
              "1  b0aaf1ac138b53cb6e039ba2c3d6604a250d02d5145c10...   2018.0   449999.0   \n",
              "2  4860c670bcd48fb96c02a4b0ae3608ae6fdd98176112e9...   2015.0  2000000.0   \n",
              "3  effdede7a2e7c2af664c8a31d9346385016128d66bbc58...   2017.0   700000.0   \n",
              "4  6ff54e709262f55cb999a1c1db8436cb2055d8f79ab520...   2017.0  1400000.0   \n",
              "\n",
              "         job_position ctc_updated_year experience_years  company_average  \\\n",
              "0               Other           2020.0              6.0     1.115667e+06   \n",
              "1  FullStack Engineer           2019.0              4.0     1.200501e+06   \n",
              "2    Backend Engineer           2020.0              7.0     2.000000e+06   \n",
              "3    Backend Engineer           2019.0              5.0     1.690786e+06   \n",
              "4  FullStack Engineer           2019.0              5.0     9.400000e+05   \n",
              "\n",
              "   tier  class  designation  \n",
              "0     3      3            3  \n",
              "1     3      3            3  \n",
              "2     2      2            2  \n",
              "3     2      2            3  \n",
              "4     3      3            3  "
            ],
            "text/html": [
              "\n",
              "  <div id=\"df-61b43c6b-89f5-4d8c-9547-e547cc81447f\">\n",
              "    <div class=\"colab-df-container\">\n",
              "      <div>\n",
              "<style scoped>\n",
              "    .dataframe tbody tr th:only-of-type {\n",
              "        vertical-align: middle;\n",
              "    }\n",
              "\n",
              "    .dataframe tbody tr th {\n",
              "        vertical-align: top;\n",
              "    }\n",
              "\n",
              "    .dataframe thead th {\n",
              "        text-align: right;\n",
              "    }\n",
              "</style>\n",
              "<table border=\"1\" class=\"dataframe\">\n",
              "  <thead>\n",
              "    <tr style=\"text-align: right;\">\n",
              "      <th></th>\n",
              "      <th>company_hash</th>\n",
              "      <th>email_hash</th>\n",
              "      <th>orgyear</th>\n",
              "      <th>ctc</th>\n",
              "      <th>job_position</th>\n",
              "      <th>ctc_updated_year</th>\n",
              "      <th>experience_years</th>\n",
              "      <th>company_average</th>\n",
              "      <th>tier</th>\n",
              "      <th>class</th>\n",
              "      <th>designation</th>\n",
              "    </tr>\n",
              "  </thead>\n",
              "  <tbody>\n",
              "    <tr>\n",
              "      <th>0</th>\n",
              "      <td>atrgxnnt xzaxv</td>\n",
              "      <td>6de0a4417d18ab14334c3f43397fc13b30c35149d70c05...</td>\n",
              "      <td>2016.0</td>\n",
              "      <td>1100000.0</td>\n",
              "      <td>Other</td>\n",
              "      <td>2020.0</td>\n",
              "      <td>6.0</td>\n",
              "      <td>1.115667e+06</td>\n",
              "      <td>3</td>\n",
              "      <td>3</td>\n",
              "      <td>3</td>\n",
              "    </tr>\n",
              "    <tr>\n",
              "      <th>1</th>\n",
              "      <td>qtrxvzwt xzegwgbb rxbxnta</td>\n",
              "      <td>b0aaf1ac138b53cb6e039ba2c3d6604a250d02d5145c10...</td>\n",
              "      <td>2018.0</td>\n",
              "      <td>449999.0</td>\n",
              "      <td>FullStack Engineer</td>\n",
              "      <td>2019.0</td>\n",
              "      <td>4.0</td>\n",
              "      <td>1.200501e+06</td>\n",
              "      <td>3</td>\n",
              "      <td>3</td>\n",
              "      <td>3</td>\n",
              "    </tr>\n",
              "    <tr>\n",
              "      <th>2</th>\n",
              "      <td>ojzwnvwnxw vx</td>\n",
              "      <td>4860c670bcd48fb96c02a4b0ae3608ae6fdd98176112e9...</td>\n",
              "      <td>2015.0</td>\n",
              "      <td>2000000.0</td>\n",
              "      <td>Backend Engineer</td>\n",
              "      <td>2020.0</td>\n",
              "      <td>7.0</td>\n",
              "      <td>2.000000e+06</td>\n",
              "      <td>2</td>\n",
              "      <td>2</td>\n",
              "      <td>2</td>\n",
              "    </tr>\n",
              "    <tr>\n",
              "      <th>3</th>\n",
              "      <td>ngpgutaxv</td>\n",
              "      <td>effdede7a2e7c2af664c8a31d9346385016128d66bbc58...</td>\n",
              "      <td>2017.0</td>\n",
              "      <td>700000.0</td>\n",
              "      <td>Backend Engineer</td>\n",
              "      <td>2019.0</td>\n",
              "      <td>5.0</td>\n",
              "      <td>1.690786e+06</td>\n",
              "      <td>2</td>\n",
              "      <td>2</td>\n",
              "      <td>3</td>\n",
              "    </tr>\n",
              "    <tr>\n",
              "      <th>4</th>\n",
              "      <td>qxen sqghu</td>\n",
              "      <td>6ff54e709262f55cb999a1c1db8436cb2055d8f79ab520...</td>\n",
              "      <td>2017.0</td>\n",
              "      <td>1400000.0</td>\n",
              "      <td>FullStack Engineer</td>\n",
              "      <td>2019.0</td>\n",
              "      <td>5.0</td>\n",
              "      <td>9.400000e+05</td>\n",
              "      <td>3</td>\n",
              "      <td>3</td>\n",
              "      <td>3</td>\n",
              "    </tr>\n",
              "  </tbody>\n",
              "</table>\n",
              "</div>\n",
              "      <button class=\"colab-df-convert\" onclick=\"convertToInteractive('df-61b43c6b-89f5-4d8c-9547-e547cc81447f')\"\n",
              "              title=\"Convert this dataframe to an interactive table.\"\n",
              "              style=\"display:none;\">\n",
              "        \n",
              "  <svg xmlns=\"http://www.w3.org/2000/svg\" height=\"24px\"viewBox=\"0 0 24 24\"\n",
              "       width=\"24px\">\n",
              "    <path d=\"M0 0h24v24H0V0z\" fill=\"none\"/>\n",
              "    <path d=\"M18.56 5.44l.94 2.06.94-2.06 2.06-.94-2.06-.94-.94-2.06-.94 2.06-2.06.94zm-11 1L8.5 8.5l.94-2.06 2.06-.94-2.06-.94L8.5 2.5l-.94 2.06-2.06.94zm10 10l.94 2.06.94-2.06 2.06-.94-2.06-.94-.94-2.06-.94 2.06-2.06.94z\"/><path d=\"M17.41 7.96l-1.37-1.37c-.4-.4-.92-.59-1.43-.59-.52 0-1.04.2-1.43.59L10.3 9.45l-7.72 7.72c-.78.78-.78 2.05 0 2.83L4 21.41c.39.39.9.59 1.41.59.51 0 1.02-.2 1.41-.59l7.78-7.78 2.81-2.81c.8-.78.8-2.07 0-2.86zM5.41 20L4 18.59l7.72-7.72 1.47 1.35L5.41 20z\"/>\n",
              "  </svg>\n",
              "      </button>\n",
              "      \n",
              "  <style>\n",
              "    .colab-df-container {\n",
              "      display:flex;\n",
              "      flex-wrap:wrap;\n",
              "      gap: 12px;\n",
              "    }\n",
              "\n",
              "    .colab-df-convert {\n",
              "      background-color: #E8F0FE;\n",
              "      border: none;\n",
              "      border-radius: 50%;\n",
              "      cursor: pointer;\n",
              "      display: none;\n",
              "      fill: #1967D2;\n",
              "      height: 32px;\n",
              "      padding: 0 0 0 0;\n",
              "      width: 32px;\n",
              "    }\n",
              "\n",
              "    .colab-df-convert:hover {\n",
              "      background-color: #E2EBFA;\n",
              "      box-shadow: 0px 1px 2px rgba(60, 64, 67, 0.3), 0px 1px 3px 1px rgba(60, 64, 67, 0.15);\n",
              "      fill: #174EA6;\n",
              "    }\n",
              "\n",
              "    [theme=dark] .colab-df-convert {\n",
              "      background-color: #3B4455;\n",
              "      fill: #D2E3FC;\n",
              "    }\n",
              "\n",
              "    [theme=dark] .colab-df-convert:hover {\n",
              "      background-color: #434B5C;\n",
              "      box-shadow: 0px 1px 3px 1px rgba(0, 0, 0, 0.15);\n",
              "      filter: drop-shadow(0px 1px 2px rgba(0, 0, 0, 0.3));\n",
              "      fill: #FFFFFF;\n",
              "    }\n",
              "  </style>\n",
              "\n",
              "      <script>\n",
              "        const buttonEl =\n",
              "          document.querySelector('#df-61b43c6b-89f5-4d8c-9547-e547cc81447f button.colab-df-convert');\n",
              "        buttonEl.style.display =\n",
              "          google.colab.kernel.accessAllowed ? 'block' : 'none';\n",
              "\n",
              "        async function convertToInteractive(key) {\n",
              "          const element = document.querySelector('#df-61b43c6b-89f5-4d8c-9547-e547cc81447f');\n",
              "          const dataTable =\n",
              "            await google.colab.kernel.invokeFunction('convertToInteractive',\n",
              "                                                     [key], {});\n",
              "          if (!dataTable) return;\n",
              "\n",
              "          const docLinkHtml = 'Like what you see? Visit the ' +\n",
              "            '<a target=\"_blank\" href=https://colab.research.google.com/notebooks/data_table.ipynb>data table notebook</a>'\n",
              "            + ' to learn more about interactive tables.';\n",
              "          element.innerHTML = '';\n",
              "          dataTable['output_type'] = 'display_data';\n",
              "          await google.colab.output.renderOutput(dataTable, element);\n",
              "          const docLink = document.createElement('div');\n",
              "          docLink.innerHTML = docLinkHtml;\n",
              "          element.appendChild(docLink);\n",
              "        }\n",
              "      </script>\n",
              "    </div>\n",
              "  </div>\n",
              "  "
            ]
          },
          "metadata": {},
          "execution_count": 382
        }
      ]
    },
    {
      "cell_type": "code",
      "source": [
        "ds_tier = []\n",
        "for i in range(1,4,1):\n",
        "  ds_tier.append(df[(df['tier'] == i) & (df['job_position'] == 'Data Scientist')]['ctc'].median())"
      ],
      "metadata": {
        "id": "C_rRfo9oBlym"
      },
      "execution_count": null,
      "outputs": []
    },
    {
      "cell_type": "code",
      "source": [
        "plt.figure(figsize=(8,5))\n",
        "plt.bar(['Tier 1','Tier 2','Tier 3'],ds_tier)\n",
        "plt.title(\"Data Scientist Median Salary in different tier companies\")\n",
        "plt.show()"
      ],
      "metadata": {
        "colab": {
          "base_uri": "https://localhost:8080/",
          "height": 336
        },
        "id": "GFHC-I5nC85W",
        "outputId": "f20e2743-7d6d-4453-e322-b0ee4fb5f125"
      },
      "execution_count": null,
      "outputs": [
        {
          "output_type": "display_data",
          "data": {
            "text/plain": [
              "<Figure size 576x360 with 1 Axes>"
            ],
            "image/png": "[encoded data removed]"
          },
          "metadata": {
            "needs_background": "light"
          }
        }
      ]
    },
    {
      "cell_type": "markdown",
      "source": [
        "**Observations**\n",
        "* Tier 1 company data scientists get a median salary of 35 lakhs\n",
        "* Tier 2 company data scientists get a median salary of 18 lakhs\n",
        "* Tier 3 company data scientists get a median salary of 9 lakhs"
      ],
      "metadata": {
        "id": "RgFwwTF3Dop8"
      }
    },
    {
      "cell_type": "markdown",
      "source": [
        "##**Observation after Manual Clustering**"
      ],
      "metadata": {
        "id": "umBJjfxXhzQl"
      }
    },
    {
      "cell_type": "code",
      "source": [
        "#getting the top 5 companies with most employees \n",
        "df['company_hash'].value_counts()[:5]"
      ],
      "metadata": {
        "colab": {
          "base_uri": "https://localhost:8080/"
        },
        "id": "CkW24xCii4aN",
        "outputId": "8b905bc5-616f-4760-fed5-f373b2aea35f"
      },
      "execution_count": null,
      "outputs": [
        {
          "output_type": "execute_result",
          "data": {
            "text/plain": [
              "nvnv wgzohrnvzwj otqcxwto    7989\n",
              "xzegojo                      5064\n",
              "vbvkgz                       3393\n",
              "zgn vuurxwvmrt vwwghzn       3253\n",
              "wgszxkvzn                    3073\n",
              "Name: company_hash, dtype: int64"
            ]
          },
          "metadata": {},
          "execution_count": 385
        }
      ]
    },
    {
      "cell_type": "markdown",
      "source": [
        "**nvnv wgzohrnvzwj otqcxwto** company analysis "
      ],
      "metadata": {
        "id": "vF45bmenjIrI"
      }
    },
    {
      "cell_type": "code",
      "source": [
        "#Getting top 5 employee's \n",
        "df[(df['tier'] == 3) &  (df['company_hash'] == 'nvnv wgzohrnvzwj otqcxwto') & (df['job_position'] == 'Data Scientist')].sort_values(by=['ctc'],ascending=False)[['email_hash','ctc']][:5]"
      ],
      "metadata": {
        "colab": {
          "base_uri": "https://localhost:8080/",
          "height": 206
        },
        "id": "IISaNLGDjNiF",
        "outputId": "2faa9565-c625-47fd-ca21-4f7947d39570"
      },
      "execution_count": null,
      "outputs": [
        {
          "output_type": "execute_result",
          "data": {
            "text/plain": [
              "                                               email_hash        ctc\n",
              "113921  0bf9a65bba484fe9adaf30153b7c31f5d7fd1607118349...  3600000.0\n",
              "50803   6aa8cfeb5b98da66158e0af4ca8869362174abdba84a02...  3200000.0\n",
              "85545   4cfa7e643b30a89189bcca6084c9e273a9783e83ad3b81...  2900000.0\n",
              "186476  45779faa0b06cbcc1b07ce2e4df30602c4aabb6bbb0d80...  2070000.0\n",
              "190619  c1ef4ed5eeb40dcacbb5f7d0fc345fb77c6176024eb239...  2000000.0"
            ],
            "text/html": [
              "\n",
              "  <div id=\"df-c6063b50-c9be-46e3-9759-f562b42db3df\">\n",
              "    <div class=\"colab-df-container\">\n",
              "      <div>\n",
              "<style scoped>\n",
              "    .dataframe tbody tr th:only-of-type {\n",
              "        vertical-align: middle;\n",
              "    }\n",
              "\n",
              "    .dataframe tbody tr th {\n",
              "        vertical-align: top;\n",
              "    }\n",
              "\n",
              "    .dataframe thead th {\n",
              "        text-align: right;\n",
              "    }\n",
              "</style>\n",
              "<table border=\"1\" class=\"dataframe\">\n",
              "  <thead>\n",
              "    <tr style=\"text-align: right;\">\n",
              "      <th></th>\n",
              "      <th>email_hash</th>\n",
              "      <th>ctc</th>\n",
              "    </tr>\n",
              "  </thead>\n",
              "  <tbody>\n",
              "    <tr>\n",
              "      <th>113921</th>\n",
              "      <td>0bf9a65bba484fe9adaf30153b7c31f5d7fd1607118349...</td>\n",
              "      <td>3600000.0</td>\n",
              "    </tr>\n",
              "    <tr>\n",
              "      <th>50803</th>\n",
              "      <td>6aa8cfeb5b98da66158e0af4ca8869362174abdba84a02...</td>\n",
              "      <td>3200000.0</td>\n",
              "    </tr>\n",
              "    <tr>\n",
              "      <th>85545</th>\n",
              "      <td>4cfa7e643b30a89189bcca6084c9e273a9783e83ad3b81...</td>\n",
              "      <td>2900000.0</td>\n",
              "    </tr>\n",
              "    <tr>\n",
              "      <th>186476</th>\n",
              "      <td>45779faa0b06cbcc1b07ce2e4df30602c4aabb6bbb0d80...</td>\n",
              "      <td>2070000.0</td>\n",
              "    </tr>\n",
              "    <tr>\n",
              "      <th>190619</th>\n",
              "      <td>c1ef4ed5eeb40dcacbb5f7d0fc345fb77c6176024eb239...</td>\n",
              "      <td>2000000.0</td>\n",
              "    </tr>\n",
              "  </tbody>\n",
              "</table>\n",
              "</div>\n",
              "      <button class=\"colab-df-convert\" onclick=\"convertToInteractive('df-c6063b50-c9be-46e3-9759-f562b42db3df')\"\n",
              "              title=\"Convert this dataframe to an interactive table.\"\n",
              "              style=\"display:none;\">\n",
              "        \n",
              "  <svg xmlns=\"http://www.w3.org/2000/svg\" height=\"24px\"viewBox=\"0 0 24 24\"\n",
              "       width=\"24px\">\n",
              "    <path d=\"M0 0h24v24H0V0z\" fill=\"none\"/>\n",
              "    <path d=\"M18.56 5.44l.94 2.06.94-2.06 2.06-.94-2.06-.94-.94-2.06-.94 2.06-2.06.94zm-11 1L8.5 8.5l.94-2.06 2.06-.94-2.06-.94L8.5 2.5l-.94 2.06-2.06.94zm10 10l.94 2.06.94-2.06 2.06-.94-2.06-.94-.94-2.06-.94 2.06-2.06.94z\"/><path d=\"M17.41 7.96l-1.37-1.37c-.4-.4-.92-.59-1.43-.59-.52 0-1.04.2-1.43.59L10.3 9.45l-7.72 7.72c-.78.78-.78 2.05 0 2.83L4 21.41c.39.39.9.59 1.41.59.51 0 1.02-.2 1.41-.59l7.78-7.78 2.81-2.81c.8-.78.8-2.07 0-2.86zM5.41 20L4 18.59l7.72-7.72 1.47 1.35L5.41 20z\"/>\n",
              "  </svg>\n",
              "      </button>\n",
              "      \n",
              "  <style>\n",
              "    .colab-df-container {\n",
              "      display:flex;\n",
              "      flex-wrap:wrap;\n",
              "      gap: 12px;\n",
              "    }\n",
              "\n",
              "    .colab-df-convert {\n",
              "      background-color: #E8F0FE;\n",
              "      border: none;\n",
              "      border-radius: 50%;\n",
              "      cursor: pointer;\n",
              "      display: none;\n",
              "      fill: #1967D2;\n",
              "      height: 32px;\n",
              "      padding: 0 0 0 0;\n",
              "      width: 32px;\n",
              "    }\n",
              "\n",
              "    .colab-df-convert:hover {\n",
              "      background-color: #E2EBFA;\n",
              "      box-shadow: 0px 1px 2px rgba(60, 64, 67, 0.3), 0px 1px 3px 1px rgba(60, 64, 67, 0.15);\n",
              "      fill: #174EA6;\n",
              "    }\n",
              "\n",
              "    [theme=dark] .colab-df-convert {\n",
              "      background-color: #3B4455;\n",
              "      fill: #D2E3FC;\n",
              "    }\n",
              "\n",
              "    [theme=dark] .colab-df-convert:hover {\n",
              "      background-color: #434B5C;\n",
              "      box-shadow: 0px 1px 3px 1px rgba(0, 0, 0, 0.15);\n",
              "      filter: drop-shadow(0px 1px 2px rgba(0, 0, 0, 0.3));\n",
              "      fill: #FFFFFF;\n",
              "    }\n",
              "  </style>\n",
              "\n",
              "      <script>\n",
              "        const buttonEl =\n",
              "          document.querySelector('#df-c6063b50-c9be-46e3-9759-f562b42db3df button.colab-df-convert');\n",
              "        buttonEl.style.display =\n",
              "          google.colab.kernel.accessAllowed ? 'block' : 'none';\n",
              "\n",
              "        async function convertToInteractive(key) {\n",
              "          const element = document.querySelector('#df-c6063b50-c9be-46e3-9759-f562b42db3df');\n",
              "          const dataTable =\n",
              "            await google.colab.kernel.invokeFunction('convertToInteractive',\n",
              "                                                     [key], {});\n",
              "          if (!dataTable) return;\n",
              "\n",
              "          const docLinkHtml = 'Like what you see? Visit the ' +\n",
              "            '<a target=\"_blank\" href=https://colab.research.google.com/notebooks/data_table.ipynb>data table notebook</a>'\n",
              "            + ' to learn more about interactive tables.';\n",
              "          element.innerHTML = '';\n",
              "          dataTable['output_type'] = 'display_data';\n",
              "          await google.colab.output.renderOutput(dataTable, element);\n",
              "          const docLink = document.createElement('div');\n",
              "          docLink.innerHTML = docLinkHtml;\n",
              "          element.appendChild(docLink);\n",
              "        }\n",
              "      </script>\n",
              "    </div>\n",
              "  </div>\n",
              "  "
            ]
          },
          "metadata": {},
          "execution_count": 386
        }
      ]
    },
    {
      "cell_type": "code",
      "source": [
        "#Getting average salary of a data scientist at nvnv wgzohrnvzwj otqcxwto\n",
        "df[(df['tier'] == 3) &  (df['company_hash'] == 'nvnv wgzohrnvzwj otqcxwto') & (df['job_position'] == 'Data Scientist')].sort_values(by=['ctc'],ascending=False)['ctc'].mean()"
      ],
      "metadata": {
        "colab": {
          "base_uri": "https://localhost:8080/"
        },
        "id": "_cXg18bal4GP",
        "outputId": "1a7c5ec3-9822-4048-c3a1-358c0c9f1a78"
      },
      "execution_count": null,
      "outputs": [
        {
          "output_type": "execute_result",
          "data": {
            "text/plain": [
              "749111.6756756756"
            ]
          },
          "metadata": {},
          "execution_count": 387
        }
      ]
    },
    {
      "cell_type": "code",
      "source": [
        "#Getting average salary of a data scientist at nvnv wgzohrnvzwj otqcxwto\n",
        "df[(df['tier'] == 3)  & (df['job_position'] == 'Data Scientist')].sort_values(by=['ctc'],ascending=False)['ctc'].mean()"
      ],
      "metadata": {
        "colab": {
          "base_uri": "https://localhost:8080/"
        },
        "id": "v14gVJ9OnbHw",
        "outputId": "2b150b7b-058c-40ad-f0e2-4801d2919223"
      },
      "execution_count": null,
      "outputs": [
        {
          "output_type": "execute_result",
          "data": {
            "text/plain": [
              "1056094.777124375"
            ]
          },
          "metadata": {},
          "execution_count": 388
        }
      ]
    },
    {
      "cell_type": "markdown",
      "source": [
        "**Observations**\n",
        "\n",
        "**Company : nvnv wgzohrnvzwj otqcxwto**\n",
        "\n",
        "* Here are the Top 5 **Data Scientists** in **nvnv wgzohrnvzwj otqcxwto** company.\n",
        "* **nvnv wgzohrnvzwj otqcxwto** is a Tier 3 company\n",
        "* The average salary for a data scientist at **nvnv wgzohrnvzwj otqcxwto** company is 7,49,11.\n",
        "* The average salary for a data scientist at a tier 3 company is 10,56,094\n",
        "* The company's salary for Data Scientists is lower than the tier's average"
      ],
      "metadata": {
        "id": "iReIqH8llaHI"
      }
    },
    {
      "cell_type": "markdown",
      "source": [
        "###**Tier 2 and Class 1**"
      ],
      "metadata": {
        "id": "uu5rk4zcp96n"
      }
    },
    {
      "cell_type": "code",
      "source": [
        "#Getting data where companies are tier 2 and class is 1\n",
        "df[(df['tier'] == 2) & (df['class'] == 1)]['company_hash'].value_counts()[:5]"
      ],
      "metadata": {
        "colab": {
          "base_uri": "https://localhost:8080/"
        },
        "id": "J57WqcX7sw1k",
        "outputId": "6469038c-c33d-4018-f2fd-23f548849000"
      },
      "execution_count": null,
      "outputs": [
        {
          "output_type": "execute_result",
          "data": {
            "text/plain": [
              "erxupvqn      546\n",
              "vagmt         160\n",
              "ofxssj        134\n",
              "ovrtoegqwt    121\n",
              "xzbgmx        107\n",
              "Name: company_hash, dtype: int64"
            ]
          },
          "metadata": {},
          "execution_count": 389
        }
      ]
    },
    {
      "cell_type": "markdown",
      "source": [
        "**erxupvqn** company analysis"
      ],
      "metadata": {
        "id": "dEKRPhuLtiUL"
      }
    },
    {
      "cell_type": "code",
      "source": [
        "#Getting top 10 Data Scientists from class 1 and company \"erxupvqn\"\n",
        "df[(df['class'] == 1) & (df['company_hash'] == 'erxupvqn')  & (df['job_position'] == 'Data Scientist')].sort_values(by=['ctc'],ascending=False)[:10][['email_hash','ctc']]"
      ],
      "metadata": {
        "colab": {
          "base_uri": "https://localhost:8080/",
          "height": 363
        },
        "id": "_l9Dp_wlqFh5",
        "outputId": "77af523b-581d-425b-a674-6cf7a6e9dd98"
      },
      "execution_count": null,
      "outputs": [
        {
          "output_type": "execute_result",
          "data": {
            "text/plain": [
              "                                               email_hash        ctc\n",
              "72380   ec77090a72db6dd8b71a313dd45fa4c45f329992b0264d...  3840000.0\n",
              "145745  2db8dd24dfdf0f91042b1c5076f2c3e16211cbb6e7e162...  3840000.0\n",
              "167278  a26cc532d9493ea0c191bdf771d693cfcfd8c8930e1516...  3840000.0\n",
              "184157  b7b1a36da5e32bd8904fa269e875509dfe2a890b717806...  3840000.0\n",
              "185201  e9a4efdf9f32e7f062e05dcae4ed32751f8eecfd4b3c9d...  3840000.0\n",
              "177324  91048c7f01282884fa9c1ce8499ed4c4bdf05c87f35ab0...  3700000.0\n",
              "102230  71dd396ef6049136a7321d549b117d91f4b3c2d1bc82ab...  3200000.0\n",
              "117954  d6e0db35b751edf14d8fbe621481e28aab9df264796c24...  3000000.0\n",
              "122105  96ab90af86726961e4d6a38a498b18fa5d5f90c8481b72...  2400000.0\n",
              "70855   2fd0a51b851a76343eca7b442ab0b61533eaced0d480f3...  2000000.0"
            ],
            "text/html": [
              "\n",
              "  <div id=\"df-49d460e9-0396-420b-9eb2-145f5dcde0ec\">\n",
              "    <div class=\"colab-df-container\">\n",
              "      <div>\n",
              "<style scoped>\n",
              "    .dataframe tbody tr th:only-of-type {\n",
              "        vertical-align: middle;\n",
              "    }\n",
              "\n",
              "    .dataframe tbody tr th {\n",
              "        vertical-align: top;\n",
              "    }\n",
              "\n",
              "    .dataframe thead th {\n",
              "        text-align: right;\n",
              "    }\n",
              "</style>\n",
              "<table border=\"1\" class=\"dataframe\">\n",
              "  <thead>\n",
              "    <tr style=\"text-align: right;\">\n",
              "      <th></th>\n",
              "      <th>email_hash</th>\n",
              "      <th>ctc</th>\n",
              "    </tr>\n",
              "  </thead>\n",
              "  <tbody>\n",
              "    <tr>\n",
              "      <th>72380</th>\n",
              "      <td>ec77090a72db6dd8b71a313dd45fa4c45f329992b0264d...</td>\n",
              "      <td>3840000.0</td>\n",
              "    </tr>\n",
              "    <tr>\n",
              "      <th>145745</th>\n",
              "      <td>2db8dd24dfdf0f91042b1c5076f2c3e16211cbb6e7e162...</td>\n",
              "      <td>3840000.0</td>\n",
              "    </tr>\n",
              "    <tr>\n",
              "      <th>167278</th>\n",
              "      <td>a26cc532d9493ea0c191bdf771d693cfcfd8c8930e1516...</td>\n",
              "      <td>3840000.0</td>\n",
              "    </tr>\n",
              "    <tr>\n",
              "      <th>184157</th>\n",
              "      <td>b7b1a36da5e32bd8904fa269e875509dfe2a890b717806...</td>\n",
              "      <td>3840000.0</td>\n",
              "    </tr>\n",
              "    <tr>\n",
              "      <th>185201</th>\n",
              "      <td>e9a4efdf9f32e7f062e05dcae4ed32751f8eecfd4b3c9d...</td>\n",
              "      <td>3840000.0</td>\n",
              "    </tr>\n",
              "    <tr>\n",
              "      <th>177324</th>\n",
              "      <td>91048c7f01282884fa9c1ce8499ed4c4bdf05c87f35ab0...</td>\n",
              "      <td>3700000.0</td>\n",
              "    </tr>\n",
              "    <tr>\n",
              "      <th>102230</th>\n",
              "      <td>71dd396ef6049136a7321d549b117d91f4b3c2d1bc82ab...</td>\n",
              "      <td>3200000.0</td>\n",
              "    </tr>\n",
              "    <tr>\n",
              "      <th>117954</th>\n",
              "      <td>d6e0db35b751edf14d8fbe621481e28aab9df264796c24...</td>\n",
              "      <td>3000000.0</td>\n",
              "    </tr>\n",
              "    <tr>\n",
              "      <th>122105</th>\n",
              "      <td>96ab90af86726961e4d6a38a498b18fa5d5f90c8481b72...</td>\n",
              "      <td>2400000.0</td>\n",
              "    </tr>\n",
              "    <tr>\n",
              "      <th>70855</th>\n",
              "      <td>2fd0a51b851a76343eca7b442ab0b61533eaced0d480f3...</td>\n",
              "      <td>2000000.0</td>\n",
              "    </tr>\n",
              "  </tbody>\n",
              "</table>\n",
              "</div>\n",
              "      <button class=\"colab-df-convert\" onclick=\"convertToInteractive('df-49d460e9-0396-420b-9eb2-145f5dcde0ec')\"\n",
              "              title=\"Convert this dataframe to an interactive table.\"\n",
              "              style=\"display:none;\">\n",
              "        \n",
              "  <svg xmlns=\"http://www.w3.org/2000/svg\" height=\"24px\"viewBox=\"0 0 24 24\"\n",
              "       width=\"24px\">\n",
              "    <path d=\"M0 0h24v24H0V0z\" fill=\"none\"/>\n",
              "    <path d=\"M18.56 5.44l.94 2.06.94-2.06 2.06-.94-2.06-.94-.94-2.06-.94 2.06-2.06.94zm-11 1L8.5 8.5l.94-2.06 2.06-.94-2.06-.94L8.5 2.5l-.94 2.06-2.06.94zm10 10l.94 2.06.94-2.06 2.06-.94-2.06-.94-.94-2.06-.94 2.06-2.06.94z\"/><path d=\"M17.41 7.96l-1.37-1.37c-.4-.4-.92-.59-1.43-.59-.52 0-1.04.2-1.43.59L10.3 9.45l-7.72 7.72c-.78.78-.78 2.05 0 2.83L4 21.41c.39.39.9.59 1.41.59.51 0 1.02-.2 1.41-.59l7.78-7.78 2.81-2.81c.8-.78.8-2.07 0-2.86zM5.41 20L4 18.59l7.72-7.72 1.47 1.35L5.41 20z\"/>\n",
              "  </svg>\n",
              "      </button>\n",
              "      \n",
              "  <style>\n",
              "    .colab-df-container {\n",
              "      display:flex;\n",
              "      flex-wrap:wrap;\n",
              "      gap: 12px;\n",
              "    }\n",
              "\n",
              "    .colab-df-convert {\n",
              "      background-color: #E8F0FE;\n",
              "      border: none;\n",
              "      border-radius: 50%;\n",
              "      cursor: pointer;\n",
              "      display: none;\n",
              "      fill: #1967D2;\n",
              "      height: 32px;\n",
              "      padding: 0 0 0 0;\n",
              "      width: 32px;\n",
              "    }\n",
              "\n",
              "    .colab-df-convert:hover {\n",
              "      background-color: #E2EBFA;\n",
              "      box-shadow: 0px 1px 2px rgba(60, 64, 67, 0.3), 0px 1px 3px 1px rgba(60, 64, 67, 0.15);\n",
              "      fill: #174EA6;\n",
              "    }\n",
              "\n",
              "    [theme=dark] .colab-df-convert {\n",
              "      background-color: #3B4455;\n",
              "      fill: #D2E3FC;\n",
              "    }\n",
              "\n",
              "    [theme=dark] .colab-df-convert:hover {\n",
              "      background-color: #434B5C;\n",
              "      box-shadow: 0px 1px 3px 1px rgba(0, 0, 0, 0.15);\n",
              "      filter: drop-shadow(0px 1px 2px rgba(0, 0, 0, 0.3));\n",
              "      fill: #FFFFFF;\n",
              "    }\n",
              "  </style>\n",
              "\n",
              "      <script>\n",
              "        const buttonEl =\n",
              "          document.querySelector('#df-49d460e9-0396-420b-9eb2-145f5dcde0ec button.colab-df-convert');\n",
              "        buttonEl.style.display =\n",
              "          google.colab.kernel.accessAllowed ? 'block' : 'none';\n",
              "\n",
              "        async function convertToInteractive(key) {\n",
              "          const element = document.querySelector('#df-49d460e9-0396-420b-9eb2-145f5dcde0ec');\n",
              "          const dataTable =\n",
              "            await google.colab.kernel.invokeFunction('convertToInteractive',\n",
              "                                                     [key], {});\n",
              "          if (!dataTable) return;\n",
              "\n",
              "          const docLinkHtml = 'Like what you see? Visit the ' +\n",
              "            '<a target=\"_blank\" href=https://colab.research.google.com/notebooks/data_table.ipynb>data table notebook</a>'\n",
              "            + ' to learn more about interactive tables.';\n",
              "          element.innerHTML = '';\n",
              "          dataTable['output_type'] = 'display_data';\n",
              "          await google.colab.output.renderOutput(dataTable, element);\n",
              "          const docLink = document.createElement('div');\n",
              "          docLink.innerHTML = docLinkHtml;\n",
              "          element.appendChild(docLink);\n",
              "        }\n",
              "      </script>\n",
              "    </div>\n",
              "  </div>\n",
              "  "
            ]
          },
          "metadata": {},
          "execution_count": 390
        }
      ]
    },
    {
      "cell_type": "code",
      "source": [
        "#Getting median salary of Data Scientists in class 1 and from \"erxupvqn\" company\n",
        "df[(df['class'] == 1) &   (df['company_hash'] == 'erxupvqn')  & (df['job_position'] == 'Data Scientist')].sort_values(by=['ctc'],ascending=False)['ctc'].median()"
      ],
      "metadata": {
        "colab": {
          "base_uri": "https://localhost:8080/"
        },
        "id": "kYWWoIJZrDWQ",
        "outputId": "584a3194-da8a-410f-b48b-cfc992ab4b73"
      },
      "execution_count": null,
      "outputs": [
        {
          "output_type": "execute_result",
          "data": {
            "text/plain": [
              "3200000.0"
            ]
          },
          "metadata": {},
          "execution_count": 391
        }
      ]
    },
    {
      "cell_type": "markdown",
      "source": [
        "**Observations of Top 10 employees in Class 1 and from \"erxupvqn\" company**\n",
        "* The outliers in the data has been imputed. Hence we may not see the actual salaries of the top data scientists belonging to class 1 & \"erxupvqn\" company\n",
        "* The median salary of data scientists belonging to Class 1 and erxupvqn company is 32,00,000"
      ],
      "metadata": {
        "id": "edL9K1cQquLN"
      }
    },
    {
      "cell_type": "markdown",
      "source": [
        "###**Tier 2 & Class 3**"
      ],
      "metadata": {
        "id": "vLHBO1D2vG-N"
      }
    },
    {
      "cell_type": "code",
      "source": [
        "#Getting data where companies are tier 2 and class is 3\n",
        "df[(df['tier'] == 2) & (df['class'] == 3) & (df['job_position'] == 'Data Scientist')]['company_hash'].value_counts()[:5]"
      ],
      "metadata": {
        "colab": {
          "base_uri": "https://localhost:8080/"
        },
        "id": "-8O8Oh-zvPDu",
        "outputId": "cc105d1e-740c-4e14-b501-e1d7f883358f"
      },
      "execution_count": null,
      "outputs": [
        {
          "output_type": "execute_result",
          "data": {
            "text/plain": [
              "ovu                                     10\n",
              "xzntr wgqugqvnxgz                        9\n",
              "uytzgb utgurt                            8\n",
              "uqvbvnx ntwyzgrgsxto uqxcvnt rxbxnta     7\n",
              "yvqbvz wgzztwnta otqcxwto                7\n",
              "Name: company_hash, dtype: int64"
            ]
          },
          "metadata": {},
          "execution_count": 392
        }
      ]
    },
    {
      "cell_type": "markdown",
      "source": [
        "**ovu** analysis"
      ],
      "metadata": {
        "id": "lanGGqeAvUDX"
      }
    },
    {
      "cell_type": "code",
      "source": [
        "#Getting bottom 10 Data Scientists from class 3 and company \"gqvwrt\"\n",
        "df[(df['class'] == 3) & (df['company_hash'] == 'ovu') & (df['job_position'] == 'Data Scientist')].sort_values(by=['ctc'])[:10][['email_hash','ctc']]"
      ],
      "metadata": {
        "colab": {
          "base_uri": "https://localhost:8080/",
          "height": 363
        },
        "id": "Yd-nMZSkvYX4",
        "outputId": "25eb821f-e58e-4fb3-f427-33bac480fe50"
      },
      "execution_count": null,
      "outputs": [
        {
          "output_type": "execute_result",
          "data": {
            "text/plain": [
              "                                               email_hash        ctc\n",
              "116554  1d5882f424594c76fce77adb127bca67bf067dee6757fa...   300000.0\n",
              "21578   4a521dae8ffc9418052c0d069d2c2c9e9b4bfd1f9af046...   500000.0\n",
              "37638   181cc277414c3a6a1adff7f307e9f113061bac25ff43c8...  1000000.0\n",
              "88072   f3b624d2b37e0e07efc47b599bdb0ae4eb93e632a06d58...  1100000.0\n",
              "91054   e35298c664a0e02b44f745eb6f8386ea7c8432dcd9058c...  1120000.0\n",
              "70705   cb5b5d529049763b0468db3b34cee9f175677111ccda2c...  1300000.0\n",
              "64044   26a38ebb06891966efc871036ff886898ac06d4f96f4a9...  1330000.0\n",
              "32347   182c3666922db448a71af537aba493625d765d9b42f5f1...  1360000.0\n",
              "142232  d6f04a7f748c7a6ec9d2e5513891a235ddd8b7c452ec3a...  2000000.0\n",
              "60972   4d995705f7d44cc3c712f84ddbc32a363f4607601059d8...  2500000.0"
            ],
            "text/html": [
              "\n",
              "  <div id=\"df-9853a931-3435-4b0b-82d6-b6761d0c0d1b\">\n",
              "    <div class=\"colab-df-container\">\n",
              "      <div>\n",
              "<style scoped>\n",
              "    .dataframe tbody tr th:only-of-type {\n",
              "        vertical-align: middle;\n",
              "    }\n",
              "\n",
              "    .dataframe tbody tr th {\n",
              "        vertical-align: top;\n",
              "    }\n",
              "\n",
              "    .dataframe thead th {\n",
              "        text-align: right;\n",
              "    }\n",
              "</style>\n",
              "<table border=\"1\" class=\"dataframe\">\n",
              "  <thead>\n",
              "    <tr style=\"text-align: right;\">\n",
              "      <th></th>\n",
              "      <th>email_hash</th>\n",
              "      <th>ctc</th>\n",
              "    </tr>\n",
              "  </thead>\n",
              "  <tbody>\n",
              "    <tr>\n",
              "      <th>116554</th>\n",
              "      <td>1d5882f424594c76fce77adb127bca67bf067dee6757fa...</td>\n",
              "      <td>300000.0</td>\n",
              "    </tr>\n",
              "    <tr>\n",
              "      <th>21578</th>\n",
              "      <td>4a521dae8ffc9418052c0d069d2c2c9e9b4bfd1f9af046...</td>\n",
              "      <td>500000.0</td>\n",
              "    </tr>\n",
              "    <tr>\n",
              "      <th>37638</th>\n",
              "      <td>181cc277414c3a6a1adff7f307e9f113061bac25ff43c8...</td>\n",
              "      <td>1000000.0</td>\n",
              "    </tr>\n",
              "    <tr>\n",
              "      <th>88072</th>\n",
              "      <td>f3b624d2b37e0e07efc47b599bdb0ae4eb93e632a06d58...</td>\n",
              "      <td>1100000.0</td>\n",
              "    </tr>\n",
              "    <tr>\n",
              "      <th>91054</th>\n",
              "      <td>e35298c664a0e02b44f745eb6f8386ea7c8432dcd9058c...</td>\n",
              "      <td>1120000.0</td>\n",
              "    </tr>\n",
              "    <tr>\n",
              "      <th>70705</th>\n",
              "      <td>cb5b5d529049763b0468db3b34cee9f175677111ccda2c...</td>\n",
              "      <td>1300000.0</td>\n",
              "    </tr>\n",
              "    <tr>\n",
              "      <th>64044</th>\n",
              "      <td>26a38ebb06891966efc871036ff886898ac06d4f96f4a9...</td>\n",
              "      <td>1330000.0</td>\n",
              "    </tr>\n",
              "    <tr>\n",
              "      <th>32347</th>\n",
              "      <td>182c3666922db448a71af537aba493625d765d9b42f5f1...</td>\n",
              "      <td>1360000.0</td>\n",
              "    </tr>\n",
              "    <tr>\n",
              "      <th>142232</th>\n",
              "      <td>d6f04a7f748c7a6ec9d2e5513891a235ddd8b7c452ec3a...</td>\n",
              "      <td>2000000.0</td>\n",
              "    </tr>\n",
              "    <tr>\n",
              "      <th>60972</th>\n",
              "      <td>4d995705f7d44cc3c712f84ddbc32a363f4607601059d8...</td>\n",
              "      <td>2500000.0</td>\n",
              "    </tr>\n",
              "  </tbody>\n",
              "</table>\n",
              "</div>\n",
              "      <button class=\"colab-df-convert\" onclick=\"convertToInteractive('df-9853a931-3435-4b0b-82d6-b6761d0c0d1b')\"\n",
              "              title=\"Convert this dataframe to an interactive table.\"\n",
              "              style=\"display:none;\">\n",
              "        \n",
              "  <svg xmlns=\"http://www.w3.org/2000/svg\" height=\"24px\"viewBox=\"0 0 24 24\"\n",
              "       width=\"24px\">\n",
              "    <path d=\"M0 0h24v24H0V0z\" fill=\"none\"/>\n",
              "    <path d=\"M18.56 5.44l.94 2.06.94-2.06 2.06-.94-2.06-.94-.94-2.06-.94 2.06-2.06.94zm-11 1L8.5 8.5l.94-2.06 2.06-.94-2.06-.94L8.5 2.5l-.94 2.06-2.06.94zm10 10l.94 2.06.94-2.06 2.06-.94-2.06-.94-.94-2.06-.94 2.06-2.06.94z\"/><path d=\"M17.41 7.96l-1.37-1.37c-.4-.4-.92-.59-1.43-.59-.52 0-1.04.2-1.43.59L10.3 9.45l-7.72 7.72c-.78.78-.78 2.05 0 2.83L4 21.41c.39.39.9.59 1.41.59.51 0 1.02-.2 1.41-.59l7.78-7.78 2.81-2.81c.8-.78.8-2.07 0-2.86zM5.41 20L4 18.59l7.72-7.72 1.47 1.35L5.41 20z\"/>\n",
              "  </svg>\n",
              "      </button>\n",
              "      \n",
              "  <style>\n",
              "    .colab-df-container {\n",
              "      display:flex;\n",
              "      flex-wrap:wrap;\n",
              "      gap: 12px;\n",
              "    }\n",
              "\n",
              "    .colab-df-convert {\n",
              "      background-color: #E8F0FE;\n",
              "      border: none;\n",
              "      border-radius: 50%;\n",
              "      cursor: pointer;\n",
              "      display: none;\n",
              "      fill: #1967D2;\n",
              "      height: 32px;\n",
              "      padding: 0 0 0 0;\n",
              "      width: 32px;\n",
              "    }\n",
              "\n",
              "    .colab-df-convert:hover {\n",
              "      background-color: #E2EBFA;\n",
              "      box-shadow: 0px 1px 2px rgba(60, 64, 67, 0.3), 0px 1px 3px 1px rgba(60, 64, 67, 0.15);\n",
              "      fill: #174EA6;\n",
              "    }\n",
              "\n",
              "    [theme=dark] .colab-df-convert {\n",
              "      background-color: #3B4455;\n",
              "      fill: #D2E3FC;\n",
              "    }\n",
              "\n",
              "    [theme=dark] .colab-df-convert:hover {\n",
              "      background-color: #434B5C;\n",
              "      box-shadow: 0px 1px 3px 1px rgba(0, 0, 0, 0.15);\n",
              "      filter: drop-shadow(0px 1px 2px rgba(0, 0, 0, 0.3));\n",
              "      fill: #FFFFFF;\n",
              "    }\n",
              "  </style>\n",
              "\n",
              "      <script>\n",
              "        const buttonEl =\n",
              "          document.querySelector('#df-9853a931-3435-4b0b-82d6-b6761d0c0d1b button.colab-df-convert');\n",
              "        buttonEl.style.display =\n",
              "          google.colab.kernel.accessAllowed ? 'block' : 'none';\n",
              "\n",
              "        async function convertToInteractive(key) {\n",
              "          const element = document.querySelector('#df-9853a931-3435-4b0b-82d6-b6761d0c0d1b');\n",
              "          const dataTable =\n",
              "            await google.colab.kernel.invokeFunction('convertToInteractive',\n",
              "                                                     [key], {});\n",
              "          if (!dataTable) return;\n",
              "\n",
              "          const docLinkHtml = 'Like what you see? Visit the ' +\n",
              "            '<a target=\"_blank\" href=https://colab.research.google.com/notebooks/data_table.ipynb>data table notebook</a>'\n",
              "            + ' to learn more about interactive tables.';\n",
              "          element.innerHTML = '';\n",
              "          dataTable['output_type'] = 'display_data';\n",
              "          await google.colab.output.renderOutput(dataTable, element);\n",
              "          const docLink = document.createElement('div');\n",
              "          docLink.innerHTML = docLinkHtml;\n",
              "          element.appendChild(docLink);\n",
              "        }\n",
              "      </script>\n",
              "    </div>\n",
              "  </div>\n",
              "  "
            ]
          },
          "metadata": {},
          "execution_count": 393
        }
      ]
    },
    {
      "cell_type": "code",
      "source": [
        "#Getting median salary of bottom 10 Data Scientists from class 3 and company \"gqvwrt\"\n",
        "df[(df['class'] == 3) & (df['company_hash'] == 'ovu') & (df['job_position'] == 'Data Scientist')].sort_values(by=['ctc'])['ctc'].median()"
      ],
      "metadata": {
        "colab": {
          "base_uri": "https://localhost:8080/"
        },
        "id": "HAvtMqpTx_We",
        "outputId": "eb1f354b-7a9e-4708-a5fd-5ac8ee9f4932"
      },
      "execution_count": null,
      "outputs": [
        {
          "output_type": "execute_result",
          "data": {
            "text/plain": [
              "1210000.0"
            ]
          },
          "metadata": {},
          "execution_count": 394
        }
      ]
    },
    {
      "cell_type": "markdown",
      "source": [
        "**Observations of Bottom 10 employees in Class 3 and from \"ovu\" company**\n",
        "* The outliers in the data has been imputed. Hence we may not see the actual salaries of the bottom data scientists belonging to class 3 & \"ovu\" company\n",
        "* The median salary of data scientists belonging to Class 3 and ovu company is 12,10,000"
      ],
      "metadata": {
        "id": "3tn7Khpax0u8"
      }
    },
    {
      "cell_type": "markdown",
      "source": [
        "###**Bottom 10 employees (earning less than most of the employees in the company)- Tier 3**"
      ],
      "metadata": {
        "id": "DTh7OE0jyjvy"
      }
    },
    {
      "cell_type": "code",
      "source": [
        "df[df['tier'] == 3]['company_hash'].value_counts()[:5]"
      ],
      "metadata": {
        "colab": {
          "base_uri": "https://localhost:8080/"
        },
        "id": "XiLfk_7kypHZ",
        "outputId": "2a2a5b56-dde7-4e3a-80d9-924a8c22d979"
      },
      "execution_count": null,
      "outputs": [
        {
          "output_type": "execute_result",
          "data": {
            "text/plain": [
              "nvnv wgzohrnvzwj otqcxwto    7989\n",
              "xzegojo                      5064\n",
              "zgn vuurxwvmrt vwwghzn       3253\n",
              "wgszxkvzn                    3073\n",
              "vwwtznhqt                    2761\n",
              "Name: company_hash, dtype: int64"
            ]
          },
          "metadata": {},
          "execution_count": 395
        }
      ]
    },
    {
      "cell_type": "markdown",
      "source": [
        "**Bottom 10 employees earning less than most of the employees in the company : nvnv wgzohrnvzwj otqcxwto**"
      ],
      "metadata": {
        "id": "LKsm4l_MzzC5"
      }
    },
    {
      "cell_type": "code",
      "source": [
        "df[df['company_hash'] == 'nvnv wgzohrnvzwj otqcxwto'].sort_values(by=['ctc'])[:10][['email_hash','job_position','ctc']]"
      ],
      "metadata": {
        "colab": {
          "base_uri": "https://localhost:8080/",
          "height": 363
        },
        "id": "vYyFbO-2z8KO",
        "outputId": "120d8bff-182f-412a-fea9-e324f09e9bbd"
      },
      "execution_count": null,
      "outputs": [
        {
          "output_type": "execute_result",
          "data": {
            "text/plain": [
              "                                               email_hash        job_position  \\\n",
              "135523  1ee0f94d4176e6a0ce0ffe1f863913bec65f50de96f199...               Other   \n",
              "146017  9c6017b273997ab0baedca428ba26dbbfc23cf13f202d9...    Backend Engineer   \n",
              "144339  4c029c8afc9c245b4300d08f2cc0ccde425aa1a620debe...  FullStack Engineer   \n",
              "144175  4c029c8afc9c245b4300d08f2cc0ccde425aa1a620debe...   Frontend Engineer   \n",
              "64876   1a19f11442abc311716e648395296a4d747426015279fb...               Other   \n",
              "110536  a75e82c13911b8d1d2fcf7d672806d530e38330f8b59b9...               Other   \n",
              "36611   0c30e699a12e43b62ba84a0d5a3c07c728d79813c2a8ab...               Other   \n",
              "143404  b11f363fac1149903ebd7ec4dd48f126679247fe80eb48...               Other   \n",
              "37113   916485ffb515589560f03cb525f02e5a8e8d8ea909548d...    Backend Engineer   \n",
              "64850   5126587c99c1acb501decb6489350ab6f19656c3fcee2c...               Other   \n",
              "\n",
              "             ctc  \n",
              "135523  200000.0  \n",
              "146017  200000.0  \n",
              "144339  200000.0  \n",
              "144175  200000.0  \n",
              "64876   200000.0  \n",
              "110536  200000.0  \n",
              "36611   200000.0  \n",
              "143404  200000.0  \n",
              "37113   200000.0  \n",
              "64850   200000.0  "
            ],
            "text/html": [
              "\n",
              "  <div id=\"df-e20aa525-a9b1-4841-b408-22bed2a4629e\">\n",
              "    <div class=\"colab-df-container\">\n",
              "      <div>\n",
              "<style scoped>\n",
              "    .dataframe tbody tr th:only-of-type {\n",
              "        vertical-align: middle;\n",
              "    }\n",
              "\n",
              "    .dataframe tbody tr th {\n",
              "        vertical-align: top;\n",
              "    }\n",
              "\n",
              "    .dataframe thead th {\n",
              "        text-align: right;\n",
              "    }\n",
              "</style>\n",
              "<table border=\"1\" class=\"dataframe\">\n",
              "  <thead>\n",
              "    <tr style=\"text-align: right;\">\n",
              "      <th></th>\n",
              "      <th>email_hash</th>\n",
              "      <th>job_position</th>\n",
              "      <th>ctc</th>\n",
              "    </tr>\n",
              "  </thead>\n",
              "  <tbody>\n",
              "    <tr>\n",
              "      <th>135523</th>\n",
              "      <td>1ee0f94d4176e6a0ce0ffe1f863913bec65f50de96f199...</td>\n",
              "      <td>Other</td>\n",
              "      <td>200000.0</td>\n",
              "    </tr>\n",
              "    <tr>\n",
              "      <th>146017</th>\n",
              "      <td>9c6017b273997ab0baedca428ba26dbbfc23cf13f202d9...</td>\n",
              "      <td>Backend Engineer</td>\n",
              "      <td>200000.0</td>\n",
              "    </tr>\n",
              "    <tr>\n",
              "      <th>144339</th>\n",
              "      <td>4c029c8afc9c245b4300d08f2cc0ccde425aa1a620debe...</td>\n",
              "      <td>FullStack Engineer</td>\n",
              "      <td>200000.0</td>\n",
              "    </tr>\n",
              "    <tr>\n",
              "      <th>144175</th>\n",
              "      <td>4c029c8afc9c245b4300d08f2cc0ccde425aa1a620debe...</td>\n",
              "      <td>Frontend Engineer</td>\n",
              "      <td>200000.0</td>\n",
              "    </tr>\n",
              "    <tr>\n",
              "      <th>64876</th>\n",
              "      <td>1a19f11442abc311716e648395296a4d747426015279fb...</td>\n",
              "      <td>Other</td>\n",
              "      <td>200000.0</td>\n",
              "    </tr>\n",
              "    <tr>\n",
              "      <th>110536</th>\n",
              "      <td>a75e82c13911b8d1d2fcf7d672806d530e38330f8b59b9...</td>\n",
              "      <td>Other</td>\n",
              "      <td>200000.0</td>\n",
              "    </tr>\n",
              "    <tr>\n",
              "      <th>36611</th>\n",
              "      <td>0c30e699a12e43b62ba84a0d5a3c07c728d79813c2a8ab...</td>\n",
              "      <td>Other</td>\n",
              "      <td>200000.0</td>\n",
              "    </tr>\n",
              "    <tr>\n",
              "      <th>143404</th>\n",
              "      <td>b11f363fac1149903ebd7ec4dd48f126679247fe80eb48...</td>\n",
              "      <td>Other</td>\n",
              "      <td>200000.0</td>\n",
              "    </tr>\n",
              "    <tr>\n",
              "      <th>37113</th>\n",
              "      <td>916485ffb515589560f03cb525f02e5a8e8d8ea909548d...</td>\n",
              "      <td>Backend Engineer</td>\n",
              "      <td>200000.0</td>\n",
              "    </tr>\n",
              "    <tr>\n",
              "      <th>64850</th>\n",
              "      <td>5126587c99c1acb501decb6489350ab6f19656c3fcee2c...</td>\n",
              "      <td>Other</td>\n",
              "      <td>200000.0</td>\n",
              "    </tr>\n",
              "  </tbody>\n",
              "</table>\n",
              "</div>\n",
              "      <button class=\"colab-df-convert\" onclick=\"convertToInteractive('df-e20aa525-a9b1-4841-b408-22bed2a4629e')\"\n",
              "              title=\"Convert this dataframe to an interactive table.\"\n",
              "              style=\"display:none;\">\n",
              "        \n",
              "  <svg xmlns=\"http://www.w3.org/2000/svg\" height=\"24px\"viewBox=\"0 0 24 24\"\n",
              "       width=\"24px\">\n",
              "    <path d=\"M0 0h24v24H0V0z\" fill=\"none\"/>\n",
              "    <path d=\"M18.56 5.44l.94 2.06.94-2.06 2.06-.94-2.06-.94-.94-2.06-.94 2.06-2.06.94zm-11 1L8.5 8.5l.94-2.06 2.06-.94-2.06-.94L8.5 2.5l-.94 2.06-2.06.94zm10 10l.94 2.06.94-2.06 2.06-.94-2.06-.94-.94-2.06-.94 2.06-2.06.94z\"/><path d=\"M17.41 7.96l-1.37-1.37c-.4-.4-.92-.59-1.43-.59-.52 0-1.04.2-1.43.59L10.3 9.45l-7.72 7.72c-.78.78-.78 2.05 0 2.83L4 21.41c.39.39.9.59 1.41.59.51 0 1.02-.2 1.41-.59l7.78-7.78 2.81-2.81c.8-.78.8-2.07 0-2.86zM5.41 20L4 18.59l7.72-7.72 1.47 1.35L5.41 20z\"/>\n",
              "  </svg>\n",
              "      </button>\n",
              "      \n",
              "  <style>\n",
              "    .colab-df-container {\n",
              "      display:flex;\n",
              "      flex-wrap:wrap;\n",
              "      gap: 12px;\n",
              "    }\n",
              "\n",
              "    .colab-df-convert {\n",
              "      background-color: #E8F0FE;\n",
              "      border: none;\n",
              "      border-radius: 50%;\n",
              "      cursor: pointer;\n",
              "      display: none;\n",
              "      fill: #1967D2;\n",
              "      height: 32px;\n",
              "      padding: 0 0 0 0;\n",
              "      width: 32px;\n",
              "    }\n",
              "\n",
              "    .colab-df-convert:hover {\n",
              "      background-color: #E2EBFA;\n",
              "      box-shadow: 0px 1px 2px rgba(60, 64, 67, 0.3), 0px 1px 3px 1px rgba(60, 64, 67, 0.15);\n",
              "      fill: #174EA6;\n",
              "    }\n",
              "\n",
              "    [theme=dark] .colab-df-convert {\n",
              "      background-color: #3B4455;\n",
              "      fill: #D2E3FC;\n",
              "    }\n",
              "\n",
              "    [theme=dark] .colab-df-convert:hover {\n",
              "      background-color: #434B5C;\n",
              "      box-shadow: 0px 1px 3px 1px rgba(0, 0, 0, 0.15);\n",
              "      filter: drop-shadow(0px 1px 2px rgba(0, 0, 0, 0.3));\n",
              "      fill: #FFFFFF;\n",
              "    }\n",
              "  </style>\n",
              "\n",
              "      <script>\n",
              "        const buttonEl =\n",
              "          document.querySelector('#df-e20aa525-a9b1-4841-b408-22bed2a4629e button.colab-df-convert');\n",
              "        buttonEl.style.display =\n",
              "          google.colab.kernel.accessAllowed ? 'block' : 'none';\n",
              "\n",
              "        async function convertToInteractive(key) {\n",
              "          const element = document.querySelector('#df-e20aa525-a9b1-4841-b408-22bed2a4629e');\n",
              "          const dataTable =\n",
              "            await google.colab.kernel.invokeFunction('convertToInteractive',\n",
              "                                                     [key], {});\n",
              "          if (!dataTable) return;\n",
              "\n",
              "          const docLinkHtml = 'Like what you see? Visit the ' +\n",
              "            '<a target=\"_blank\" href=https://colab.research.google.com/notebooks/data_table.ipynb>data table notebook</a>'\n",
              "            + ' to learn more about interactive tables.';\n",
              "          element.innerHTML = '';\n",
              "          dataTable['output_type'] = 'display_data';\n",
              "          await google.colab.output.renderOutput(dataTable, element);\n",
              "          const docLink = document.createElement('div');\n",
              "          docLink.innerHTML = docLinkHtml;\n",
              "          element.appendChild(docLink);\n",
              "        }\n",
              "      </script>\n",
              "    </div>\n",
              "  </div>\n",
              "  "
            ]
          },
          "metadata": {},
          "execution_count": 396
        }
      ]
    },
    {
      "cell_type": "markdown",
      "source": [
        "* These are the bottom 10 people with the lowest pays in nvnv wgzohrnvzwj otqcxwto company which is a Tier 2 company\n",
        "* It is surprising to see Backend Engineer and FullStack engineer being paid so low\n"
      ],
      "metadata": {
        "id": "3r6nFCyY0jxR"
      }
    },
    {
      "cell_type": "markdown",
      "source": [
        "Top 10 employees in **vbvkgz**- **Backend Engineer** department - having 5/6/7 years of experience earning more than their peers in Tier 2"
      ],
      "metadata": {
        "id": "W4lyK8ha-E3A"
      }
    },
    {
      "cell_type": "code",
      "source": [
        "df['experience_years'] = df['experience_years'].apply(lambda x : float(x))"
      ],
      "metadata": {
        "id": "vRQ8yBIF-2_Y"
      },
      "execution_count": null,
      "outputs": []
    },
    {
      "cell_type": "code",
      "source": [
        "#Getting top 10 employees in vbvkgz company at backend engineer role whose experience is greater than 5 years\n",
        "df[(df['company_hash'] == 'vbvkgz') & (df['job_position'] == 'Backend Engineer') & (df['experience_years'] > 5)].sort_values(by=['ctc'],ascending=False)[['email_hash','experience_years','ctc']][:10]"
      ],
      "metadata": {
        "colab": {
          "base_uri": "https://localhost:8080/",
          "height": 363
        },
        "id": "xTsE9p8f-HpD",
        "outputId": "f71bd7e5-ff18-468b-f410-51ce97c6ade9"
      },
      "execution_count": null,
      "outputs": [
        {
          "output_type": "execute_result",
          "data": {
            "text/plain": [
              "                                               email_hash  experience_years  \\\n",
              "1491    22fbc713494ca01566a0113f1f9cc5fcb7c314ab7dac13...               6.0   \n",
              "129406  53ed9df3c63f74007324be34f5482addee598425febd42...              10.0   \n",
              "128938  d0f093cc59f3587c387a3848431cc1c5f66d04de70d84e...               9.0   \n",
              "128786  54078f50db88369acb596845b967c90a9f41b99bbdb084...               8.0   \n",
              "127610  70e7a679687ec65e8f33ca07bcca1e8d55299bbe787e51...              13.0   \n",
              "126966  7c98e196f30ef693b64f3daa89719a972cd4739834850c...               8.0   \n",
              "125333  f7394e26f69b4b2f34d707a9418f2bf481cee5d0c34253...               8.0   \n",
              "125174  97a11c7222ca2a0785e6c89a8333b9b4df1a198d273d3c...              10.0   \n",
              "123635  ab340ec6b7df06b4a200c285ca69ad0aa19e0e953687ac...               7.0   \n",
              "122236  1b5df16ffff135d3a5e8d151ec4c25eb502d600bdd660f...               7.0   \n",
              "\n",
              "              ctc  \n",
              "1491    3840000.0  \n",
              "129406  3840000.0  \n",
              "128938  3840000.0  \n",
              "128786  3840000.0  \n",
              "127610  3840000.0  \n",
              "126966  3840000.0  \n",
              "125333  3840000.0  \n",
              "125174  3840000.0  \n",
              "123635  3840000.0  \n",
              "122236  3840000.0  "
            ],
            "text/html": [
              "\n",
              "  <div id=\"df-0c730c81-6a17-4fa1-812b-4cb55744b695\">\n",
              "    <div class=\"colab-df-container\">\n",
              "      <div>\n",
              "<style scoped>\n",
              "    .dataframe tbody tr th:only-of-type {\n",
              "        vertical-align: middle;\n",
              "    }\n",
              "\n",
              "    .dataframe tbody tr th {\n",
              "        vertical-align: top;\n",
              "    }\n",
              "\n",
              "    .dataframe thead th {\n",
              "        text-align: right;\n",
              "    }\n",
              "</style>\n",
              "<table border=\"1\" class=\"dataframe\">\n",
              "  <thead>\n",
              "    <tr style=\"text-align: right;\">\n",
              "      <th></th>\n",
              "      <th>email_hash</th>\n",
              "      <th>experience_years</th>\n",
              "      <th>ctc</th>\n",
              "    </tr>\n",
              "  </thead>\n",
              "  <tbody>\n",
              "    <tr>\n",
              "      <th>1491</th>\n",
              "      <td>22fbc713494ca01566a0113f1f9cc5fcb7c314ab7dac13...</td>\n",
              "      <td>6.0</td>\n",
              "      <td>3840000.0</td>\n",
              "    </tr>\n",
              "    <tr>\n",
              "      <th>129406</th>\n",
              "      <td>53ed9df3c63f74007324be34f5482addee598425febd42...</td>\n",
              "      <td>10.0</td>\n",
              "      <td>3840000.0</td>\n",
              "    </tr>\n",
              "    <tr>\n",
              "      <th>128938</th>\n",
              "      <td>d0f093cc59f3587c387a3848431cc1c5f66d04de70d84e...</td>\n",
              "      <td>9.0</td>\n",
              "      <td>3840000.0</td>\n",
              "    </tr>\n",
              "    <tr>\n",
              "      <th>128786</th>\n",
              "      <td>54078f50db88369acb596845b967c90a9f41b99bbdb084...</td>\n",
              "      <td>8.0</td>\n",
              "      <td>3840000.0</td>\n",
              "    </tr>\n",
              "    <tr>\n",
              "      <th>127610</th>\n",
              "      <td>70e7a679687ec65e8f33ca07bcca1e8d55299bbe787e51...</td>\n",
              "      <td>13.0</td>\n",
              "      <td>3840000.0</td>\n",
              "    </tr>\n",
              "    <tr>\n",
              "      <th>126966</th>\n",
              "      <td>7c98e196f30ef693b64f3daa89719a972cd4739834850c...</td>\n",
              "      <td>8.0</td>\n",
              "      <td>3840000.0</td>\n",
              "    </tr>\n",
              "    <tr>\n",
              "      <th>125333</th>\n",
              "      <td>f7394e26f69b4b2f34d707a9418f2bf481cee5d0c34253...</td>\n",
              "      <td>8.0</td>\n",
              "      <td>3840000.0</td>\n",
              "    </tr>\n",
              "    <tr>\n",
              "      <th>125174</th>\n",
              "      <td>97a11c7222ca2a0785e6c89a8333b9b4df1a198d273d3c...</td>\n",
              "      <td>10.0</td>\n",
              "      <td>3840000.0</td>\n",
              "    </tr>\n",
              "    <tr>\n",
              "      <th>123635</th>\n",
              "      <td>ab340ec6b7df06b4a200c285ca69ad0aa19e0e953687ac...</td>\n",
              "      <td>7.0</td>\n",
              "      <td>3840000.0</td>\n",
              "    </tr>\n",
              "    <tr>\n",
              "      <th>122236</th>\n",
              "      <td>1b5df16ffff135d3a5e8d151ec4c25eb502d600bdd660f...</td>\n",
              "      <td>7.0</td>\n",
              "      <td>3840000.0</td>\n",
              "    </tr>\n",
              "  </tbody>\n",
              "</table>\n",
              "</div>\n",
              "      <button class=\"colab-df-convert\" onclick=\"convertToInteractive('df-0c730c81-6a17-4fa1-812b-4cb55744b695')\"\n",
              "              title=\"Convert this dataframe to an interactive table.\"\n",
              "              style=\"display:none;\">\n",
              "        \n",
              "  <svg xmlns=\"http://www.w3.org/2000/svg\" height=\"24px\"viewBox=\"0 0 24 24\"\n",
              "       width=\"24px\">\n",
              "    <path d=\"M0 0h24v24H0V0z\" fill=\"none\"/>\n",
              "    <path d=\"M18.56 5.44l.94 2.06.94-2.06 2.06-.94-2.06-.94-.94-2.06-.94 2.06-2.06.94zm-11 1L8.5 8.5l.94-2.06 2.06-.94-2.06-.94L8.5 2.5l-.94 2.06-2.06.94zm10 10l.94 2.06.94-2.06 2.06-.94-2.06-.94-.94-2.06-.94 2.06-2.06.94z\"/><path d=\"M17.41 7.96l-1.37-1.37c-.4-.4-.92-.59-1.43-.59-.52 0-1.04.2-1.43.59L10.3 9.45l-7.72 7.72c-.78.78-.78 2.05 0 2.83L4 21.41c.39.39.9.59 1.41.59.51 0 1.02-.2 1.41-.59l7.78-7.78 2.81-2.81c.8-.78.8-2.07 0-2.86zM5.41 20L4 18.59l7.72-7.72 1.47 1.35L5.41 20z\"/>\n",
              "  </svg>\n",
              "      </button>\n",
              "      \n",
              "  <style>\n",
              "    .colab-df-container {\n",
              "      display:flex;\n",
              "      flex-wrap:wrap;\n",
              "      gap: 12px;\n",
              "    }\n",
              "\n",
              "    .colab-df-convert {\n",
              "      background-color: #E8F0FE;\n",
              "      border: none;\n",
              "      border-radius: 50%;\n",
              "      cursor: pointer;\n",
              "      display: none;\n",
              "      fill: #1967D2;\n",
              "      height: 32px;\n",
              "      padding: 0 0 0 0;\n",
              "      width: 32px;\n",
              "    }\n",
              "\n",
              "    .colab-df-convert:hover {\n",
              "      background-color: #E2EBFA;\n",
              "      box-shadow: 0px 1px 2px rgba(60, 64, 67, 0.3), 0px 1px 3px 1px rgba(60, 64, 67, 0.15);\n",
              "      fill: #174EA6;\n",
              "    }\n",
              "\n",
              "    [theme=dark] .colab-df-convert {\n",
              "      background-color: #3B4455;\n",
              "      fill: #D2E3FC;\n",
              "    }\n",
              "\n",
              "    [theme=dark] .colab-df-convert:hover {\n",
              "      background-color: #434B5C;\n",
              "      box-shadow: 0px 1px 3px 1px rgba(0, 0, 0, 0.15);\n",
              "      filter: drop-shadow(0px 1px 2px rgba(0, 0, 0, 0.3));\n",
              "      fill: #FFFFFF;\n",
              "    }\n",
              "  </style>\n",
              "\n",
              "      <script>\n",
              "        const buttonEl =\n",
              "          document.querySelector('#df-0c730c81-6a17-4fa1-812b-4cb55744b695 button.colab-df-convert');\n",
              "        buttonEl.style.display =\n",
              "          google.colab.kernel.accessAllowed ? 'block' : 'none';\n",
              "\n",
              "        async function convertToInteractive(key) {\n",
              "          const element = document.querySelector('#df-0c730c81-6a17-4fa1-812b-4cb55744b695');\n",
              "          const dataTable =\n",
              "            await google.colab.kernel.invokeFunction('convertToInteractive',\n",
              "                                                     [key], {});\n",
              "          if (!dataTable) return;\n",
              "\n",
              "          const docLinkHtml = 'Like what you see? Visit the ' +\n",
              "            '<a target=\"_blank\" href=https://colab.research.google.com/notebooks/data_table.ipynb>data table notebook</a>'\n",
              "            + ' to learn more about interactive tables.';\n",
              "          element.innerHTML = '';\n",
              "          dataTable['output_type'] = 'display_data';\n",
              "          await google.colab.output.renderOutput(dataTable, element);\n",
              "          const docLink = document.createElement('div');\n",
              "          docLink.innerHTML = docLinkHtml;\n",
              "          element.appendChild(docLink);\n",
              "        }\n",
              "      </script>\n",
              "    </div>\n",
              "  </div>\n",
              "  "
            ]
          },
          "metadata": {},
          "execution_count": 398
        }
      ]
    },
    {
      "cell_type": "code",
      "source": [
        "#Getting the median salary of peers in tier 2 companies as a backend engineer\n",
        "df[(df['tier'] == 2) & (df['job_position'] == 'Backend Engineer')]['ctc'].median()"
      ],
      "metadata": {
        "colab": {
          "base_uri": "https://localhost:8080/"
        },
        "id": "5UdgqDGwBYDJ",
        "outputId": "7fd70732-9fbf-4697-cdc7-f15f13e6b667"
      },
      "execution_count": null,
      "outputs": [
        {
          "output_type": "execute_result",
          "data": {
            "text/plain": [
              "1800000.0"
            ]
          },
          "metadata": {},
          "execution_count": 399
        }
      ]
    },
    {
      "cell_type": "markdown",
      "source": [
        "* The outliers in the data has been imputed. Hence we may not see the actual salaries \n",
        "* The median salary of peers in tier 2 companies as a backened engineer is 18,00,000"
      ],
      "metadata": {
        "id": "dPzZjxxmA90l"
      }
    },
    {
      "cell_type": "markdown",
      "source": [
        "###**Top 10 companies based on thier CTC**"
      ],
      "metadata": {
        "id": "8qBITuPqB4Ng"
      }
    },
    {
      "cell_type": "code",
      "source": [
        "df.groupby(\"company_hash\").mean()['ctc'].reset_index().sort_values(by=['ctc'],ascending=False)[:10]"
      ],
      "metadata": {
        "colab": {
          "base_uri": "https://localhost:8080/",
          "height": 363
        },
        "id": "lyRl6JPNB_Ac",
        "outputId": "643ea8f5-3f89-43e4-994d-6c8948aeda25"
      },
      "execution_count": null,
      "outputs": [
        {
          "output_type": "execute_result",
          "data": {
            "text/plain": [
              "                                company_hash        ctc\n",
              "18649  pvbqhu wgrrtst ge cgwvnxgzvr nqvxzxzs  3840000.0\n",
              "11064                             mrht wqgoo  3840000.0\n",
              "32507         xayvogen pvnvrjon ntwyzgrgsxto  3840000.0\n",
              "2213                       bgzgnjut ogrhnxgz  3840000.0\n",
              "13544      nvnv vxs stztqvr xzohqvzwt wg rna  3840000.0\n",
              "20355                             rgctmgzxng  3840000.0\n",
              "16076                             opxrrovznv  3840000.0\n",
              "32482                                 xatvrg  3840000.0\n",
              "25205                            urhqvroxsyn  3840000.0\n",
              "9139                       ihxwpntr ogrhnxgz  3840000.0"
            ],
            "text/html": [
              "\n",
              "  <div id=\"df-ab790a9e-b46d-4971-934e-91d324351e6c\">\n",
              "    <div class=\"colab-df-container\">\n",
              "      <div>\n",
              "<style scoped>\n",
              "    .dataframe tbody tr th:only-of-type {\n",
              "        vertical-align: middle;\n",
              "    }\n",
              "\n",
              "    .dataframe tbody tr th {\n",
              "        vertical-align: top;\n",
              "    }\n",
              "\n",
              "    .dataframe thead th {\n",
              "        text-align: right;\n",
              "    }\n",
              "</style>\n",
              "<table border=\"1\" class=\"dataframe\">\n",
              "  <thead>\n",
              "    <tr style=\"text-align: right;\">\n",
              "      <th></th>\n",
              "      <th>company_hash</th>\n",
              "      <th>ctc</th>\n",
              "    </tr>\n",
              "  </thead>\n",
              "  <tbody>\n",
              "    <tr>\n",
              "      <th>18649</th>\n",
              "      <td>pvbqhu wgrrtst ge cgwvnxgzvr nqvxzxzs</td>\n",
              "      <td>3840000.0</td>\n",
              "    </tr>\n",
              "    <tr>\n",
              "      <th>11064</th>\n",
              "      <td>mrht wqgoo</td>\n",
              "      <td>3840000.0</td>\n",
              "    </tr>\n",
              "    <tr>\n",
              "      <th>32507</th>\n",
              "      <td>xayvogen pvnvrjon ntwyzgrgsxto</td>\n",
              "      <td>3840000.0</td>\n",
              "    </tr>\n",
              "    <tr>\n",
              "      <th>2213</th>\n",
              "      <td>bgzgnjut ogrhnxgz</td>\n",
              "      <td>3840000.0</td>\n",
              "    </tr>\n",
              "    <tr>\n",
              "      <th>13544</th>\n",
              "      <td>nvnv vxs stztqvr xzohqvzwt wg rna</td>\n",
              "      <td>3840000.0</td>\n",
              "    </tr>\n",
              "    <tr>\n",
              "      <th>20355</th>\n",
              "      <td>rgctmgzxng</td>\n",
              "      <td>3840000.0</td>\n",
              "    </tr>\n",
              "    <tr>\n",
              "      <th>16076</th>\n",
              "      <td>opxrrovznv</td>\n",
              "      <td>3840000.0</td>\n",
              "    </tr>\n",
              "    <tr>\n",
              "      <th>32482</th>\n",
              "      <td>xatvrg</td>\n",
              "      <td>3840000.0</td>\n",
              "    </tr>\n",
              "    <tr>\n",
              "      <th>25205</th>\n",
              "      <td>urhqvroxsyn</td>\n",
              "      <td>3840000.0</td>\n",
              "    </tr>\n",
              "    <tr>\n",
              "      <th>9139</th>\n",
              "      <td>ihxwpntr ogrhnxgz</td>\n",
              "      <td>3840000.0</td>\n",
              "    </tr>\n",
              "  </tbody>\n",
              "</table>\n",
              "</div>\n",
              "      <button class=\"colab-df-convert\" onclick=\"convertToInteractive('df-ab790a9e-b46d-4971-934e-91d324351e6c')\"\n",
              "              title=\"Convert this dataframe to an interactive table.\"\n",
              "              style=\"display:none;\">\n",
              "        \n",
              "  <svg xmlns=\"http://www.w3.org/2000/svg\" height=\"24px\"viewBox=\"0 0 24 24\"\n",
              "       width=\"24px\">\n",
              "    <path d=\"M0 0h24v24H0V0z\" fill=\"none\"/>\n",
              "    <path d=\"M18.56 5.44l.94 2.06.94-2.06 2.06-.94-2.06-.94-.94-2.06-.94 2.06-2.06.94zm-11 1L8.5 8.5l.94-2.06 2.06-.94-2.06-.94L8.5 2.5l-.94 2.06-2.06.94zm10 10l.94 2.06.94-2.06 2.06-.94-2.06-.94-.94-2.06-.94 2.06-2.06.94z\"/><path d=\"M17.41 7.96l-1.37-1.37c-.4-.4-.92-.59-1.43-.59-.52 0-1.04.2-1.43.59L10.3 9.45l-7.72 7.72c-.78.78-.78 2.05 0 2.83L4 21.41c.39.39.9.59 1.41.59.51 0 1.02-.2 1.41-.59l7.78-7.78 2.81-2.81c.8-.78.8-2.07 0-2.86zM5.41 20L4 18.59l7.72-7.72 1.47 1.35L5.41 20z\"/>\n",
              "  </svg>\n",
              "      </button>\n",
              "      \n",
              "  <style>\n",
              "    .colab-df-container {\n",
              "      display:flex;\n",
              "      flex-wrap:wrap;\n",
              "      gap: 12px;\n",
              "    }\n",
              "\n",
              "    .colab-df-convert {\n",
              "      background-color: #E8F0FE;\n",
              "      border: none;\n",
              "      border-radius: 50%;\n",
              "      cursor: pointer;\n",
              "      display: none;\n",
              "      fill: #1967D2;\n",
              "      height: 32px;\n",
              "      padding: 0 0 0 0;\n",
              "      width: 32px;\n",
              "    }\n",
              "\n",
              "    .colab-df-convert:hover {\n",
              "      background-color: #E2EBFA;\n",
              "      box-shadow: 0px 1px 2px rgba(60, 64, 67, 0.3), 0px 1px 3px 1px rgba(60, 64, 67, 0.15);\n",
              "      fill: #174EA6;\n",
              "    }\n",
              "\n",
              "    [theme=dark] .colab-df-convert {\n",
              "      background-color: #3B4455;\n",
              "      fill: #D2E3FC;\n",
              "    }\n",
              "\n",
              "    [theme=dark] .colab-df-convert:hover {\n",
              "      background-color: #434B5C;\n",
              "      box-shadow: 0px 1px 3px 1px rgba(0, 0, 0, 0.15);\n",
              "      filter: drop-shadow(0px 1px 2px rgba(0, 0, 0, 0.3));\n",
              "      fill: #FFFFFF;\n",
              "    }\n",
              "  </style>\n",
              "\n",
              "      <script>\n",
              "        const buttonEl =\n",
              "          document.querySelector('#df-ab790a9e-b46d-4971-934e-91d324351e6c button.colab-df-convert');\n",
              "        buttonEl.style.display =\n",
              "          google.colab.kernel.accessAllowed ? 'block' : 'none';\n",
              "\n",
              "        async function convertToInteractive(key) {\n",
              "          const element = document.querySelector('#df-ab790a9e-b46d-4971-934e-91d324351e6c');\n",
              "          const dataTable =\n",
              "            await google.colab.kernel.invokeFunction('convertToInteractive',\n",
              "                                                     [key], {});\n",
              "          if (!dataTable) return;\n",
              "\n",
              "          const docLinkHtml = 'Like what you see? Visit the ' +\n",
              "            '<a target=\"_blank\" href=https://colab.research.google.com/notebooks/data_table.ipynb>data table notebook</a>'\n",
              "            + ' to learn more about interactive tables.';\n",
              "          element.innerHTML = '';\n",
              "          dataTable['output_type'] = 'display_data';\n",
              "          await google.colab.output.renderOutput(dataTable, element);\n",
              "          const docLink = document.createElement('div');\n",
              "          docLink.innerHTML = docLinkHtml;\n",
              "          element.appendChild(docLink);\n",
              "        }\n",
              "      </script>\n",
              "    </div>\n",
              "  </div>\n",
              "  "
            ]
          },
          "metadata": {},
          "execution_count": 400
        }
      ]
    },
    {
      "cell_type": "markdown",
      "source": [
        "* These are the top 10 companies which have the highest salaries"
      ],
      "metadata": {
        "id": "Ct3vSHJxD3Or"
      }
    },
    {
      "cell_type": "markdown",
      "source": [
        "###**Top2 positions in every company based on their CTC**"
      ],
      "metadata": {
        "id": "WgNmDeeqEgrv"
      }
    },
    {
      "cell_type": "code",
      "source": [
        "tdf_2 = df.groupby(['company_hash','job_position']).mean()['ctc'].reset_index().sort_values(by=['company_hash','job_position','ctc'],ascending=False)"
      ],
      "metadata": {
        "id": "iEloaeS-Epy2"
      },
      "execution_count": null,
      "outputs": []
    },
    {
      "cell_type": "code",
      "source": [
        "#code to keep only top 2 job positions in each company\n",
        "val = 'na'\n",
        "count = 0\n",
        "top_companies = []\n",
        "top_jobs = []\n",
        "for i in range(len(tdf_2)-1):\n",
        "  com = tdf_2.loc[i,'company_hash']\n",
        "  if (val != com):\n",
        "    count = 0\n",
        "    val = com\n",
        "    count += 1\n",
        "    top_companies.append(com)\n",
        "    top_jobs.append(tdf_2.loc[i,'job_position'])\n",
        "  elif (val == com):\n",
        "    if (count < 2):\n",
        "      count += 1\n",
        "      top_companies.append(com)\n",
        "      top_jobs.append(tdf_2.loc[i,'job_position'])\n",
        "    else:\n",
        "      pass"
      ],
      "metadata": {
        "id": "ohqfGABGXP2G"
      },
      "execution_count": null,
      "outputs": []
    },
    {
      "cell_type": "code",
      "source": [
        "tdf_top2 = {'companies':top_companies, 'top 2 jobs': top_jobs}\n",
        "pd.DataFrame(tdf_top2)"
      ],
      "metadata": {
        "colab": {
          "base_uri": "https://localhost:8080/",
          "height": 424
        },
        "id": "HqyLZSUmjYDm",
        "outputId": "d0eaa448-1f90-4d1c-a419-042ed2d8bf74"
      },
      "execution_count": null,
      "outputs": [
        {
          "output_type": "execute_result",
          "data": {
            "text/plain": [
              "                            companies          top 2 jobs\n",
              "0                                   0               Other\n",
              "1                                0000               Other\n",
              "2                          01 ojztqsj    Android Engineer\n",
              "3                          01 ojztqsj   Frontend Engineer\n",
              "4      05mz exzytvrny uqxcvnt rxbxnta    Backend Engineer\n",
              "...                               ...                 ...\n",
              "49556     zyvzwt wgzohrnxzs tzsxzttqo   Frontend Engineer\n",
              "49557                              zz               Other\n",
              "49558    zzb ztdnstz vacxogqj ucn rna  FullStack Engineer\n",
              "49559    zzb ztdnstz vacxogqj ucn rna               Other\n",
              "49560                          zzgato               Other\n",
              "\n",
              "[49561 rows x 2 columns]"
            ],
            "text/html": [
              "\n",
              "  <div id=\"df-a02f7342-f857-4cf4-8843-40c67831cbeb\">\n",
              "    <div class=\"colab-df-container\">\n",
              "      <div>\n",
              "<style scoped>\n",
              "    .dataframe tbody tr th:only-of-type {\n",
              "        vertical-align: middle;\n",
              "    }\n",
              "\n",
              "    .dataframe tbody tr th {\n",
              "        vertical-align: top;\n",
              "    }\n",
              "\n",
              "    .dataframe thead th {\n",
              "        text-align: right;\n",
              "    }\n",
              "</style>\n",
              "<table border=\"1\" class=\"dataframe\">\n",
              "  <thead>\n",
              "    <tr style=\"text-align: right;\">\n",
              "      <th></th>\n",
              "      <th>companies</th>\n",
              "      <th>top 2 jobs</th>\n",
              "    </tr>\n",
              "  </thead>\n",
              "  <tbody>\n",
              "    <tr>\n",
              "      <th>0</th>\n",
              "      <td>0</td>\n",
              "      <td>Other</td>\n",
              "    </tr>\n",
              "    <tr>\n",
              "      <th>1</th>\n",
              "      <td>0000</td>\n",
              "      <td>Other</td>\n",
              "    </tr>\n",
              "    <tr>\n",
              "      <th>2</th>\n",
              "      <td>01 ojztqsj</td>\n",
              "      <td>Android Engineer</td>\n",
              "    </tr>\n",
              "    <tr>\n",
              "      <th>3</th>\n",
              "      <td>01 ojztqsj</td>\n",
              "      <td>Frontend Engineer</td>\n",
              "    </tr>\n",
              "    <tr>\n",
              "      <th>4</th>\n",
              "      <td>05mz exzytvrny uqxcvnt rxbxnta</td>\n",
              "      <td>Backend Engineer</td>\n",
              "    </tr>\n",
              "    <tr>\n",
              "      <th>...</th>\n",
              "      <td>...</td>\n",
              "      <td>...</td>\n",
              "    </tr>\n",
              "    <tr>\n",
              "      <th>49556</th>\n",
              "      <td>zyvzwt wgzohrnxzs tzsxzttqo</td>\n",
              "      <td>Frontend Engineer</td>\n",
              "    </tr>\n",
              "    <tr>\n",
              "      <th>49557</th>\n",
              "      <td>zz</td>\n",
              "      <td>Other</td>\n",
              "    </tr>\n",
              "    <tr>\n",
              "      <th>49558</th>\n",
              "      <td>zzb ztdnstz vacxogqj ucn rna</td>\n",
              "      <td>FullStack Engineer</td>\n",
              "    </tr>\n",
              "    <tr>\n",
              "      <th>49559</th>\n",
              "      <td>zzb ztdnstz vacxogqj ucn rna</td>\n",
              "      <td>Other</td>\n",
              "    </tr>\n",
              "    <tr>\n",
              "      <th>49560</th>\n",
              "      <td>zzgato</td>\n",
              "      <td>Other</td>\n",
              "    </tr>\n",
              "  </tbody>\n",
              "</table>\n",
              "<p>49561 rows × 2 columns</p>\n",
              "</div>\n",
              "      <button class=\"colab-df-convert\" onclick=\"convertToInteractive('df-a02f7342-f857-4cf4-8843-40c67831cbeb')\"\n",
              "              title=\"Convert this dataframe to an interactive table.\"\n",
              "              style=\"display:none;\">\n",
              "        \n",
              "  <svg xmlns=\"http://www.w3.org/2000/svg\" height=\"24px\"viewBox=\"0 0 24 24\"\n",
              "       width=\"24px\">\n",
              "    <path d=\"M0 0h24v24H0V0z\" fill=\"none\"/>\n",
              "    <path d=\"M18.56 5.44l.94 2.06.94-2.06 2.06-.94-2.06-.94-.94-2.06-.94 2.06-2.06.94zm-11 1L8.5 8.5l.94-2.06 2.06-.94-2.06-.94L8.5 2.5l-.94 2.06-2.06.94zm10 10l.94 2.06.94-2.06 2.06-.94-2.06-.94-.94-2.06-.94 2.06-2.06.94z\"/><path d=\"M17.41 7.96l-1.37-1.37c-.4-.4-.92-.59-1.43-.59-.52 0-1.04.2-1.43.59L10.3 9.45l-7.72 7.72c-.78.78-.78 2.05 0 2.83L4 21.41c.39.39.9.59 1.41.59.51 0 1.02-.2 1.41-.59l7.78-7.78 2.81-2.81c.8-.78.8-2.07 0-2.86zM5.41 20L4 18.59l7.72-7.72 1.47 1.35L5.41 20z\"/>\n",
              "  </svg>\n",
              "      </button>\n",
              "      \n",
              "  <style>\n",
              "    .colab-df-container {\n",
              "      display:flex;\n",
              "      flex-wrap:wrap;\n",
              "      gap: 12px;\n",
              "    }\n",
              "\n",
              "    .colab-df-convert {\n",
              "      background-color: #E8F0FE;\n",
              "      border: none;\n",
              "      border-radius: 50%;\n",
              "      cursor: pointer;\n",
              "      display: none;\n",
              "      fill: #1967D2;\n",
              "      height: 32px;\n",
              "      padding: 0 0 0 0;\n",
              "      width: 32px;\n",
              "    }\n",
              "\n",
              "    .colab-df-convert:hover {\n",
              "      background-color: #E2EBFA;\n",
              "      box-shadow: 0px 1px 2px rgba(60, 64, 67, 0.3), 0px 1px 3px 1px rgba(60, 64, 67, 0.15);\n",
              "      fill: #174EA6;\n",
              "    }\n",
              "\n",
              "    [theme=dark] .colab-df-convert {\n",
              "      background-color: #3B4455;\n",
              "      fill: #D2E3FC;\n",
              "    }\n",
              "\n",
              "    [theme=dark] .colab-df-convert:hover {\n",
              "      background-color: #434B5C;\n",
              "      box-shadow: 0px 1px 3px 1px rgba(0, 0, 0, 0.15);\n",
              "      filter: drop-shadow(0px 1px 2px rgba(0, 0, 0, 0.3));\n",
              "      fill: #FFFFFF;\n",
              "    }\n",
              "  </style>\n",
              "\n",
              "      <script>\n",
              "        const buttonEl =\n",
              "          document.querySelector('#df-a02f7342-f857-4cf4-8843-40c67831cbeb button.colab-df-convert');\n",
              "        buttonEl.style.display =\n",
              "          google.colab.kernel.accessAllowed ? 'block' : 'none';\n",
              "\n",
              "        async function convertToInteractive(key) {\n",
              "          const element = document.querySelector('#df-a02f7342-f857-4cf4-8843-40c67831cbeb');\n",
              "          const dataTable =\n",
              "            await google.colab.kernel.invokeFunction('convertToInteractive',\n",
              "                                                     [key], {});\n",
              "          if (!dataTable) return;\n",
              "\n",
              "          const docLinkHtml = 'Like what you see? Visit the ' +\n",
              "            '<a target=\"_blank\" href=https://colab.research.google.com/notebooks/data_table.ipynb>data table notebook</a>'\n",
              "            + ' to learn more about interactive tables.';\n",
              "          element.innerHTML = '';\n",
              "          dataTable['output_type'] = 'display_data';\n",
              "          await google.colab.output.renderOutput(dataTable, element);\n",
              "          const docLink = document.createElement('div');\n",
              "          docLink.innerHTML = docLinkHtml;\n",
              "          element.appendChild(docLink);\n",
              "        }\n",
              "      </script>\n",
              "    </div>\n",
              "  </div>\n",
              "  "
            ]
          },
          "metadata": {},
          "execution_count": 403
        }
      ]
    },
    {
      "cell_type": "markdown",
      "source": [
        "**The above dataframe contains the top 2 job positions based on thier ctc across all companies**"
      ],
      "metadata": {
        "id": "Mbbl4PLPkHhY"
      }
    },
    {
      "cell_type": "code",
      "source": [
        "pd.Series(top_jobs).value_counts()[:10].plot(kind='bar')\n",
        "plt.title(\"Top 10 job positions with highest salary across all companies\")\n",
        "plt.show()"
      ],
      "metadata": {
        "colab": {
          "base_uri": "https://localhost:8080/",
          "height": 390
        },
        "id": "xShjCKSHdQyk",
        "outputId": "b0ae6b60-3e7e-4d82-df9a-f652bf33c592"
      },
      "execution_count": null,
      "outputs": [
        {
          "output_type": "display_data",
          "data": {
            "text/plain": [
              "<Figure size 432x288 with 1 Axes>"
            ],
            "image/png": "[encoded data removed]"
          },
          "metadata": {
            "needs_background": "light"
          }
        }
      ]
    },
    {
      "cell_type": "code",
      "source": [
        "pip install wordcloud"
      ],
      "metadata": {
        "colab": {
          "base_uri": "https://localhost:8080/"
        },
        "id": "wYEuYWAnfOTV",
        "outputId": "c54aca0b-b3a8-4396-e5c6-87b83f5304e8"
      },
      "execution_count": null,
      "outputs": [
        {
          "output_type": "stream",
          "name": "stdout",
          "text": [
            "Looking in indexes: https://pypi.org/simple, https://us-python.pkg.dev/colab-wheels/public/simple/\n",
            "Requirement already satisfied: wordcloud in /usr/local/lib/python3.7/dist-packages (1.5.0)\n",
            "Requirement already satisfied: pillow in /usr/local/lib/python3.7/dist-packages (from wordcloud) (7.1.2)\n",
            "Requirement already satisfied: numpy>=1.6.1 in /usr/local/lib/python3.7/dist-packages (from wordcloud) (1.21.6)\n"
          ]
        }
      ]
    },
    {
      "cell_type": "code",
      "source": [
        "#Wordcloud visualization\n",
        "from wordcloud import WordCloud, STOPWORDS\n",
        "stopwords = set(STOPWORDS)\n",
        "comment_words = ''\n",
        "for i in top_jobs:\n",
        "  x = i\n",
        "  x = x.split()\n",
        "  y = ''.join(x)\n",
        "  comment_words+= y\n",
        "  comment_words+=' '\n",
        "wordcloud = WordCloud(width = 800, height = 400,\n",
        "                background_color ='white',\n",
        "                stopwords = stopwords,\n",
        "                min_font_size = 10).generate(comment_words)\n",
        "# plot the WordCloud image                      \n",
        "plt.figure(figsize = (8, 8), facecolor = None)\n",
        "plt.imshow(wordcloud)\n",
        "plt.axis(\"off\")\n",
        "plt.tight_layout(pad = 0)\n",
        "plt.title(\"Top paid jobs across all companies\",fontsize=25,color='black')\n",
        "plt.show()"
      ],
      "metadata": {
        "colab": {
          "base_uri": "https://localhost:8080/",
          "height": 344
        },
        "id": "Iae3llYrfxIs",
        "outputId": "35c5c7c4-d0e7-4dce-a3a4-ef2c5ffad497"
      },
      "execution_count": null,
      "outputs": [
        {
          "output_type": "display_data",
          "data": {
            "text/plain": [
              "<Figure size 576x576 with 1 Axes>"
            ],
            "image/png": "[encoded data removed]"
          },
          "metadata": {
            "needs_background": "light"
          }
        }
      ]
    },
    {
      "cell_type": "markdown",
      "source": [
        "**Observations**\n",
        "\n",
        "Considering we omit \"Others\" since it does not give much information about the type of the job, Here are the top 6 highest paying jobs across all companies\n",
        "\n",
        "1. Backend Engineer\n",
        "2. Fullstack Engineer\n",
        "3. Android Engineer\n",
        "4. Frontend Engineer\n",
        "5. Engineering Leadership\n",
        "6. Data Scientist\n"
      ],
      "metadata": {
        "id": "J9YOv2twkYE8"
      }
    },
    {
      "cell_type": "markdown",
      "source": [
        "#K means"
      ],
      "metadata": {
        "id": "cpe_wIbm0eyN"
      }
    },
    {
      "cell_type": "markdown",
      "source": [
        "**Data Preprocessing**"
      ],
      "metadata": {
        "id": "O9yXBueyh-rC"
      }
    },
    {
      "cell_type": "code",
      "source": [
        "from sklearn.preprocessing import StandardScaler\n",
        "scaler = StandardScaler()"
      ],
      "metadata": {
        "id": "f2aDZBhv0oxw"
      },
      "execution_count": null,
      "outputs": []
    },
    {
      "cell_type": "code",
      "source": [
        "X = df[[ 'ctc', 'experience_years', 'company_average', 'tier',\n",
        "       'class', 'designation']]"
      ],
      "metadata": {
        "id": "3aLt3R8Z1WQb"
      },
      "execution_count": null,
      "outputs": []
    },
    {
      "cell_type": "code",
      "source": [
        "#Fitting and transforming the data\n",
        "scaler.fit(X)\n",
        "X = scaler.transform(X)"
      ],
      "metadata": {
        "id": "LkvSYgJG15gl"
      },
      "execution_count": null,
      "outputs": []
    },
    {
      "cell_type": "code",
      "source": [
        "pd.DataFrame(X)"
      ],
      "metadata": {
        "colab": {
          "base_uri": "https://localhost:8080/",
          "height": 424
        },
        "id": "uCINbSYF2z28",
        "outputId": "27aae792-d828-4abc-a3bf-4e68c86e5de1"
      },
      "execution_count": null,
      "outputs": [
        {
          "output_type": "execute_result",
          "data": {
            "text/plain": [
              "               0         1         2         3         4         5\n",
              "0      -0.174614 -0.215021 -0.235152  0.713275  0.667632  0.645853\n",
              "1      -0.838466 -0.693572 -0.106701  0.713275  0.667632  0.645853\n",
              "2       0.744563  0.024254  1.103847 -1.149042 -1.010360 -0.899053\n",
              "3      -0.583138 -0.454297  0.635655 -1.149042 -1.010360  0.645853\n",
              "4       0.131778 -0.454297 -0.501135  0.713275  0.667632  0.645853\n",
              "...          ...       ...       ...       ...       ...       ...\n",
              "201455 -1.073366  1.699183  0.652546 -1.149042 -1.010360  0.645853\n",
              "201456 -0.787400 -0.454297  0.246219 -1.149042  0.667632  0.645853\n",
              "201457 -0.583138 -1.411399  0.200245  0.713275  0.667632  0.645853\n",
              "201458  2.623771 -0.932848 -0.136449  0.713275  0.667632  0.645853\n",
              "201459 -0.031631  0.263530  1.192502 -1.149042 -1.010360 -0.899053\n",
              "\n",
              "[201460 rows x 6 columns]"
            ],
            "text/html": [
              "\n",
              "  <div id=\"df-687f3396-ce56-4395-8dce-190b0ef46553\">\n",
              "    <div class=\"colab-df-container\">\n",
              "      <div>\n",
              "<style scoped>\n",
              "    .dataframe tbody tr th:only-of-type {\n",
              "        vertical-align: middle;\n",
              "    }\n",
              "\n",
              "    .dataframe tbody tr th {\n",
              "        vertical-align: top;\n",
              "    }\n",
              "\n",
              "    .dataframe thead th {\n",
              "        text-align: right;\n",
              "    }\n",
              "</style>\n",
              "<table border=\"1\" class=\"dataframe\">\n",
              "  <thead>\n",
              "    <tr style=\"text-align: right;\">\n",
              "      <th></th>\n",
              "      <th>0</th>\n",
              "      <th>1</th>\n",
              "      <th>2</th>\n",
              "      <th>3</th>\n",
              "      <th>4</th>\n",
              "      <th>5</th>\n",
              "    </tr>\n",
              "  </thead>\n",
              "  <tbody>\n",
              "    <tr>\n",
              "      <th>0</th>\n",
              "      <td>-0.174614</td>\n",
              "      <td>-0.215021</td>\n",
              "      <td>-0.235152</td>\n",
              "      <td>0.713275</td>\n",
              "      <td>0.667632</td>\n",
              "      <td>0.645853</td>\n",
              "    </tr>\n",
              "    <tr>\n",
              "      <th>1</th>\n",
              "      <td>-0.838466</td>\n",
              "      <td>-0.693572</td>\n",
              "      <td>-0.106701</td>\n",
              "      <td>0.713275</td>\n",
              "      <td>0.667632</td>\n",
              "      <td>0.645853</td>\n",
              "    </tr>\n",
              "    <tr>\n",
              "      <th>2</th>\n",
              "      <td>0.744563</td>\n",
              "      <td>0.024254</td>\n",
              "      <td>1.103847</td>\n",
              "      <td>-1.149042</td>\n",
              "      <td>-1.010360</td>\n",
              "      <td>-0.899053</td>\n",
              "    </tr>\n",
              "    <tr>\n",
              "      <th>3</th>\n",
              "      <td>-0.583138</td>\n",
              "      <td>-0.454297</td>\n",
              "      <td>0.635655</td>\n",
              "      <td>-1.149042</td>\n",
              "      <td>-1.010360</td>\n",
              "      <td>0.645853</td>\n",
              "    </tr>\n",
              "    <tr>\n",
              "      <th>4</th>\n",
              "      <td>0.131778</td>\n",
              "      <td>-0.454297</td>\n",
              "      <td>-0.501135</td>\n",
              "      <td>0.713275</td>\n",
              "      <td>0.667632</td>\n",
              "      <td>0.645853</td>\n",
              "    </tr>\n",
              "    <tr>\n",
              "      <th>...</th>\n",
              "      <td>...</td>\n",
              "      <td>...</td>\n",
              "      <td>...</td>\n",
              "      <td>...</td>\n",
              "      <td>...</td>\n",
              "      <td>...</td>\n",
              "    </tr>\n",
              "    <tr>\n",
              "      <th>201455</th>\n",
              "      <td>-1.073366</td>\n",
              "      <td>1.699183</td>\n",
              "      <td>0.652546</td>\n",
              "      <td>-1.149042</td>\n",
              "      <td>-1.010360</td>\n",
              "      <td>0.645853</td>\n",
              "    </tr>\n",
              "    <tr>\n",
              "      <th>201456</th>\n",
              "      <td>-0.787400</td>\n",
              "      <td>-0.454297</td>\n",
              "      <td>0.246219</td>\n",
              "      <td>-1.149042</td>\n",
              "      <td>0.667632</td>\n",
              "      <td>0.645853</td>\n",
              "    </tr>\n",
              "    <tr>\n",
              "      <th>201457</th>\n",
              "      <td>-0.583138</td>\n",
              "      <td>-1.411399</td>\n",
              "      <td>0.200245</td>\n",
              "      <td>0.713275</td>\n",
              "      <td>0.667632</td>\n",
              "      <td>0.645853</td>\n",
              "    </tr>\n",
              "    <tr>\n",
              "      <th>201458</th>\n",
              "      <td>2.623771</td>\n",
              "      <td>-0.932848</td>\n",
              "      <td>-0.136449</td>\n",
              "      <td>0.713275</td>\n",
              "      <td>0.667632</td>\n",
              "      <td>0.645853</td>\n",
              "    </tr>\n",
              "    <tr>\n",
              "      <th>201459</th>\n",
              "      <td>-0.031631</td>\n",
              "      <td>0.263530</td>\n",
              "      <td>1.192502</td>\n",
              "      <td>-1.149042</td>\n",
              "      <td>-1.010360</td>\n",
              "      <td>-0.899053</td>\n",
              "    </tr>\n",
              "  </tbody>\n",
              "</table>\n",
              "<p>201460 rows × 6 columns</p>\n",
              "</div>\n",
              "      <button class=\"colab-df-convert\" onclick=\"convertToInteractive('df-687f3396-ce56-4395-8dce-190b0ef46553')\"\n",
              "              title=\"Convert this dataframe to an interactive table.\"\n",
              "              style=\"display:none;\">\n",
              "        \n",
              "  <svg xmlns=\"http://www.w3.org/2000/svg\" height=\"24px\"viewBox=\"0 0 24 24\"\n",
              "       width=\"24px\">\n",
              "    <path d=\"M0 0h24v24H0V0z\" fill=\"none\"/>\n",
              "    <path d=\"M18.56 5.44l.94 2.06.94-2.06 2.06-.94-2.06-.94-.94-2.06-.94 2.06-2.06.94zm-11 1L8.5 8.5l.94-2.06 2.06-.94-2.06-.94L8.5 2.5l-.94 2.06-2.06.94zm10 10l.94 2.06.94-2.06 2.06-.94-2.06-.94-.94-2.06-.94 2.06-2.06.94z\"/><path d=\"M17.41 7.96l-1.37-1.37c-.4-.4-.92-.59-1.43-.59-.52 0-1.04.2-1.43.59L10.3 9.45l-7.72 7.72c-.78.78-.78 2.05 0 2.83L4 21.41c.39.39.9.59 1.41.59.51 0 1.02-.2 1.41-.59l7.78-7.78 2.81-2.81c.8-.78.8-2.07 0-2.86zM5.41 20L4 18.59l7.72-7.72 1.47 1.35L5.41 20z\"/>\n",
              "  </svg>\n",
              "      </button>\n",
              "      \n",
              "  <style>\n",
              "    .colab-df-container {\n",
              "      display:flex;\n",
              "      flex-wrap:wrap;\n",
              "      gap: 12px;\n",
              "    }\n",
              "\n",
              "    .colab-df-convert {\n",
              "      background-color: #E8F0FE;\n",
              "      border: none;\n",
              "      border-radius: 50%;\n",
              "      cursor: pointer;\n",
              "      display: none;\n",
              "      fill: #1967D2;\n",
              "      height: 32px;\n",
              "      padding: 0 0 0 0;\n",
              "      width: 32px;\n",
              "    }\n",
              "\n",
              "    .colab-df-convert:hover {\n",
              "      background-color: #E2EBFA;\n",
              "      box-shadow: 0px 1px 2px rgba(60, 64, 67, 0.3), 0px 1px 3px 1px rgba(60, 64, 67, 0.15);\n",
              "      fill: #174EA6;\n",
              "    }\n",
              "\n",
              "    [theme=dark] .colab-df-convert {\n",
              "      background-color: #3B4455;\n",
              "      fill: #D2E3FC;\n",
              "    }\n",
              "\n",
              "    [theme=dark] .colab-df-convert:hover {\n",
              "      background-color: #434B5C;\n",
              "      box-shadow: 0px 1px 3px 1px rgba(0, 0, 0, 0.15);\n",
              "      filter: drop-shadow(0px 1px 2px rgba(0, 0, 0, 0.3));\n",
              "      fill: #FFFFFF;\n",
              "    }\n",
              "  </style>\n",
              "\n",
              "      <script>\n",
              "        const buttonEl =\n",
              "          document.querySelector('#df-687f3396-ce56-4395-8dce-190b0ef46553 button.colab-df-convert');\n",
              "        buttonEl.style.display =\n",
              "          google.colab.kernel.accessAllowed ? 'block' : 'none';\n",
              "\n",
              "        async function convertToInteractive(key) {\n",
              "          const element = document.querySelector('#df-687f3396-ce56-4395-8dce-190b0ef46553');\n",
              "          const dataTable =\n",
              "            await google.colab.kernel.invokeFunction('convertToInteractive',\n",
              "                                                     [key], {});\n",
              "          if (!dataTable) return;\n",
              "\n",
              "          const docLinkHtml = 'Like what you see? Visit the ' +\n",
              "            '<a target=\"_blank\" href=https://colab.research.google.com/notebooks/data_table.ipynb>data table notebook</a>'\n",
              "            + ' to learn more about interactive tables.';\n",
              "          element.innerHTML = '';\n",
              "          dataTable['output_type'] = 'display_data';\n",
              "          await google.colab.output.renderOutput(dataTable, element);\n",
              "          const docLink = document.createElement('div');\n",
              "          docLink.innerHTML = docLinkHtml;\n",
              "          element.appendChild(docLink);\n",
              "        }\n",
              "      </script>\n",
              "    </div>\n",
              "  </div>\n",
              "  "
            ]
          },
          "metadata": {},
          "execution_count": 457
        }
      ]
    },
    {
      "cell_type": "code",
      "source": [
        "from sklearn.cluster import KMeans\n",
        "k=3\n",
        "kmeans = KMeans(n_clusters=k)\n",
        "y_pred = kmeans.fit_predict(X)"
      ],
      "metadata": {
        "id": "1DiqnlGz2MZe"
      },
      "execution_count": null,
      "outputs": []
    },
    {
      "cell_type": "code",
      "source": [
        "y_pred"
      ],
      "metadata": {
        "colab": {
          "base_uri": "https://localhost:8080/"
        },
        "id": "OCl47eYu5Edm",
        "outputId": "1493b7b0-08e0-4d69-8126-54aa745f686c"
      },
      "execution_count": null,
      "outputs": [
        {
          "output_type": "execute_result",
          "data": {
            "text/plain": [
              "array([1, 1, 0, ..., 1, 1, 0], dtype=int32)"
            ]
          },
          "metadata": {},
          "execution_count": 459
        }
      ]
    },
    {
      "cell_type": "code",
      "source": [
        "kmeans.cluster_centers_"
      ],
      "metadata": {
        "colab": {
          "base_uri": "https://localhost:8080/"
        },
        "id": "cXm-O-cz5HWu",
        "outputId": "46631af5-96cf-4c98-904d-1b6fae290007"
      },
      "execution_count": null,
      "outputs": [
        {
          "output_type": "execute_result",
          "data": {
            "text/plain": [
              "array([[ 0.25008567,  0.02790123,  0.77757427, -1.01717471, -0.7046618 ,\n",
              "        -0.39723989],\n",
              "       [-0.49184998, -0.20327022, -0.62690703,  0.70402348,  0.63982422,\n",
              "         0.55777144],\n",
              "       [ 2.01427393,  1.00472401,  1.51982531, -1.37812094, -1.75419037,\n",
              "        -2.02479485]])"
            ]
          },
          "metadata": {},
          "execution_count": 460
        }
      ]
    },
    {
      "cell_type": "code",
      "source": [
        "#Visualize clusters\n",
        "clusters = pd.DataFrame(X,columns=[ 'ctc', 'experience_years', 'company_average', 'tier',\n",
        "       'class', 'designation'])\n",
        "clusters['label'] = kmeans.labels_\n",
        "clusters "
      ],
      "metadata": {
        "colab": {
          "base_uri": "https://localhost:8080/",
          "height": 424
        },
        "id": "wjHKaK6F67O_",
        "outputId": "a2435cc3-0ee9-4114-ebb8-c1455d181db1"
      },
      "execution_count": null,
      "outputs": [
        {
          "output_type": "execute_result",
          "data": {
            "text/plain": [
              "             ctc  experience_years  company_average      tier     class  \\\n",
              "0      -0.174614         -0.215021        -0.235152  0.713275  0.667632   \n",
              "1      -0.838466         -0.693572        -0.106701  0.713275  0.667632   \n",
              "2       0.744563          0.024254         1.103847 -1.149042 -1.010360   \n",
              "3      -0.583138         -0.454297         0.635655 -1.149042 -1.010360   \n",
              "4       0.131778         -0.454297        -0.501135  0.713275  0.667632   \n",
              "...          ...               ...              ...       ...       ...   \n",
              "201455 -1.073366          1.699183         0.652546 -1.149042 -1.010360   \n",
              "201456 -0.787400         -0.454297         0.246219 -1.149042  0.667632   \n",
              "201457 -0.583138         -1.411399         0.200245  0.713275  0.667632   \n",
              "201458  2.623771         -0.932848        -0.136449  0.713275  0.667632   \n",
              "201459 -0.031631          0.263530         1.192502 -1.149042 -1.010360   \n",
              "\n",
              "        designation  label  \n",
              "0          0.645853      1  \n",
              "1          0.645853      1  \n",
              "2         -0.899053      0  \n",
              "3          0.645853      0  \n",
              "4          0.645853      1  \n",
              "...             ...    ...  \n",
              "201455     0.645853      0  \n",
              "201456     0.645853      1  \n",
              "201457     0.645853      1  \n",
              "201458     0.645853      1  \n",
              "201459    -0.899053      0  \n",
              "\n",
              "[201460 rows x 7 columns]"
            ],
            "text/html": [
              "\n",
              "  <div id=\"df-cd665838-ae93-4281-abb1-481cdda873c5\">\n",
              "    <div class=\"colab-df-container\">\n",
              "      <div>\n",
              "<style scoped>\n",
              "    .dataframe tbody tr th:only-of-type {\n",
              "        vertical-align: middle;\n",
              "    }\n",
              "\n",
              "    .dataframe tbody tr th {\n",
              "        vertical-align: top;\n",
              "    }\n",
              "\n",
              "    .dataframe thead th {\n",
              "        text-align: right;\n",
              "    }\n",
              "</style>\n",
              "<table border=\"1\" class=\"dataframe\">\n",
              "  <thead>\n",
              "    <tr style=\"text-align: right;\">\n",
              "      <th></th>\n",
              "      <th>ctc</th>\n",
              "      <th>experience_years</th>\n",
              "      <th>company_average</th>\n",
              "      <th>tier</th>\n",
              "      <th>class</th>\n",
              "      <th>designation</th>\n",
              "      <th>label</th>\n",
              "    </tr>\n",
              "  </thead>\n",
              "  <tbody>\n",
              "    <tr>\n",
              "      <th>0</th>\n",
              "      <td>-0.174614</td>\n",
              "      <td>-0.215021</td>\n",
              "      <td>-0.235152</td>\n",
              "      <td>0.713275</td>\n",
              "      <td>0.667632</td>\n",
              "      <td>0.645853</td>\n",
              "      <td>1</td>\n",
              "    </tr>\n",
              "    <tr>\n",
              "      <th>1</th>\n",
              "      <td>-0.838466</td>\n",
              "      <td>-0.693572</td>\n",
              "      <td>-0.106701</td>\n",
              "      <td>0.713275</td>\n",
              "      <td>0.667632</td>\n",
              "      <td>0.645853</td>\n",
              "      <td>1</td>\n",
              "    </tr>\n",
              "    <tr>\n",
              "      <th>2</th>\n",
              "      <td>0.744563</td>\n",
              "      <td>0.024254</td>\n",
              "      <td>1.103847</td>\n",
              "      <td>-1.149042</td>\n",
              "      <td>-1.010360</td>\n",
              "      <td>-0.899053</td>\n",
              "      <td>0</td>\n",
              "    </tr>\n",
              "    <tr>\n",
              "      <th>3</th>\n",
              "      <td>-0.583138</td>\n",
              "      <td>-0.454297</td>\n",
              "      <td>0.635655</td>\n",
              "      <td>-1.149042</td>\n",
              "      <td>-1.010360</td>\n",
              "      <td>0.645853</td>\n",
              "      <td>0</td>\n",
              "    </tr>\n",
              "    <tr>\n",
              "      <th>4</th>\n",
              "      <td>0.131778</td>\n",
              "      <td>-0.454297</td>\n",
              "      <td>-0.501135</td>\n",
              "      <td>0.713275</td>\n",
              "      <td>0.667632</td>\n",
              "      <td>0.645853</td>\n",
              "      <td>1</td>\n",
              "    </tr>\n",
              "    <tr>\n",
              "      <th>...</th>\n",
              "      <td>...</td>\n",
              "      <td>...</td>\n",
              "      <td>...</td>\n",
              "      <td>...</td>\n",
              "      <td>...</td>\n",
              "      <td>...</td>\n",
              "      <td>...</td>\n",
              "    </tr>\n",
              "    <tr>\n",
              "      <th>201455</th>\n",
              "      <td>-1.073366</td>\n",
              "      <td>1.699183</td>\n",
              "      <td>0.652546</td>\n",
              "      <td>-1.149042</td>\n",
              "      <td>-1.010360</td>\n",
              "      <td>0.645853</td>\n",
              "      <td>0</td>\n",
              "    </tr>\n",
              "    <tr>\n",
              "      <th>201456</th>\n",
              "      <td>-0.787400</td>\n",
              "      <td>-0.454297</td>\n",
              "      <td>0.246219</td>\n",
              "      <td>-1.149042</td>\n",
              "      <td>0.667632</td>\n",
              "      <td>0.645853</td>\n",
              "      <td>1</td>\n",
              "    </tr>\n",
              "    <tr>\n",
              "      <th>201457</th>\n",
              "      <td>-0.583138</td>\n",
              "      <td>-1.411399</td>\n",
              "      <td>0.200245</td>\n",
              "      <td>0.713275</td>\n",
              "      <td>0.667632</td>\n",
              "      <td>0.645853</td>\n",
              "      <td>1</td>\n",
              "    </tr>\n",
              "    <tr>\n",
              "      <th>201458</th>\n",
              "      <td>2.623771</td>\n",
              "      <td>-0.932848</td>\n",
              "      <td>-0.136449</td>\n",
              "      <td>0.713275</td>\n",
              "      <td>0.667632</td>\n",
              "      <td>0.645853</td>\n",
              "      <td>1</td>\n",
              "    </tr>\n",
              "    <tr>\n",
              "      <th>201459</th>\n",
              "      <td>-0.031631</td>\n",
              "      <td>0.263530</td>\n",
              "      <td>1.192502</td>\n",
              "      <td>-1.149042</td>\n",
              "      <td>-1.010360</td>\n",
              "      <td>-0.899053</td>\n",
              "      <td>0</td>\n",
              "    </tr>\n",
              "  </tbody>\n",
              "</table>\n",
              "<p>201460 rows × 7 columns</p>\n",
              "</div>\n",
              "      <button class=\"colab-df-convert\" onclick=\"convertToInteractive('df-cd665838-ae93-4281-abb1-481cdda873c5')\"\n",
              "              title=\"Convert this dataframe to an interactive table.\"\n",
              "              style=\"display:none;\">\n",
              "        \n",
              "  <svg xmlns=\"http://www.w3.org/2000/svg\" height=\"24px\"viewBox=\"0 0 24 24\"\n",
              "       width=\"24px\">\n",
              "    <path d=\"M0 0h24v24H0V0z\" fill=\"none\"/>\n",
              "    <path d=\"M18.56 5.44l.94 2.06.94-2.06 2.06-.94-2.06-.94-.94-2.06-.94 2.06-2.06.94zm-11 1L8.5 8.5l.94-2.06 2.06-.94-2.06-.94L8.5 2.5l-.94 2.06-2.06.94zm10 10l.94 2.06.94-2.06 2.06-.94-2.06-.94-.94-2.06-.94 2.06-2.06.94z\"/><path d=\"M17.41 7.96l-1.37-1.37c-.4-.4-.92-.59-1.43-.59-.52 0-1.04.2-1.43.59L10.3 9.45l-7.72 7.72c-.78.78-.78 2.05 0 2.83L4 21.41c.39.39.9.59 1.41.59.51 0 1.02-.2 1.41-.59l7.78-7.78 2.81-2.81c.8-.78.8-2.07 0-2.86zM5.41 20L4 18.59l7.72-7.72 1.47 1.35L5.41 20z\"/>\n",
              "  </svg>\n",
              "      </button>\n",
              "      \n",
              "  <style>\n",
              "    .colab-df-container {\n",
              "      display:flex;\n",
              "      flex-wrap:wrap;\n",
              "      gap: 12px;\n",
              "    }\n",
              "\n",
              "    .colab-df-convert {\n",
              "      background-color: #E8F0FE;\n",
              "      border: none;\n",
              "      border-radius: 50%;\n",
              "      cursor: pointer;\n",
              "      display: none;\n",
              "      fill: #1967D2;\n",
              "      height: 32px;\n",
              "      padding: 0 0 0 0;\n",
              "      width: 32px;\n",
              "    }\n",
              "\n",
              "    .colab-df-convert:hover {\n",
              "      background-color: #E2EBFA;\n",
              "      box-shadow: 0px 1px 2px rgba(60, 64, 67, 0.3), 0px 1px 3px 1px rgba(60, 64, 67, 0.15);\n",
              "      fill: #174EA6;\n",
              "    }\n",
              "\n",
              "    [theme=dark] .colab-df-convert {\n",
              "      background-color: #3B4455;\n",
              "      fill: #D2E3FC;\n",
              "    }\n",
              "\n",
              "    [theme=dark] .colab-df-convert:hover {\n",
              "      background-color: #434B5C;\n",
              "      box-shadow: 0px 1px 3px 1px rgba(0, 0, 0, 0.15);\n",
              "      filter: drop-shadow(0px 1px 2px rgba(0, 0, 0, 0.3));\n",
              "      fill: #FFFFFF;\n",
              "    }\n",
              "  </style>\n",
              "\n",
              "      <script>\n",
              "        const buttonEl =\n",
              "          document.querySelector('#df-cd665838-ae93-4281-abb1-481cdda873c5 button.colab-df-convert');\n",
              "        buttonEl.style.display =\n",
              "          google.colab.kernel.accessAllowed ? 'block' : 'none';\n",
              "\n",
              "        async function convertToInteractive(key) {\n",
              "          const element = document.querySelector('#df-cd665838-ae93-4281-abb1-481cdda873c5');\n",
              "          const dataTable =\n",
              "            await google.colab.kernel.invokeFunction('convertToInteractive',\n",
              "                                                     [key], {});\n",
              "          if (!dataTable) return;\n",
              "\n",
              "          const docLinkHtml = 'Like what you see? Visit the ' +\n",
              "            '<a target=\"_blank\" href=https://colab.research.google.com/notebooks/data_table.ipynb>data table notebook</a>'\n",
              "            + ' to learn more about interactive tables.';\n",
              "          element.innerHTML = '';\n",
              "          dataTable['output_type'] = 'display_data';\n",
              "          await google.colab.output.renderOutput(dataTable, element);\n",
              "          const docLink = document.createElement('div');\n",
              "          docLink.innerHTML = docLinkHtml;\n",
              "          element.appendChild(docLink);\n",
              "        }\n",
              "      </script>\n",
              "    </div>\n",
              "  </div>\n",
              "  "
            ]
          },
          "metadata": {},
          "execution_count": 461
        }
      ]
    },
    {
      "cell_type": "code",
      "source": [
        "#Function to visualize the clusters\n",
        "def viz_clusters(kmeans):\n",
        "  plt.scatter(clusters['ctc'],clusters['experience_years'],c=clusters['label'])\n",
        "  plt.scatter(kmeans.cluster_centers_[:,0],kmeans.cluster_centers_[:,1], color='red',marker = 'X',s=100)\n",
        "\n",
        "viz_clusters(kmeans)"
      ],
      "metadata": {
        "colab": {
          "base_uri": "https://localhost:8080/",
          "height": 266
        },
        "id": "R1FnQHeo8_9Y",
        "outputId": "4be77d73-5113-4a5c-c3b6-764bbeaeba28"
      },
      "execution_count": null,
      "outputs": [
        {
          "output_type": "display_data",
          "data": {
            "text/plain": [
              "<Figure size 432x288 with 1 Axes>"
            ],
            "image/png": "[encoded data removed]"
          },
          "metadata": {
            "needs_background": "light"
          }
        }
      ]
    },
    {
      "cell_type": "markdown",
      "source": [
        "**Polar Plots for interpretation**"
      ],
      "metadata": {
        "id": "ISHP-upliXPz"
      }
    },
    {
      "cell_type": "code",
      "source": [
        "polar = clusters.groupby(\"label\").mean().reset_index()\n",
        "polar = pd.melt(polar,id_vars=['label'])\n",
        "polar"
      ],
      "metadata": {
        "colab": {
          "base_uri": "https://localhost:8080/",
          "height": 614
        },
        "id": "90-0ccqM_6np",
        "outputId": "0483b1d1-5014-4100-bcf4-5882adb4c6ed"
      },
      "execution_count": null,
      "outputs": [
        {
          "output_type": "execute_result",
          "data": {
            "text/plain": [
              "    label          variable     value\n",
              "0       0               ctc  0.252094\n",
              "1       1               ctc -0.492019\n",
              "2       2               ctc  2.016828\n",
              "3       0  experience_years  0.029465\n",
              "4       1  experience_years -0.203350\n",
              "5       2  experience_years  1.004837\n",
              "6       0   company_average  0.778189\n",
              "7       1   company_average -0.626696\n",
              "8       2   company_average  1.521101\n",
              "9       0              tier -1.016878\n",
              "10      1              tier  0.703605\n",
              "11      2              tier -1.379545\n",
              "12      0             class -0.705681\n",
              "13      1             class  0.639816\n",
              "14      2             class -1.756499\n",
              "15      0       designation -0.398747\n",
              "16      1       designation  0.557827\n",
              "17      2       designation -2.027698"
            ],
            "text/html": [
              "\n",
              "  <div id=\"df-b5743c87-f834-4872-a3b8-de7d6b916d23\">\n",
              "    <div class=\"colab-df-container\">\n",
              "      <div>\n",
              "<style scoped>\n",
              "    .dataframe tbody tr th:only-of-type {\n",
              "        vertical-align: middle;\n",
              "    }\n",
              "\n",
              "    .dataframe tbody tr th {\n",
              "        vertical-align: top;\n",
              "    }\n",
              "\n",
              "    .dataframe thead th {\n",
              "        text-align: right;\n",
              "    }\n",
              "</style>\n",
              "<table border=\"1\" class=\"dataframe\">\n",
              "  <thead>\n",
              "    <tr style=\"text-align: right;\">\n",
              "      <th></th>\n",
              "      <th>label</th>\n",
              "      <th>variable</th>\n",
              "      <th>value</th>\n",
              "    </tr>\n",
              "  </thead>\n",
              "  <tbody>\n",
              "    <tr>\n",
              "      <th>0</th>\n",
              "      <td>0</td>\n",
              "      <td>ctc</td>\n",
              "      <td>0.252094</td>\n",
              "    </tr>\n",
              "    <tr>\n",
              "      <th>1</th>\n",
              "      <td>1</td>\n",
              "      <td>ctc</td>\n",
              "      <td>-0.492019</td>\n",
              "    </tr>\n",
              "    <tr>\n",
              "      <th>2</th>\n",
              "      <td>2</td>\n",
              "      <td>ctc</td>\n",
              "      <td>2.016828</td>\n",
              "    </tr>\n",
              "    <tr>\n",
              "      <th>3</th>\n",
              "      <td>0</td>\n",
              "      <td>experience_years</td>\n",
              "      <td>0.029465</td>\n",
              "    </tr>\n",
              "    <tr>\n",
              "      <th>4</th>\n",
              "      <td>1</td>\n",
              "      <td>experience_years</td>\n",
              "      <td>-0.203350</td>\n",
              "    </tr>\n",
              "    <tr>\n",
              "      <th>5</th>\n",
              "      <td>2</td>\n",
              "      <td>experience_years</td>\n",
              "      <td>1.004837</td>\n",
              "    </tr>\n",
              "    <tr>\n",
              "      <th>6</th>\n",
              "      <td>0</td>\n",
              "      <td>company_average</td>\n",
              "      <td>0.778189</td>\n",
              "    </tr>\n",
              "    <tr>\n",
              "      <th>7</th>\n",
              "      <td>1</td>\n",
              "      <td>company_average</td>\n",
              "      <td>-0.626696</td>\n",
              "    </tr>\n",
              "    <tr>\n",
              "      <th>8</th>\n",
              "      <td>2</td>\n",
              "      <td>company_average</td>\n",
              "      <td>1.521101</td>\n",
              "    </tr>\n",
              "    <tr>\n",
              "      <th>9</th>\n",
              "      <td>0</td>\n",
              "      <td>tier</td>\n",
              "      <td>-1.016878</td>\n",
              "    </tr>\n",
              "    <tr>\n",
              "      <th>10</th>\n",
              "      <td>1</td>\n",
              "      <td>tier</td>\n",
              "      <td>0.703605</td>\n",
              "    </tr>\n",
              "    <tr>\n",
              "      <th>11</th>\n",
              "      <td>2</td>\n",
              "      <td>tier</td>\n",
              "      <td>-1.379545</td>\n",
              "    </tr>\n",
              "    <tr>\n",
              "      <th>12</th>\n",
              "      <td>0</td>\n",
              "      <td>class</td>\n",
              "      <td>-0.705681</td>\n",
              "    </tr>\n",
              "    <tr>\n",
              "      <th>13</th>\n",
              "      <td>1</td>\n",
              "      <td>class</td>\n",
              "      <td>0.639816</td>\n",
              "    </tr>\n",
              "    <tr>\n",
              "      <th>14</th>\n",
              "      <td>2</td>\n",
              "      <td>class</td>\n",
              "      <td>-1.756499</td>\n",
              "    </tr>\n",
              "    <tr>\n",
              "      <th>15</th>\n",
              "      <td>0</td>\n",
              "      <td>designation</td>\n",
              "      <td>-0.398747</td>\n",
              "    </tr>\n",
              "    <tr>\n",
              "      <th>16</th>\n",
              "      <td>1</td>\n",
              "      <td>designation</td>\n",
              "      <td>0.557827</td>\n",
              "    </tr>\n",
              "    <tr>\n",
              "      <th>17</th>\n",
              "      <td>2</td>\n",
              "      <td>designation</td>\n",
              "      <td>-2.027698</td>\n",
              "    </tr>\n",
              "  </tbody>\n",
              "</table>\n",
              "</div>\n",
              "      <button class=\"colab-df-convert\" onclick=\"convertToInteractive('df-b5743c87-f834-4872-a3b8-de7d6b916d23')\"\n",
              "              title=\"Convert this dataframe to an interactive table.\"\n",
              "              style=\"display:none;\">\n",
              "        \n",
              "  <svg xmlns=\"http://www.w3.org/2000/svg\" height=\"24px\"viewBox=\"0 0 24 24\"\n",
              "       width=\"24px\">\n",
              "    <path d=\"M0 0h24v24H0V0z\" fill=\"none\"/>\n",
              "    <path d=\"M18.56 5.44l.94 2.06.94-2.06 2.06-.94-2.06-.94-.94-2.06-.94 2.06-2.06.94zm-11 1L8.5 8.5l.94-2.06 2.06-.94-2.06-.94L8.5 2.5l-.94 2.06-2.06.94zm10 10l.94 2.06.94-2.06 2.06-.94-2.06-.94-.94-2.06-.94 2.06-2.06.94z\"/><path d=\"M17.41 7.96l-1.37-1.37c-.4-.4-.92-.59-1.43-.59-.52 0-1.04.2-1.43.59L10.3 9.45l-7.72 7.72c-.78.78-.78 2.05 0 2.83L4 21.41c.39.39.9.59 1.41.59.51 0 1.02-.2 1.41-.59l7.78-7.78 2.81-2.81c.8-.78.8-2.07 0-2.86zM5.41 20L4 18.59l7.72-7.72 1.47 1.35L5.41 20z\"/>\n",
              "  </svg>\n",
              "      </button>\n",
              "      \n",
              "  <style>\n",
              "    .colab-df-container {\n",
              "      display:flex;\n",
              "      flex-wrap:wrap;\n",
              "      gap: 12px;\n",
              "    }\n",
              "\n",
              "    .colab-df-convert {\n",
              "      background-color: #E8F0FE;\n",
              "      border: none;\n",
              "      border-radius: 50%;\n",
              "      cursor: pointer;\n",
              "      display: none;\n",
              "      fill: #1967D2;\n",
              "      height: 32px;\n",
              "      padding: 0 0 0 0;\n",
              "      width: 32px;\n",
              "    }\n",
              "\n",
              "    .colab-df-convert:hover {\n",
              "      background-color: #E2EBFA;\n",
              "      box-shadow: 0px 1px 2px rgba(60, 64, 67, 0.3), 0px 1px 3px 1px rgba(60, 64, 67, 0.15);\n",
              "      fill: #174EA6;\n",
              "    }\n",
              "\n",
              "    [theme=dark] .colab-df-convert {\n",
              "      background-color: #3B4455;\n",
              "      fill: #D2E3FC;\n",
              "    }\n",
              "\n",
              "    [theme=dark] .colab-df-convert:hover {\n",
              "      background-color: #434B5C;\n",
              "      box-shadow: 0px 1px 3px 1px rgba(0, 0, 0, 0.15);\n",
              "      filter: drop-shadow(0px 1px 2px rgba(0, 0, 0, 0.3));\n",
              "      fill: #FFFFFF;\n",
              "    }\n",
              "  </style>\n",
              "\n",
              "      <script>\n",
              "        const buttonEl =\n",
              "          document.querySelector('#df-b5743c87-f834-4872-a3b8-de7d6b916d23 button.colab-df-convert');\n",
              "        buttonEl.style.display =\n",
              "          google.colab.kernel.accessAllowed ? 'block' : 'none';\n",
              "\n",
              "        async function convertToInteractive(key) {\n",
              "          const element = document.querySelector('#df-b5743c87-f834-4872-a3b8-de7d6b916d23');\n",
              "          const dataTable =\n",
              "            await google.colab.kernel.invokeFunction('convertToInteractive',\n",
              "                                                     [key], {});\n",
              "          if (!dataTable) return;\n",
              "\n",
              "          const docLinkHtml = 'Like what you see? Visit the ' +\n",
              "            '<a target=\"_blank\" href=https://colab.research.google.com/notebooks/data_table.ipynb>data table notebook</a>'\n",
              "            + ' to learn more about interactive tables.';\n",
              "          element.innerHTML = '';\n",
              "          dataTable['output_type'] = 'display_data';\n",
              "          await google.colab.output.renderOutput(dataTable, element);\n",
              "          const docLink = document.createElement('div');\n",
              "          docLink.innerHTML = docLinkHtml;\n",
              "          element.appendChild(docLink);\n",
              "        }\n",
              "      </script>\n",
              "    </div>\n",
              "  </div>\n",
              "  "
            ]
          },
          "metadata": {},
          "execution_count": 463
        }
      ]
    },
    {
      "cell_type": "code",
      "source": [
        "import plotly.express as px\n",
        "fig = px.line_polar(polar,r='value',theta='variable',color='label',line_close=True,height=700,width=800)\n",
        "fig.show()"
      ],
      "metadata": {
        "colab": {
          "base_uri": "https://localhost:8080/",
          "height": 717
        },
        "id": "470DDWtC_mVR",
        "outputId": "105ce410-5e5e-4cfa-e95c-f35d275ab7e6"
      },
      "execution_count": null,
      "outputs": [
        {
          "output_type": "display_data",
          "data": {
            "text/html": [
              "<html>\n",
              "<head><meta charset=\"utf-8\" /></head>\n",
              "<body>\n",
              "    <div>            <script src=\"https://cdnjs.cloudflare.com/ajax/libs/mathjax/2.7.5/MathJax.js?config=TeX-AMS-MML_SVG\"></script><script type=\"text/javascript\">if (window.MathJax) {MathJax.Hub.Config({SVG: {font: \"STIX-Web\"}});}</script>                <script type=\"text/javascript\">window.PlotlyConfig = {MathJaxConfig: 'local'};</script>\n",
              "        <script src=\"https://cdn.plot.ly/plotly-2.8.3.min.js\"></script>                <div id=\"e776a8e2-d322-4106-b4e0-2ad63c047f0b\" class=\"plotly-graph-div\" style=\"height:700px; width:800px;\"></div>            <script type=\"text/javascript\">                                    window.PLOTLYENV=window.PLOTLYENV || {};                                    if (document.getElementById(\"e776a8e2-d322-4106-b4e0-2ad63c047f0b\")) {                    Plotly.newPlot(                        \"e776a8e2-d322-4106-b4e0-2ad63c047f0b\",                        [{\"hovertemplate\":\"label=0<br>value=%{r}<br>variable=%{theta}<extra></extra>\",\"legendgroup\":\"0\",\"line\":{\"color\":\"#636efa\",\"dash\":\"solid\"},\"marker\":{\"symbol\":\"circle\"},\"mode\":\"lines\",\"name\":\"0\",\"r\":[0.2520937330447553,0.029464691503033724,0.778188709329624,-1.0168775914620043,-0.7056809715402446,-0.39874694698982704,0.2520937330447553],\"showlegend\":true,\"subplot\":\"polar\",\"theta\":[\"ctc\",\"experience_years\",\"company_average\",\"tier\",\"class\",\"designation\",\"ctc\"],\"type\":\"scatterpolar\"},{\"hovertemplate\":\"label=1<br>value=%{r}<br>variable=%{theta}<extra></extra>\",\"legendgroup\":\"1\",\"line\":{\"color\":\"#EF553B\",\"dash\":\"solid\"},\"marker\":{\"symbol\":\"circle\"},\"mode\":\"lines\",\"name\":\"1\",\"r\":[-0.4920191570698316,-0.20334976022702006,-0.626696101475153,0.7036049210821252,0.6398162971744139,0.5578265608312449,-0.4920191570698316],\"showlegend\":true,\"subplot\":\"polar\",\"theta\":[\"ctc\",\"experience_years\",\"company_average\",\"tier\",\"class\",\"designation\",\"ctc\"],\"type\":\"scatterpolar\"},{\"hovertemplate\":\"label=2<br>value=%{r}<br>variable=%{theta}<extra></extra>\",\"legendgroup\":\"2\",\"line\":{\"color\":\"#00cc96\",\"dash\":\"solid\"},\"marker\":{\"symbol\":\"circle\"},\"mode\":\"lines\",\"name\":\"2\",\"r\":[2.0168275307753443,1.0048372363997415,1.521101282898213,-1.3795446254515615,-1.7564991277081392,-2.0276978233438054,2.0168275307753443],\"showlegend\":true,\"subplot\":\"polar\",\"theta\":[\"ctc\",\"experience_years\",\"company_average\",\"tier\",\"class\",\"designation\",\"ctc\"],\"type\":\"scatterpolar\"}],                        {\"template\":{\"data\":{\"bar\":[{\"error_x\":{\"color\":\"#2a3f5f\"},\"error_y\":{\"color\":\"#2a3f5f\"},\"marker\":{\"line\":{\"color\":\"#E5ECF6\",\"width\":0.5},\"pattern\":{\"fillmode\":\"overlay\",\"size\":10,\"solidity\":0.2}},\"type\":\"bar\"}],\"barpolar\":[{\"marker\":{\"line\":{\"color\":\"#E5ECF6\",\"width\":0.5},\"pattern\":{\"fillmode\":\"overlay\",\"size\":10,\"solidity\":0.2}},\"type\":\"barpolar\"}],\"carpet\":[{\"aaxis\":{\"endlinecolor\":\"#2a3f5f\",\"gridcolor\":\"white\",\"linecolor\":\"white\",\"minorgridcolor\":\"white\",\"startlinecolor\":\"#2a3f5f\"},\"baxis\":{\"endlinecolor\":\"#2a3f5f\",\"gridcolor\":\"white\",\"linecolor\":\"white\",\"minorgridcolor\":\"white\",\"startlinecolor\":\"#2a3f5f\"},\"type\":\"carpet\"}],\"choropleth\":[{\"colorbar\":{\"outlinewidth\":0,\"ticks\":\"\"},\"type\":\"choropleth\"}],\"contour\":[{\"colorbar\":{\"outlinewidth\":0,\"ticks\":\"\"},\"colorscale\":[[0.0,\"#0d0887\"],[0.1111111111111111,\"#46039f\"],[0.2222222222222222,\"#7201a8\"],[0.3333333333333333,\"#9c179e\"],[0.4444444444444444,\"#bd3786\"],[0.5555555555555556,\"#d8576b\"],[0.6666666666666666,\"#ed7953\"],[0.7777777777777778,\"#fb9f3a\"],[0.8888888888888888,\"#fdca26\"],[1.0,\"#f0f921\"]],\"type\":\"contour\"}],\"contourcarpet\":[{\"colorbar\":{\"outlinewidth\":0,\"ticks\":\"\"},\"type\":\"contourcarpet\"}],\"heatmap\":[{\"colorbar\":{\"outlinewidth\":0,\"ticks\":\"\"},\"colorscale\":[[0.0,\"#0d0887\"],[0.1111111111111111,\"#46039f\"],[0.2222222222222222,\"#7201a8\"],[0.3333333333333333,\"#9c179e\"],[0.4444444444444444,\"#bd3786\"],[0.5555555555555556,\"#d8576b\"],[0.6666666666666666,\"#ed7953\"],[0.7777777777777778,\"#fb9f3a\"],[0.8888888888888888,\"#fdca26\"],[1.0,\"#f0f921\"]],\"type\":\"heatmap\"}],\"heatmapgl\":[{\"colorbar\":{\"outlinewidth\":0,\"ticks\":\"\"},\"colorscale\":[[0.0,\"#0d0887\"],[0.1111111111111111,\"#46039f\"],[0.2222222222222222,\"#7201a8\"],[0.3333333333333333,\"#9c179e\"],[0.4444444444444444,\"#bd3786\"],[0.5555555555555556,\"#d8576b\"],[0.6666666666666666,\"#ed7953\"],[0.7777777777777778,\"#fb9f3a\"],[0.8888888888888888,\"#fdca26\"],[1.0,\"#f0f921\"]],\"type\":\"heatmapgl\"}],\"histogram\":[{\"marker\":{\"pattern\":{\"fillmode\":\"overlay\",\"size\":10,\"solidity\":0.2}},\"type\":\"histogram\"}],\"histogram2d\":[{\"colorbar\":{\"outlinewidth\":0,\"ticks\":\"\"},\"colorscale\":[[0.0,\"#0d0887\"],[0.1111111111111111,\"#46039f\"],[0.2222222222222222,\"#7201a8\"],[0.3333333333333333,\"#9c179e\"],[0.4444444444444444,\"#bd3786\"],[0.5555555555555556,\"#d8576b\"],[0.6666666666666666,\"#ed7953\"],[0.7777777777777778,\"#fb9f3a\"],[0.8888888888888888,\"#fdca26\"],[1.0,\"#f0f921\"]],\"type\":\"histogram2d\"}],\"histogram2dcontour\":[{\"colorbar\":{\"outlinewidth\":0,\"ticks\":\"\"},\"colorscale\":[[0.0,\"#0d0887\"],[0.1111111111111111,\"#46039f\"],[0.2222222222222222,\"#7201a8\"],[0.3333333333333333,\"#9c179e\"],[0.4444444444444444,\"#bd3786\"],[0.5555555555555556,\"#d8576b\"],[0.6666666666666666,\"#ed7953\"],[0.7777777777777778,\"#fb9f3a\"],[0.8888888888888888,\"#fdca26\"],[1.0,\"#f0f921\"]],\"type\":\"histogram2dcontour\"}],\"mesh3d\":[{\"colorbar\":{\"outlinewidth\":0,\"ticks\":\"\"},\"type\":\"mesh3d\"}],\"parcoords\":[{\"line\":{\"colorbar\":{\"outlinewidth\":0,\"ticks\":\"\"}},\"type\":\"parcoords\"}],\"pie\":[{\"automargin\":true,\"type\":\"pie\"}],\"scatter\":[{\"marker\":{\"colorbar\":{\"outlinewidth\":0,\"ticks\":\"\"}},\"type\":\"scatter\"}],\"scatter3d\":[{\"line\":{\"colorbar\":{\"outlinewidth\":0,\"ticks\":\"\"}},\"marker\":{\"colorbar\":{\"outlinewidth\":0,\"ticks\":\"\"}},\"type\":\"scatter3d\"}],\"scattercarpet\":[{\"marker\":{\"colorbar\":{\"outlinewidth\":0,\"ticks\":\"\"}},\"type\":\"scattercarpet\"}],\"scattergeo\":[{\"marker\":{\"colorbar\":{\"outlinewidth\":0,\"ticks\":\"\"}},\"type\":\"scattergeo\"}],\"scattergl\":[{\"marker\":{\"colorbar\":{\"outlinewidth\":0,\"ticks\":\"\"}},\"type\":\"scattergl\"}],\"scattermapbox\":[{\"marker\":{\"colorbar\":{\"outlinewidth\":0,\"ticks\":\"\"}},\"type\":\"scattermapbox\"}],\"scatterpolar\":[{\"marker\":{\"colorbar\":{\"outlinewidth\":0,\"ticks\":\"\"}},\"type\":\"scatterpolar\"}],\"scatterpolargl\":[{\"marker\":{\"colorbar\":{\"outlinewidth\":0,\"ticks\":\"\"}},\"type\":\"scatterpolargl\"}],\"scatterternary\":[{\"marker\":{\"colorbar\":{\"outlinewidth\":0,\"ticks\":\"\"}},\"type\":\"scatterternary\"}],\"surface\":[{\"colorbar\":{\"outlinewidth\":0,\"ticks\":\"\"},\"colorscale\":[[0.0,\"#0d0887\"],[0.1111111111111111,\"#46039f\"],[0.2222222222222222,\"#7201a8\"],[0.3333333333333333,\"#9c179e\"],[0.4444444444444444,\"#bd3786\"],[0.5555555555555556,\"#d8576b\"],[0.6666666666666666,\"#ed7953\"],[0.7777777777777778,\"#fb9f3a\"],[0.8888888888888888,\"#fdca26\"],[1.0,\"#f0f921\"]],\"type\":\"surface\"}],\"table\":[{\"cells\":{\"fill\":{\"color\":\"#EBF0F8\"},\"line\":{\"color\":\"white\"}},\"header\":{\"fill\":{\"color\":\"#C8D4E3\"},\"line\":{\"color\":\"white\"}},\"type\":\"table\"}]},\"layout\":{\"annotationdefaults\":{\"arrowcolor\":\"#2a3f5f\",\"arrowhead\":0,\"arrowwidth\":1},\"autotypenumbers\":\"strict\",\"coloraxis\":{\"colorbar\":{\"outlinewidth\":0,\"ticks\":\"\"}},\"colorscale\":{\"diverging\":[[0,\"#8e0152\"],[0.1,\"#c51b7d\"],[0.2,\"#de77ae\"],[0.3,\"#f1b6da\"],[0.4,\"#fde0ef\"],[0.5,\"#f7f7f7\"],[0.6,\"#e6f5d0\"],[0.7,\"#b8e186\"],[0.8,\"#7fbc41\"],[0.9,\"#4d9221\"],[1,\"#276419\"]],\"sequential\":[[0.0,\"#0d0887\"],[0.1111111111111111,\"#46039f\"],[0.2222222222222222,\"#7201a8\"],[0.3333333333333333,\"#9c179e\"],[0.4444444444444444,\"#bd3786\"],[0.5555555555555556,\"#d8576b\"],[0.6666666666666666,\"#ed7953\"],[0.7777777777777778,\"#fb9f3a\"],[0.8888888888888888,\"#fdca26\"],[1.0,\"#f0f921\"]],\"sequentialminus\":[[0.0,\"#0d0887\"],[0.1111111111111111,\"#46039f\"],[0.2222222222222222,\"#7201a8\"],[0.3333333333333333,\"#9c179e\"],[0.4444444444444444,\"#bd3786\"],[0.5555555555555556,\"#d8576b\"],[0.6666666666666666,\"#ed7953\"],[0.7777777777777778,\"#fb9f3a\"],[0.8888888888888888,\"#fdca26\"],[1.0,\"#f0f921\"]]},\"colorway\":[\"#636efa\",\"#EF553B\",\"#00cc96\",\"#ab63fa\",\"#FFA15A\",\"#19d3f3\",\"#FF6692\",\"#B6E880\",\"#FF97FF\",\"#FECB52\"],\"font\":{\"color\":\"#2a3f5f\"},\"geo\":{\"bgcolor\":\"white\",\"lakecolor\":\"white\",\"landcolor\":\"#E5ECF6\",\"showlakes\":true,\"showland\":true,\"subunitcolor\":\"white\"},\"hoverlabel\":{\"align\":\"left\"},\"hovermode\":\"closest\",\"mapbox\":{\"style\":\"light\"},\"paper_bgcolor\":\"white\",\"plot_bgcolor\":\"#E5ECF6\",\"polar\":{\"angularaxis\":{\"gridcolor\":\"white\",\"linecolor\":\"white\",\"ticks\":\"\"},\"bgcolor\":\"#E5ECF6\",\"radialaxis\":{\"gridcolor\":\"white\",\"linecolor\":\"white\",\"ticks\":\"\"}},\"scene\":{\"xaxis\":{\"backgroundcolor\":\"#E5ECF6\",\"gridcolor\":\"white\",\"gridwidth\":2,\"linecolor\":\"white\",\"showbackground\":true,\"ticks\":\"\",\"zerolinecolor\":\"white\"},\"yaxis\":{\"backgroundcolor\":\"#E5ECF6\",\"gridcolor\":\"white\",\"gridwidth\":2,\"linecolor\":\"white\",\"showbackground\":true,\"ticks\":\"\",\"zerolinecolor\":\"white\"},\"zaxis\":{\"backgroundcolor\":\"#E5ECF6\",\"gridcolor\":\"white\",\"gridwidth\":2,\"linecolor\":\"white\",\"showbackground\":true,\"ticks\":\"\",\"zerolinecolor\":\"white\"}},\"shapedefaults\":{\"line\":{\"color\":\"#2a3f5f\"}},\"ternary\":{\"aaxis\":{\"gridcolor\":\"white\",\"linecolor\":\"white\",\"ticks\":\"\"},\"baxis\":{\"gridcolor\":\"white\",\"linecolor\":\"white\",\"ticks\":\"\"},\"bgcolor\":\"#E5ECF6\",\"caxis\":{\"gridcolor\":\"white\",\"linecolor\":\"white\",\"ticks\":\"\"}},\"title\":{\"x\":0.05},\"xaxis\":{\"automargin\":true,\"gridcolor\":\"white\",\"linecolor\":\"white\",\"ticks\":\"\",\"title\":{\"standoff\":15},\"zerolinecolor\":\"white\",\"zerolinewidth\":2},\"yaxis\":{\"automargin\":true,\"gridcolor\":\"white\",\"linecolor\":\"white\",\"ticks\":\"\",\"title\":{\"standoff\":15},\"zerolinecolor\":\"white\",\"zerolinewidth\":2}}},\"polar\":{\"domain\":{\"x\":[0.0,1.0],\"y\":[0.0,1.0]},\"angularaxis\":{\"direction\":\"clockwise\",\"rotation\":90}},\"legend\":{\"title\":{\"text\":\"label\"},\"tracegroupgap\":0},\"margin\":{\"t\":60},\"height\":700,\"width\":800},                        {\"responsive\": true}                    ).then(function(){\n",
              "                            \n",
              "var gd = document.getElementById('e776a8e2-d322-4106-b4e0-2ad63c047f0b');\n",
              "var x = new MutationObserver(function (mutations, observer) {{\n",
              "        var display = window.getComputedStyle(gd).display;\n",
              "        if (!display || display === 'none') {{\n",
              "            console.log([gd, 'removed!']);\n",
              "            Plotly.purge(gd);\n",
              "            observer.disconnect();\n",
              "        }}\n",
              "}});\n",
              "\n",
              "// Listen for the removal of the full notebook cells\n",
              "var notebookContainer = gd.closest('#notebook-container');\n",
              "if (notebookContainer) {{\n",
              "    x.observe(notebookContainer, {childList: true});\n",
              "}}\n",
              "\n",
              "// Listen for the clearing of the current output cell\n",
              "var outputEl = gd.closest('.output');\n",
              "if (outputEl) {{\n",
              "    x.observe(outputEl, {childList: true});\n",
              "}}\n",
              "\n",
              "                        })                };                            </script>        </div>\n",
              "</body>\n",
              "</html>"
            ]
          },
          "metadata": {}
        }
      ]
    },
    {
      "cell_type": "markdown",
      "source": [
        "**Observations**\n",
        "\n",
        "* label 2 employee's have the highest ctc, highest experience and lowest tier, class and designation rating\n",
        "* label 1 employee's have the lowest ctc, lowest experience and highest tier,class and designation rating \n",
        "* label 0 is in the middle ground"
      ],
      "metadata": {
        "id": "8KbKwlg0icDg"
      }
    },
    {
      "cell_type": "markdown",
      "source": [
        "###**Finding the best k**"
      ],
      "metadata": {
        "id": "XDrljEjjCkYr"
      }
    },
    {
      "cell_type": "code",
      "source": [
        "#Inertia = Within cluster sum of sqaure\n",
        "kmeans_per_k = [KMeans(n_clusters=k, random_state = 46).fit(X) for k in range(1,10)]\n",
        "\n",
        "inertias = [model.inertia_ for model in kmeans_per_k]"
      ],
      "metadata": {
        "id": "cmF_0Vm9CpJb"
      },
      "execution_count": null,
      "outputs": []
    },
    {
      "cell_type": "code",
      "source": [
        "plt.figure(figsize=(12,8))\n",
        "plt.plot(range(1,10),inertias, \"bo-\" )\n",
        "plt.xlabel(\"$k$\",fontsize=14)\n",
        "plt.ylabel(\"Inertia\",fontsize=14)\n",
        "plt.annotate('Elbow', xy = (3, inertias[2]), xytext=(0.55,0.55),textcoords = 'figure fraction',fontsize=16,arrowprops=dict(facecolor='black',shrink=0.1))\n",
        "plt.show()"
      ],
      "metadata": {
        "colab": {
          "base_uri": "https://localhost:8080/",
          "height": 513
        },
        "id": "u051BAU1C0kA",
        "outputId": "209f37fb-298c-4b4f-8584-5889ef6241f7"
      },
      "execution_count": null,
      "outputs": [
        {
          "output_type": "display_data",
          "data": {
            "text/plain": [
              "<Figure size 864x576 with 1 Axes>"
            ],
            "image/png": "[encoded data removed]"
          },
          "metadata": {
            "needs_background": "light"
          }
        }
      ]
    },
    {
      "cell_type": "markdown",
      "source": [
        "**Observation**\n",
        "\n",
        "* With the elbow method, we saw a steep decline at k=2 and further on the decline slowed down which signifies ideal k should be 2.\n",
        "\n",
        "* However taking into consideration the domain perspective, it would be wise to have 3 clusters since we can group individuals into \n",
        "1. Over achievers\n",
        "2. Mediocre \n",
        "3. Under achievers\n"
      ],
      "metadata": {
        "id": "XB3cyLvnjcQV"
      }
    },
    {
      "cell_type": "markdown",
      "source": [
        "#**Hierarchial Clustering**"
      ],
      "metadata": {
        "id": "pZNQYlFtVJ3N"
      }
    },
    {
      "cell_type": "code",
      "source": [
        "X = df[[ 'ctc', 'experience_years', 'company_average', 'tier',\n",
        "       'class', 'designation']]"
      ],
      "metadata": {
        "id": "pnmGndW-VY19"
      },
      "execution_count": null,
      "outputs": []
    },
    {
      "cell_type": "code",
      "source": [
        "#Scaling the data\n",
        "from sklearn.preprocessing import StandardScaler\n",
        "\n",
        "scaler = StandardScaler()\n",
        "scaler.fit(X)\n",
        "X = scaler.transform(X)"
      ],
      "metadata": {
        "id": "HrQzYsbVVRU2"
      },
      "execution_count": null,
      "outputs": []
    },
    {
      "cell_type": "code",
      "source": [
        "#new df for hierarchial clustering\n",
        "scaled_df = pd.DataFrame(X, columns= [ 'ctc', 'experience_years', 'company_average', 'tier',\n",
        "       'class', 'designation'], index=df.index)"
      ],
      "metadata": {
        "id": "eZSwLUibVcUm"
      },
      "execution_count": null,
      "outputs": []
    },
    {
      "cell_type": "code",
      "source": [
        "# Taking a sample of the dataset to speed up the time\n",
        "scaled_df = scaled_df.sample(n=30000)"
      ],
      "metadata": {
        "id": "o-zA-GVTVtbF"
      },
      "execution_count": null,
      "outputs": []
    },
    {
      "cell_type": "code",
      "source": [
        "# import hierarchical clustering libraries\n",
        "import scipy.cluster.hierarchy as sch\n",
        "# Refer https://docs.scipy.org/doc/scipy/reference/generated/scipy.cluster.hierarchy.linkage.html#scipy.cluster.hierarchy.linkage\n",
        "Z = sch.linkage(scaled_df, method='ward') #linkage = ward"
      ],
      "metadata": {
        "id": "dzFTG4AnW9mw"
      },
      "execution_count": null,
      "outputs": []
    },
    {
      "cell_type": "code",
      "source": [
        "#looking at the shape of the total clusters\n",
        "Z.shape"
      ],
      "metadata": {
        "colab": {
          "base_uri": "https://localhost:8080/"
        },
        "id": "PthiEtN5XRXs",
        "outputId": "7c2528f0-fd54-4a50-b1d1-d6ffd9a3458c"
      },
      "execution_count": null,
      "outputs": [
        {
          "output_type": "execute_result",
          "data": {
            "text/plain": [
              "(29999, 4)"
            ]
          },
          "metadata": {},
          "execution_count": 477
        }
      ]
    },
    {
      "cell_type": "code",
      "source": [
        "#Visualizing the clusters\n",
        "fig, ax = plt.subplots(figsize=(14, 8))\n",
        "sch.dendrogram(Z, labels=scaled_df.index, ax=ax, color_threshold=2)\n",
        "plt.xticks(rotation=90)\n",
        "ax.set_ylabel('distance')"
      ],
      "metadata": {
        "colab": {
          "base_uri": "https://localhost:8080/",
          "height": 509
        },
        "id": "zluPYHKMXSmH",
        "outputId": "093c66c2-c6be-4231-8d9c-5911f642b734"
      },
      "execution_count": null,
      "outputs": [
        {
          "output_type": "execute_result",
          "data": {
            "text/plain": [
              "Text(0, 0.5, 'distance')"
            ]
          },
          "metadata": {},
          "execution_count": 478
        },
        {
          "output_type": "display_data",
          "data": {
            "text/plain": [
              "<Figure size 1008x576 with 1 Axes>"
            ],
            "image/png": "[encoded data removed]"
          },
          "metadata": {
            "needs_background": "light"
          }
        }
      ]
    },
    {
      "cell_type": "markdown",
      "source": [
        "**Observations**\n",
        "* Hierarchial clustering becomes very complex to visualize when there is a lot of data points."
      ],
      "metadata": {
        "id": "qu9Nvboal4aZ"
      }
    },
    {
      "cell_type": "markdown",
      "source": [
        "**Method 2 for hierarchial clustering**"
      ],
      "metadata": {
        "id": "My5bWHzrlZzH"
      }
    },
    {
      "cell_type": "code",
      "source": [
        "# import hierarchical clustering libraries\n",
        "from sklearn.cluster import AgglomerativeClustering\n",
        "# create clusters\n",
        "hc_2020 = AgglomerativeClustering(n_clusters=3, affinity = 'euclidean', linkage = 'ward')\n",
        "y_pred = hc_2020.fit_predict(scaled_df)"
      ],
      "metadata": {
        "id": "jF0-xC2zcFbp"
      },
      "execution_count": null,
      "outputs": []
    },
    {
      "cell_type": "code",
      "source": [
        "#Plot a line graph to see the characteristics of the clusters\n",
        "scaled_df['label'] = pd.Series(y_pred, index=scaled_df.index)\n",
        "\n",
        "clustered_df = scaled_df.groupby('label').mean()\n",
        "\n",
        "labels = ['Cluster 1', 'Cluster 2', 'Cluster 3']\n",
        "\n",
        "plt.figure(figsize=(14,8))\n",
        "plt.plot(clustered_df.T, label=labels)\n",
        "plt.xticks(rotation=90)\n",
        "plt.legend(labels)"
      ],
      "metadata": {
        "colab": {
          "base_uri": "https://localhost:8080/",
          "height": 581
        },
        "id": "MYo9cTJqclnL",
        "outputId": "823a3d87-b964-4163-8bb3-243953ea96bd"
      },
      "execution_count": null,
      "outputs": [
        {
          "output_type": "execute_result",
          "data": {
            "text/plain": [
              "<matplotlib.legend.Legend at 0x7fde5a525f50>"
            ]
          },
          "metadata": {},
          "execution_count": 483
        },
        {
          "output_type": "display_data",
          "data": {
            "text/plain": [
              "<Figure size 1008x576 with 1 Axes>"
            ],
            "image/png": "[encoded data removed]"
          },
          "metadata": {
            "needs_background": "light"
          }
        }
      ]
    },
    {
      "cell_type": "markdown",
      "source": [
        "**Observations**\n",
        "* This is a much simpler way to visualize the hierarchial clustering results\n",
        "* We have 3 cluster : cluster 1, 2 & 3\n",
        "* The results are similar to K means clustering."
      ],
      "metadata": {
        "id": "4NPCwVDgmD-i"
      }
    },
    {
      "cell_type": "markdown",
      "source": [
        "**Insights from Unsupervised Clustering**\n",
        "\n",
        "* Both K means and Hierarchial clustering in this case gave similar clusters\n",
        "* Cluster 1 from hierarchial clusters and label 2 from k means are similar clusters in which employee's typically have high ctc, high experience and low tier, class and designation ratings. This group of clusters are typically the high achievers. They are the creamy layer. It is very likely that these group of people are working in FAANG/MAANG(Tier 1) companies\n",
        "* Cluster 2 from hierarchial clusters and label 1 from the k means are similar clusters in which employee's typically have low ctc, low experience and high tier, class and designation ratings. These are the group of people typically working for Tier 3 companies.\n",
        "* Cluster 3 from hierarchial clusters and label 0 from the k means are similar clusters wherein they are the pool of employee's between the two extreme's"
      ],
      "metadata": {
        "id": "dqZIDhUEmzHt"
      }
    },
    {
      "cell_type": "markdown",
      "source": [
        "###**Business Insights & Recommendations**\n",
        "\n",
        "**Business Insights**\n",
        "* Backend enginner salary > Fullstack engineer salary > Frontend engineer salary\n",
        "* The salary trends of a data scientist and a backend engineer go hand in hand till about 15 years of experience.\n",
        "* **\"pvbqhu wgrrtst ge cgwvnxgzvr nqvxzxzs\"**\tcompany has the highest average CTC across all companies\n",
        "* Backend Engineer, Fullstack Engineer, Android Engineer are the highest paid professions across most of the companies \n",
        "\n",
        "**Recommendations**\n",
        "* Scaler can use the designation flags and make comparisions across employee's working in different companies and different domains with different experience. With this  handbook, the leads team can pitch to a potential candidate who falls in the designation pool of 3 to upskill himself so that he can fall into the designation pool of 2 or 1 whose salaries will be significantly higher.\n",
        "\n",
        "* Good leadership is the key to success in business and in any field. \n",
        "Scaler should start a new vertical for “Engineering Leadership” as a micro course where practical leadership skills can be taught. This course will eventually help student’s get good packages since it is one of the top 10 highest paying jobs in India."
      ],
      "metadata": {
        "id": "uMrV03KrpFbd"
      }
    }
  ]
}